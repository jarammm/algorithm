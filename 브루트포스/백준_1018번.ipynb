{
  "nbformat": 4,
  "nbformat_minor": 0,
  "metadata": {
    "colab": {
      "name": "백준 1018번.ipynb",
      "provenance": [],
      "collapsed_sections": [],
      "authorship_tag": "ABX9TyMmy6uBO4McAOaCFg714wwe"
    },
    "kernelspec": {
      "name": "python3",
      "display_name": "Python 3"
    },
    "language_info": {
      "name": "python"
    }
  },
  "cells": [
    {
      "cell_type": "markdown",
      "metadata": {
        "id": "ZvL0e96Pk1n3"
      },
      "source": [
        "# 체스판 다시 칠하기\n",
        "\n",
        "* 단계별 풀이 : 11단계(브루트 포스) - 4단계 1018번 체스판 다시 칠하기\n",
        "<br/>\n",
        "\n",
        "\n",
        "## 문제\n",
        "\n",
        "지민이는 자신의 저택에서 MN개의 단위 정사각형으로 나누어져 있는 M×N 크기의 보드를 찾았다. 어떤 정사각형은 검은색으로 칠해져 있고, 나머지는 흰색으로 칠해져 있다. 지민이는 이 보드를 잘라서 8×8 크기의 체스판으로 만들려고 한다.\n",
        "<br/><br/>\n",
        "체스판은 검은색과 흰색이 번갈아서 칠해져 있어야 한다. 구체적으로, 각 칸이 검은색과 흰색 중 하나로 색칠되어 있고, 변을 공유하는 두 개의 사각형은 다른 색으로 칠해져 있어야 한다. 따라서 이 정의를 따르면 체스판을 색칠하는 경우는 두 가지뿐이다. 하나는 맨 왼쪽 위 칸이 흰색인 경우, 하나는 검은색인 경우이다.\n",
        "<br/><br/>\n",
        "보드가 체스판처럼 칠해져 있다는 보장이 없어서, 지민이는 8×8 크기의 체스판으로 잘라낸 후에 몇 개의 정사각형을 다시 칠해야겠다고 생각했다. 당연히 8*8 크기는 아무데서나 골라도 된다. 지민이가 다시 칠해야 하는 정사각형의 최소 개수를 구하는 프로그램을 작성하시오.\n",
        "<br/>\n",
        "\n",
        "### 입력\n",
        "\n",
        "첫째 줄에 N과 M이 주어진다. N과 M은 8보다 크거나 같고, 50보다 작거나 같은 자연수이다. 둘째 줄부터 N개의 줄에는 보드의 각 행의 상태가 주어진다. B는 검은색이며, W는 흰색이다.\n",
        "<br/>\n",
        "\n",
        "### 출력\n",
        "\n",
        "첫째 줄에 지민이가 다시 칠해야 하는 정사각형 개수의 최솟값을 출력한다.\n",
        "<br/>\n",
        "\n",
        "### 제한\n",
        "\n",
        "* 2 ≤ N ≤ 50\n",
        "* 10 ≤ x, y ≤ 200\n",
        "<br/>\n",
        "\n",
        "#### 예제 입력 1 \n",
        "\n",
        "8 8<br/>\n",
        "WBWBWBWB<br/>\n",
        "BWBWBWBW<br/>\n",
        "WBWBWBWB<br/>\n",
        "BWBBBWBW<br/>\n",
        "WBWBWBWB<br/>\n",
        "BWBWBWBW<br/>\n",
        "WBWBWBWB<br/>\n",
        "BWBWBWBW<br/>\n",
        "<br/>\n",
        "\n",
        "#### 예제 출력 1\n",
        "\n",
        "1\n",
        "\n",
        "<br/>\n",
        "\n",
        "#### 예제 입력 2\n",
        "\n",
        "10 13<br/>\n",
        "BBBBBBBBWBWBW<br/>\n",
        "BBBBBBBBBWBWB<br/>\n",
        "BBBBBBBBWBWBW<br/>\n",
        "BBBBBBBBBWBWB<br/>\n",
        "BBBBBBBBWBWBW<br/>\n",
        "BBBBBBBBBWBWB<br/>\n",
        "BBBBBBBBWBWBW<br/>\n",
        "BBBBBBBBBWBWB<br/>\n",
        "WWWWWWWWWWBWB<br/>\n",
        "WWWWWWWWWWBWB<br/>\n",
        "\n",
        "<br/>\n",
        "\n",
        "#### 예제 출력 2\n",
        "\n",
        "12"
      ]
    },
    {
      "cell_type": "markdown",
      "metadata": {
        "id": "lErz5PhG2L7K"
      },
      "source": [
        "## 나의 풀이"
      ]
    },
    {
      "cell_type": "code",
      "metadata": {
        "colab": {
          "base_uri": "https://localhost:8080/"
        },
        "id": "oWt0g9EC1BzP",
        "outputId": "ac02bf69-6148-43aa-af22-2515c9cd0074"
      },
      "source": [
        "from itertools import product\n",
        "\n",
        "x, y = map(int,input().split())\n",
        "board = [input() for _ in range(x)]\n",
        "chess = []\n",
        "\n",
        "for i in range(len(board)):\n",
        "    temp = i\n",
        "    chess.append([])\n",
        "    for j in board[i]:\n",
        "        chess[-1].append(abs(temp % 2 - 1) if j == 'W' else temp % 2)\n",
        "        temp += 1\n",
        "\n",
        "lst = []\n",
        "\n",
        "for i in range(0,x - 7):\n",
        "    temp = sum(chess[x+i][y] for x, y in product(range(8),range(8)))\n",
        "    lst.append(abs(temp - 32))\n",
        "    for j in range(0,x-8):\n",
        "        temp -= sum(chess[x + i][j] for x in range(8))\n",
        "        temp += sum(chess[x + i][j + 8] for x in range(8))\n",
        "        lst.append(abs(temp - 32))\n",
        "\n",
        "print(32 - max(lst))"
      ],
      "execution_count": 7,
      "outputs": [
        {
          "output_type": "stream",
          "name": "stdout",
          "text": [
            "8 8\n",
            "WBWBWBWB\n",
            "BWBWBWBW\n",
            "WBWBWBWB\n",
            "BWBBBWBW\n",
            "WBWBWBWB\n",
            "BWBWBWBW\n",
            "WBWBWBWB\n",
            "BWBWBWBW\n",
            "1\n"
          ]
        }
      ]
    },
    {
      "cell_type": "markdown",
      "metadata": {
        "id": "ZbpqQqLd1Eeh"
      },
      "source": [
        "## 풀이\n",
        "\n",
        "[참고](https://leejunggae.tistory.com/14)"
      ]
    },
    {
      "cell_type": "code",
      "metadata": {
        "colab": {
          "base_uri": "https://localhost:8080/"
        },
        "id": "B4Q707f2VRbX",
        "outputId": "2ce5de79-fbaf-4671-d5f3-52de09f09bab"
      },
      "source": [
        "N, M = map(int, input().split())\n",
        "board = []\n",
        "mini = []\n",
        "\n",
        "for _ in range(N):\n",
        "    board.append(input())\n",
        "\n",
        "for a in range(N - 7):     # 행\n",
        "    for i in range(M - 7): # 열\n",
        "        idx1 = 0\n",
        "        idx2 = 0\n",
        "        for b in range(a, a + 8):\n",
        "            for j in range(i, i + 8):              # 8X8 범위를 B와 W로 번갈아가면서 검사\n",
        "                if (j + b)%2 == 0:\n",
        "                    if board[b][j] != 'W': idx1 += 1  \n",
        "                    if board[b][j] != 'B': idx2 += 1\n",
        "                else :\n",
        "                    if board[b][j] != 'B': idx1 += 1\n",
        "                    if board[b][j] != 'W': idx2 += 1\n",
        "        mini.append(idx1)                          # W로 시작했을 때 칠해야 할 부분\n",
        "        mini.append(idx2)                          # B로 시작했을 때 칠해야 할 부분\n",
        "\n",
        "print(min(mini))                                   # 칠해야 하는 개수의 최소값\n"
      ],
      "execution_count": 1,
      "outputs": [
        {
          "output_type": "stream",
          "name": "stdout",
          "text": [
            "10 13\n",
            "BBBBBBBBWBWBW\n",
            "BBBBBBBBBWBWB\n",
            "BBBBBBBBWBWBW\n",
            "BBBBBBBBBWBWB\n",
            "BBBBBBBBWBWBW\n",
            "BBBBBBBBBWBWB\n",
            "BBBBBBBBWBWBW\n",
            "BBBBBBBBBWBWB\n",
            "WWWWWWWWWWBWB\n",
            "WWWWWWWWWWBWB\n",
            "12\n"
          ]
        }
      ]
    }
  ]
}
