{
  "nbformat": 4,
  "nbformat_minor": 0,
  "metadata": {
    "colab": {
      "name": "백준 2751번.ipynb",
      "provenance": [],
      "collapsed_sections": [],
      "authorship_tag": "ABX9TyNsWEY05noF2JQFZ2wx6f/c"
    },
    "kernelspec": {
      "name": "python3",
      "display_name": "Python 3"
    },
    "language_info": {
      "name": "python"
    }
  },
  "cells": [
    {
      "cell_type": "markdown",
      "metadata": {
        "id": "ZvL0e96Pk1n3"
      },
      "source": [
        "# 수 정렬하기 2\n",
        "\n",
        "* 단계별 풀이 : 12단계(정렬) - 2단계 2751번 수 정렬하기 2\n",
        "> 시간 복잡도가 O(nlogn)인 정렬 알고리즘으로 풀 수 있습니다. 예를 들면 병합 정렬, 힙 정렬 등이 있지만, 어려운 알고리즘이므로 지금은 언어에 내장된 정렬 함수를 쓰는 것을 추천드립니다.\n",
        "<br/>\n",
        "\n",
        "\n",
        "## 문제\n",
        "\n",
        "N개의 수가 주어졌을 때, 이를 오름차순으로 정렬하는 프로그램을 작성하시오.\n",
        "<br/>\n",
        "\n",
        "### 입력\n",
        "첫째 줄에 수의 개수 N(1 ≤ N ≤ 1,000,000)이 주어진다. 둘째 줄부터 N개의 줄에는 수가 주어진다. 이 수는 절댓값이 1,000,000보다 작거나 같은 정수이다. 수는 중복되지 않는다.\n",
        "<br/>\n",
        "\n",
        "### 출력\n",
        "\n",
        "첫째 줄부터 N개의 줄에 오름차순으로 정렬한 결과를 한 줄에 하나씩 출력한다.\n",
        "<br/>\n",
        "\n",
        "#### 예제 입력 1 \n",
        "\n",
        "5<br/>\n",
        "5<br/>\n",
        "4<br/>\n",
        "3<br/>\n",
        "2<br/>\n",
        "1<br/>\n",
        "<br/>\n",
        "\n",
        "#### 예제 출력 1\n",
        "\n",
        "1<br/>\n",
        "2<br/>\n",
        "3<br/>\n",
        "4<br/>\n",
        "5"
      ]
    },
    {
      "cell_type": "markdown",
      "metadata": {
        "id": "lErz5PhG2L7K"
      },
      "source": [
        "## 나의 풀이"
      ]
    },
    {
      "cell_type": "code",
      "metadata": {
        "id": "6wwrLRWZB25q",
        "colab": {
          "base_uri": "https://localhost:8080/"
        },
        "outputId": "f8c2a0e1-0ee4-4db2-d068-a1dc87680771"
      },
      "source": [
        "import sys\n",
        " \n",
        "N = int(sys.stdin.readline())\n",
        "n = []\n",
        " \n",
        "for _ in range(N):\n",
        "    n.append(int(sys.stdin.readline()))\n",
        " \n",
        "for i in sorted(n):\n",
        "    print(i)"
      ],
      "execution_count": 1,
      "outputs": [
        {
          "output_type": "stream",
          "name": "stdout",
          "text": [
            "5\n",
            "5\n",
            "4\n",
            "3\n",
            "2\n",
            "1\n",
            "1\n",
            "2\n",
            "3\n",
            "4\n",
            "5\n"
          ]
        }
      ]
    }
  ]
}