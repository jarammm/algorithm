{
  "nbformat": 4,
  "nbformat_minor": 0,
  "metadata": {
    "colab": {
      "name": "백준 18870번.ipynb",
      "provenance": [],
      "collapsed_sections": [],
      "authorship_tag": "ABX9TyMKOdPKtUhHnWmnpo9IoZwo"
    },
    "kernelspec": {
      "name": "python3",
      "display_name": "Python 3"
    },
    "language_info": {
      "name": "python"
    }
  },
  "cells": [
    {
      "cell_type": "markdown",
      "metadata": {
        "id": "ZvL0e96Pk1n3"
      },
      "source": [
        "# 좌표 압축\n",
        "\n",
        "* 단계별 풀이 : 12단계(정렬) - 10단계 18870번 좌표 압축\n",
        "> 만약 정확한 값이 필요 없고 값의 대소 관계만 필요하다면, 모든 수를 0 이상 N 미만의 수로 바꿀 수 있습니다.\n",
        "\n",
        "<br/>\n",
        "\n",
        "\n",
        "## 문제\n",
        "\n",
        "직선 위에 N개의 좌표 $X_{1}, X_{2}, ..., X_{N}$이 있다. 이 좌표에 좌표 압축을 적용하려고 한다.\n",
        "\n",
        "$X_{i}$를 좌표 압축한 결과 $X'_{i}의 값은 X_{i} > X_{j}$를 만족하는 서로 다른 좌표의 개수와 같아야 한다.\n",
        "\n",
        "$X_{1}, X_{2}, ..., X_{N}$에 좌표 압축을 적용한 결과 $X'_{1}, X'_{2}, ..., X'_{N}$를 출력해보자.\n",
        "\n",
        "<br/>\n",
        "\n",
        "### 입력\n",
        "첫째 줄에 N이 주어진다.\n",
        "<br/>\n",
        "둘째 줄에는 공백 한 칸으로 구분된 $X_{1}, X_{2}, ..., X_{N}$이 주어진다.\n",
        "### 출력\n",
        "첫째 줄에 $X'_{1}, X'_{2}, ..., X'_{N}$을 공백 한 칸으로 구분해서 출력한다.\n",
        "\n",
        "<br/>\n",
        "\n",
        "### 제한\n",
        "\n",
        "* 1 ≤ N ≤ 1,000,000\n",
        "* $-10^9 ≤ X_{i} ≤ 10^9$\n",
        "\n",
        "<br/>\n",
        "\n",
        "#### 예제 입력 1 \n",
        "5<br/>\n",
        "2 4 -10 4 -9\n",
        "\n",
        "#### 예제 출력 1 \n",
        "2 3 0 3 1\n",
        "\n",
        "<br/>\n",
        "\n",
        "#### 예제 입력 2\n",
        "\n",
        "6<br/>\n",
        "1000 999 1000 999 1000 999\n",
        "\n",
        "#### 예제 출력 2\n",
        "\n",
        "1 0 1 0 1 0\n"
      ]
    },
    {
      "cell_type": "markdown",
      "metadata": {
        "id": "6WCG7KcLAYlY"
      },
      "source": [
        "## 풀이\n",
        "\n",
        "[참고](https://blockdmask.tistory.com/468)"
      ]
    },
    {
      "cell_type": "code",
      "metadata": {
        "colab": {
          "base_uri": "https://localhost:8080/"
        },
        "id": "XhjqoovfAQ7e",
        "outputId": "875f0342-19db-410b-8a15-d8ff9c141717"
      },
      "source": [
        "N = int(input())\n",
        "nums = list(map(int,input().split()))\n",
        "nums_set = list(sorted(set(nums)))\n",
        "nums_set = {nums_set[i]:i for i in range(len(nums_set))}\n",
        "print(*[nums_set[i] for i in nums])"
      ],
      "execution_count": 14,
      "outputs": [
        {
          "output_type": "stream",
          "name": "stdout",
          "text": [
            "5\n",
            "2 4 -10 4 -9\n",
            "2 3 0 3 1\n"
          ]
        }
      ]
    },
    {
      "cell_type": "markdown",
      "metadata": {
        "id": "AZJ6V4WTDGda"
      },
      "source": [
        "### 입력 방식 변형 버전"
      ]
    },
    {
      "cell_type": "code",
      "metadata": {
        "id": "XnCMttDHCjjd"
      },
      "source": [
        "import sys\n",
        "\n",
        "N = int(sys.stdin.readline())\n",
        "nums = list(map(int,sys.stdin.readline().split()))\n",
        "nums_set = list(sorted(set(nums)))\n",
        "nums_set = {nums_set[i]:i for i in range(len(nums_set))}\n",
        "print(*[nums_set[i] for i in nums])"
      ],
      "execution_count": null,
      "outputs": []
    },
    {
      "cell_type": "markdown",
      "metadata": {
        "id": "UQiP0JkPDD62"
      },
      "source": [
        "## 리뷰"
      ]
    },
    {
      "cell_type": "markdown",
      "metadata": {
        "id": "-2afxg_nGuwN"
      },
      "source": [
        "### set 코드 한 줄로 만들기\n",
        "\n",
        "```python\n",
        "nums_set = {nums_set[i]:i for i in range(len(nums_set))}\n",
        "```\n",
        "\n",
        "* 예시\n",
        "\n",
        "```python\n",
        "a = [1,2,3]\n",
        "b = {a[i]:i+5 for i in range(len(a))}\n",
        "b\n",
        "```\n",
        "\n",
        "* 출력\n",
        "\n",
        "```\n",
        "{1: 5, 2: 6, 3: 7}\n",
        "```"
      ]
    },
    {
      "cell_type": "markdown",
      "metadata": {
        "id": "zghl6Yf-ENX0"
      },
      "source": [
        "### Asterisk( * )\n",
        "\n",
        "```python\n",
        "print(*[nums_set[i] for i in nums])\n",
        "```\n",
        "\n",
        "* 예시\n",
        "\n",
        "```python\n",
        "test = [1,2,3,2,2,1]\n",
        "test_set = {1:11, 2:22, 3:33}\n",
        "print(*[test_set[i] for i in test])\n",
        "```\n",
        "\n",
        "* 출력\n",
        "\n",
        "```\n",
        "11 22 33 22 22 11\n",
        "```"
      ]
    }
  ]
}