{
  "nbformat": 4,
  "nbformat_minor": 0,
  "metadata": {
    "colab": {
      "name": "백준 1193번.ipynb",
      "provenance": [],
      "authorship_tag": "ABX9TyMCvCGdHqZljOWkNxbQT/hV"
    },
    "kernelspec": {
      "name": "python3",
      "display_name": "Python 3"
    },
    "language_info": {
      "name": "python"
    }
  },
  "cells": [
    {
      "cell_type": "markdown",
      "metadata": {
        "id": "ZvL0e96Pk1n3"
      },
      "source": [
        "# 분수찾기\n",
        "\n",
        "* 단계별 풀이 : 8단계(기본 수학1) - 3단계(1193번 분수찾기)\n",
        "<br/>\n",
        "\n",
        "\n",
        "## 문제\n",
        "\n",
        "무한히 큰 배열에 다음과 같이 분수들이 적혀있다.\n",
        "\n",
        "<br/>\n",
        "\n",
        "|||||||\n",
        "|---|---|---|---|---|---|\n",
        "|1/1|\t1/2|\t1/3|\t1/4|\t1/5|\t…|\n",
        "|2/1|\t2/2|\t2/3\t|2/4\t|…\t|…|\n",
        "|3/1\t|3/2\t|3/3\t|…\t|…|\t…|\n",
        "|4/1|\t4/2|\t…|\t…|\t…|\t…|\n",
        "|5/1|\t…|\t…|\t…|\t…|\t…|\n",
        "|…\t|…\t|…\t|…\t|…\t|…|\n",
        "\n",
        "<br/>\n",
        "이와 같이 나열된 분수들을 1/1 → 1/2 → 2/1 → 3/1 → 2/2 → … 과 같은 지그재그 순서로 차례대로 1번, 2번, 3번, 4번, 5번, … 분수라고 하자.<br/>\n",
        "X가 주어졌을 때, X번째 분수를 구하는 프로그램을 작성하시오.\n",
        "\n",
        "### 입력\n",
        "첫째 줄에 N(1 ≤ N ≤ 1,000,000,000)이 주어진다.\n",
        "\n",
        "### 출력\n",
        "첫째 줄에 분수를 출력한다.\n",
        "\n",
        "<br/>\n",
        "\n",
        "#### 예제 입력 1 \n",
        "14\n",
        "\n",
        "#### 예제 출력 1 \n",
        "2/4"
      ]
    },
    {
      "cell_type": "markdown",
      "metadata": {
        "id": "Lsp44_sPN0TP"
      },
      "source": [
        "## 나의 풀이"
      ]
    },
    {
      "cell_type": "markdown",
      "metadata": {
        "id": "hoWrObxHP4FV"
      },
      "source": [
        "1 / 1 2 / 3 2 1 / 1 2 3 4 / 5 4 3 2 1... <br/>\n",
        "1 / 2 1 / 1 2 3 / 4 3 2 1 / 1 2 3 4 5... <br/>"
      ]
    },
    {
      "cell_type": "code",
      "metadata": {
        "colab": {
          "base_uri": "https://localhost:8080/"
        },
        "id": "CN-EYjtkPXCg",
        "outputId": "b24a9a99-e929-47c8-efdd-58bade8b2263"
      },
      "source": [
        "X=int(input())\n",
        "\n",
        "d = 1    # d번째 대각선\n",
        "while X > d:\n",
        "    X -= d\n",
        "    d += 1\n",
        "    \n",
        "if d % 2 == 0:\n",
        "    i = X\n",
        "    j = d - X + 1\n",
        "else:\n",
        "    i = d - X + 1\n",
        "    j = X\n",
        "    \n",
        "print('%d/%d'%(i, j))"
      ],
      "execution_count": 21,
      "outputs": [
        {
          "output_type": "stream",
          "name": "stdout",
          "text": [
            "14\n",
            "2/4\n"
          ]
        }
      ]
    }
  ]
}
