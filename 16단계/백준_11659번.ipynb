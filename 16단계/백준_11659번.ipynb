{
  "nbformat": 4,
  "nbformat_minor": 0,
  "metadata": {
    "colab": {
      "name": "백준_11659번.ipynb",
      "provenance": [],
      "collapsed_sections": [],
      "authorship_tag": "ABX9TyOJ+A0dDvHGGmfKsTKGq/GA"
    },
    "kernelspec": {
      "name": "python3",
      "display_name": "Python 3"
    },
    "language_info": {
      "name": "python"
    }
  },
  "cells": [
    {
      "cell_type": "markdown",
      "source": [
        "# 11659번\n",
        "\n",
        "> 구간 합 구하기 4\n",
        "\n",
        "* 분류 : 누적합\n",
        "* 16단계 누적합 - 1단계"
      ],
      "metadata": {
        "id": "G7n_PJtvJX8n"
      }
    },
    {
      "cell_type": "markdown",
      "source": [
        "## 문제\n",
        "\n",
        "수 N개가 주어졌을 때, i번째 수부터 j번째 수까지 합을 구하는 프로그램을 작성하시오."
      ],
      "metadata": {
        "id": "kyLVRS_rNGKt"
      }
    },
    {
      "cell_type": "markdown",
      "source": [
        "## 입력\n",
        "\n",
        "첫째 줄에 수의 개수 N과 합을 구해야 하는 횟수 M이 주어진다. 둘째 줄에는 N개의 수가 주어진다. 수는 1,000보다 작거나 같은 자연수이다. 셋째 줄부터 M개의 줄에는 합을 구해야 하는 구간 i와 j가 주어진다."
      ],
      "metadata": {
        "id": "nIzapbu7NPJK"
      }
    },
    {
      "cell_type": "markdown",
      "source": [
        "## 출력\n",
        "\n",
        "총 M개의 줄에 입력으로 주어진 i번째 수부터 j번째 수까지 합을 출력한다."
      ],
      "metadata": {
        "id": "g3nU0B3JNTFr"
      }
    },
    {
      "cell_type": "markdown",
      "source": [
        "## 제한\n",
        "\n",
        "1 ≤ N ≤ 100,000\n",
        "1 ≤ M ≤ 100,000\n",
        "1 ≤ i ≤ j ≤ N"
      ],
      "metadata": {
        "id": "D7yBt7IdNXd7"
      }
    },
    {
      "cell_type": "markdown",
      "source": [
        "### 예제\n",
        "\n",
        "* 예제 입력 1 \n",
        "\n",
        "```\n",
        "5 3\n",
        "5 4 3 2 1\n",
        "1 3\n",
        "2 4\n",
        "5 5\n",
        "```\n",
        "\n",
        "* 예제 출력 1 \n",
        "\n",
        "```\n",
        "12\n",
        "9\n",
        "1\n",
        "```"
      ],
      "metadata": {
        "id": "VQivQe1mNc_Z"
      }
    },
    {
      "cell_type": "code",
      "source": [
        "import sys\n",
        "input = sys.stdin.readline\n",
        " \n",
        "n, m = map(int, input().split())\n",
        "n = list(map(int, input().split()))\n",
        "\n",
        "acc = [0] # base case\n",
        "temp = 0\n",
        "for i in n:\n",
        "    temp += i\n",
        "    acc.append(temp)\n",
        "for i in range(m):\n",
        "    a, b = map(int, input().split())\n",
        "    print(acc[b] - acc[a-1])"
      ],
      "metadata": {
        "colab": {
          "base_uri": "https://localhost:8080/"
        },
        "id": "B63zqN3GJXwV",
        "outputId": "939c47b5-5346-4c0e-e860-5eaa4b1d12df"
      },
      "execution_count": 1,
      "outputs": [
        {
          "output_type": "stream",
          "name": "stdout",
          "text": [
            "5 3\n",
            "5 4 3 2 1\n",
            "1 3\n",
            "12\n",
            "2 4\n",
            "9\n",
            "5 5\n",
            "1\n"
          ]
        }
      ]
    }
  ]
}