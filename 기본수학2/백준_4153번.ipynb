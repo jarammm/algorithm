{
  "nbformat": 4,
  "nbformat_minor": 0,
  "metadata": {
    "colab": {
      "name": "백준 4153번.ipynb",
      "provenance": [],
      "collapsed_sections": [],
      "authorship_tag": "ABX9TyMMzvCaZ+vLVy/EnppFFgWp"
    },
    "kernelspec": {
      "name": "python3",
      "display_name": "Python 3"
    },
    "language_info": {
      "name": "python"
    }
  },
  "cells": [
    {
      "cell_type": "markdown",
      "metadata": {
        "id": "ZvL0e96Pk1n3"
      },
      "source": [
        "# 직각삼각형\n",
        "\n",
        "* 단계별 풀이 : 9단계(기본 수학2) - 9단계 4153번 직각삼각형\n",
        "\n",
        "<br/>\n",
        "\n",
        "\n",
        "## 문제\n",
        "\n",
        "과거 이집트인들은 각 변들의 길이가 3, 4, 5인 삼각형이 직각 삼각형인것을 알아냈다. 주어진 세변의 길이로 삼각형이 직각인지 아닌지 구분하시오.\n",
        "\n",
        "<br/>\n",
        "\n",
        "### 입력\n",
        "\n",
        "입력은 여러개의 테스트케이스로 주어지며 마지막줄에는 0 0 0이 입력된다. 각 테스트케이스는 모두 30,000보다 작은 양의 정수로 주어지며, 각 입력은 변의 길이를 의미한다.\n",
        "\n",
        "<br/>\n",
        "\n",
        "### 출력\n",
        "\n",
        "각 입력에 대해 직각 삼각형이 맞다면 \"right\", 아니라면 \"wrong\"을 출력한다.\n",
        "\n",
        "<br/>\n",
        "\n",
        "#### 예제 입력 1 \n",
        "\n",
        "6 8 10<br/>\n",
        "25 52 60<br/>\n",
        "5 12 13<br/>\n",
        "0 0 0<br/>\n",
        "\n",
        "<br/>\n",
        "\n",
        "#### 예제 출력 1\n",
        "\n",
        "right<br/>\n",
        "wrong<br/>\n",
        "right<br/>"
      ]
    },
    {
      "cell_type": "markdown",
      "metadata": {
        "id": "ZbpqQqLd1Eeh"
      },
      "source": [
        "## 나의 풀이"
      ]
    },
    {
      "cell_type": "code",
      "metadata": {
        "colab": {
          "base_uri": "https://localhost:8080/"
        },
        "id": "0FBnmtOEsVuO",
        "outputId": "d46de174-c2a0-427a-8b6c-36df7fb43ae2"
      },
      "source": [
        "while True:\n",
        "    tri = sorted(list(map(int, input().split())))\n",
        "    if tri[0] == 0:    # 아무 인덱스나 값이 0이면(다 0일 것이기 때문에) break\n",
        "        break\n",
        "    if tri[0]**2 + tri[1]**2 == tri[2]**2:\n",
        "        print('right')\n",
        "    else:\n",
        "        print('wrong')"
      ],
      "execution_count": 3,
      "outputs": [
        {
          "name": "stdout",
          "output_type": "stream",
          "text": [
            "6 8 10\n",
            "right\n",
            "25 52 60\n",
            "wrong\n",
            "5 12 13\n",
            "right\n",
            "0 0 0\n"
          ]
        }
      ]
    }
  ]
}
