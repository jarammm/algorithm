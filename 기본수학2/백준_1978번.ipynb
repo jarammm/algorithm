{
  "nbformat": 4,
  "nbformat_minor": 0,
  "metadata": {
    "colab": {
      "name": "백준 1011번.ipynb",
      "provenance": [],
      "collapsed_sections": [],
      "authorship_tag": "ABX9TyO3haEuDtvPZv5W2UfEMkBW"
    },
    "kernelspec": {
      "name": "python3",
      "display_name": "Python 3"
    },
    "language_info": {
      "name": "python"
    }
  },
  "cells": [
    {
      "cell_type": "markdown",
      "metadata": {
        "id": "ZvL0e96Pk1n3"
      },
      "source": [
        "# 소수 찾기 \n",
        "\n",
        "* 단계별 풀이 : 9단계(기본 수학2) - 1단계 1978번 소수 찾기\n",
        "\n",
        "<br/>\n",
        "\n",
        "\n",
        "## 문제\n",
        "\n",
        "주어진 수 N개 중에서 소수가 몇 개인지 찾아서 출력하는 프로그램을 작성하시오.\n",
        "\n",
        "<br/>\n",
        "\n",
        "### 입력\n",
        "\n",
        "첫 줄에 수의 개수 N이 주어진다. N은 100이하이다. 다음으로 N개의 수가 주어지는데 수는 1,000 이하의 자연수이다.\n",
        "\n",
        "<br/>\n",
        "\n",
        "### 출력\n",
        "\n",
        "주어진 수들 중 소수의 개수를 출력한다.\n",
        "\n",
        "<br/>\n",
        "\n",
        "#### 예제 입력 1 \n",
        "\n",
        "4<br/>\n",
        "1 3 5 7\n",
        "\n",
        "<br/>\n",
        "\n",
        "#### 예제 출력 1\n",
        "\n",
        "3"
      ]
    },
    {
      "cell_type": "markdown",
      "metadata": {
        "id": "Lsp44_sPN0TP"
      },
      "source": [
        "## 나의 풀이"
      ]
    },
    {
      "cell_type": "code",
      "metadata": {
        "colab": {
          "base_uri": "https://localhost:8080/"
        },
        "id": "HH_5-uR3I_xQ",
        "outputId": "fde0d43e-6404-4e70-ccbc-2479d6796e91"
      },
      "source": [
        "N = int(input())\n",
        "nums = map(int, input().split())\n",
        "cnt = 0\n",
        "\n",
        "for num in nums:\n",
        "    prime = True\n",
        "    if num == 1:\n",
        "      continue\n",
        "    elif num == 2:\n",
        "      cnt += 1\n",
        "      continue\n",
        "    elif num%2 == 0:\n",
        "      continue\n",
        "    else:\n",
        "      for i in range(3, num//2 + 1, 2):  # 2부터 수의 절반까지 홀수\n",
        "          if num % i == 0:\n",
        "            prime = False\n",
        "      if prime:\n",
        "          cnt += 1  # prime이 True면 소수이므로 +1\n",
        "print(cnt)"
      ],
      "execution_count": 32,
      "outputs": [
        {
          "output_type": "stream",
          "name": "stdout",
          "text": [
            "4\n",
            "1 3 5 7\n",
            "3\n"
          ]
        }
      ]
    },
    {
      "cell_type": "markdown",
      "metadata": {
        "id": "HOqlBaTXuoaU"
      },
      "source": [
        "## 다른 사람의 풀이"
      ]
    },
    {
      "cell_type": "code",
      "metadata": {
        "colab": {
          "base_uri": "https://localhost:8080/"
        },
        "id": "gQt5GOf8I-ZI",
        "outputId": "5e38ac17-c7c4-4ad5-8003-e97137c8ac91"
      },
      "source": [
        "n = int(input())\n",
        "data = list(map(int, input().split()))\n",
        "count = 0\n",
        "\n",
        "for x in data:\n",
        "    for i in range(2, x + 1):\n",
        "        if x % i == 0:\n",
        "            if x == i:\n",
        "                count += 1\n",
        "            else: break\n",
        "\n",
        "print(count)"
      ],
      "execution_count": 33,
      "outputs": [
        {
          "output_type": "stream",
          "name": "stdout",
          "text": [
            "4\n",
            "1 3 5 7\n",
            "3\n"
          ]
        }
      ]
    }
  ]
}
