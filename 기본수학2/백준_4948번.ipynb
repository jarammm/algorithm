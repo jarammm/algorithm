{
  "nbformat": 4,
  "nbformat_minor": 0,
  "metadata": {
    "colab": {
      "name": "백준 4948번.ipynb",
      "provenance": [],
      "collapsed_sections": [],
      "authorship_tag": "ABX9TyMeoHg5y+JzPkBE1MCVB4zH"
    },
    "kernelspec": {
      "name": "python3",
      "display_name": "Python 3"
    },
    "language_info": {
      "name": "python"
    }
  },
  "cells": [
    {
      "cell_type": "markdown",
      "metadata": {
        "id": "ZvL0e96Pk1n3"
      },
      "source": [
        "# 베르트랑 공준\n",
        "\n",
        "* 단계별 풀이 : 9단계(기본 수학2) - 5단계 4948번 베르트랑 공준\n",
        "\n",
        "<br/>\n",
        "\n",
        "\n",
        "## 문제\n",
        "\n",
        "베르트랑 공준은 임의의 자연수 n에 대하여, n보다 크고, 2n보다 작거나 같은 소수는 적어도 하나 존재한다는 내용을 담고 있다.\n",
        "<br/><br/>\n",
        "이 명제는 조제프 베르트랑이 1845년에 추측했고, 파프누티 체비쇼프가 1850년에 증명했다.\n",
        "<br/><br/>\n",
        "예를 들어, 10보다 크고, 20보다 작거나 같은 소수는 4개가 있다. (11, 13, 17, 19) 또, 14보다 크고, 28보다 작거나 같은 소수는 3개가 있다. (17,19, 23)\n",
        "<br/><br/>\n",
        "자연수 n이 주어졌을 때, n보다 크고, 2n보다 작거나 같은 소수의 개수를 구하는 프로그램을 작성하시오. \n",
        "\n",
        "<br/>\n",
        "\n",
        "### 입력\n",
        "\n",
        "입력은 여러 개의 테스트 케이스로 이루어져 있다. 각 케이스는 n을 포함하는 한 줄로 이루어져 있다.\n",
        "<br/><br/>\n",
        "입력의 마지막에는 0이 주어진다.\n",
        "\n",
        "<br/>\n",
        "\n",
        "### 출력\n",
        "\n",
        "각 테스트 케이스에 대해서, n보다 크고, 2n보다 작거나 같은 소수의 개수를 출력한다.\n",
        "\n",
        "<br/>\n",
        "\n",
        "### 제한\n",
        "\n",
        "1 ≤ n ≤ 123,456\n",
        "\n",
        "<br/>\n",
        "\n",
        "#### 예제 입력 1 \n",
        "\n",
        "1<br/>\n",
        "10<br/>\n",
        "13<br/>\n",
        "100<br/>\n",
        "1000<br/>\n",
        "10000<br/>\n",
        "100000<br/>\n",
        "0\n",
        "\n",
        "<br/>\n",
        "\n",
        "#### 예제 출력 1\n",
        "\n",
        "1<br/>\n",
        "4<br/>\n",
        "3<br/>\n",
        "21<br/>\n",
        "135<br/>\n",
        "1033<br/>\n",
        "8392"
      ]
    },
    {
      "cell_type": "markdown",
      "metadata": {
        "id": "Lsp44_sPN0TP"
      },
      "source": [
        "## 나의 풀이\n",
        "\n",
        "**시간 초과**"
      ]
    },
    {
      "cell_type": "code",
      "metadata": {
        "colab": {
          "base_uri": "https://localhost:8080/"
        },
        "id": "S7K2My8C0z3g",
        "outputId": "b4c94857-3fd9-4caa-a486-ed1f7e5eb6ad"
      },
      "source": [
        "def isPrime(n):\n",
        "    cnt = 0\n",
        "    for i in range(n + 1, 2*n + 1):\n",
        "        prime = True\n",
        "        if i == 1:\n",
        "            pass\n",
        "        elif i < 4:\n",
        "            cnt += 1\n",
        "        elif i % 2 == 0:\n",
        "            pass\n",
        "        else:\n",
        "            for j in range(3, int(i**0.5) + 1, 2):\n",
        "                if i%j == 0:\n",
        "                    prime = False\n",
        "                    break\n",
        "            if prime:\n",
        "                cnt += 1\n",
        "    return cnt\n",
        "\n",
        "nlist = []\n",
        "\n",
        "while True:\n",
        "    n = int(input())\n",
        "    if n:\n",
        "        nlist.append(n)\n",
        "    else:\n",
        "        break\n",
        "\n",
        "for n in nlist:\n",
        "    print(isPrime(n))"
      ],
      "execution_count": 5,
      "outputs": [
        {
          "output_type": "stream",
          "name": "stdout",
          "text": [
            "1\n",
            "10\n",
            "13\n",
            "100\n",
            "1000\n",
            "10000\n",
            "100000\n",
            "0\n",
            "1\n",
            "4\n",
            "3\n",
            "21\n",
            "135\n",
            "1033\n",
            "8392\n"
          ]
        }
      ]
    },
    {
      "cell_type": "markdown",
      "metadata": {
        "id": "pNi8iDYsCcso"
      },
      "source": [
        "## 다른 사람 풀이\n",
        "\n",
        "[해답 출처](https://wlstyql.tistory.com/74)"
      ]
    },
    {
      "cell_type": "code",
      "metadata": {
        "id": "gQt5GOf8I-ZI"
      },
      "source": [
        "N = 123456 * 2 + 1\n",
        "sieve = [True] * N\n",
        "for i in range(2, int(N**0.5)+1):\n",
        "    if sieve[i]:\n",
        "        for j in range(2*i, N, i):\n",
        "            sieve[j] = False\n",
        "\n",
        "def prime_cnt(val):\n",
        "    cnt = 0\n",
        "    for i in range(val + 1, val * 2 + 1):\n",
        "        if sieve[i]:\n",
        "            cnt += 1\n",
        "    print(cnt)\n",
        "\n",
        "while True:\n",
        "    val = int(input())\n",
        "    if val == 0:\n",
        "        break\n",
        "    prime_cnt(val)"
      ],
      "execution_count": null,
      "outputs": []
    }
  ]
}
