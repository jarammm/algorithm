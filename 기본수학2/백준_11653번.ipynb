{
  "nbformat": 4,
  "nbformat_minor": 0,
  "metadata": {
    "colab": {
      "name": "백준 11653번.ipynb",
      "provenance": [],
      "collapsed_sections": [],
      "authorship_tag": "ABX9TyPaddSsZaYPEMwAX+mJ/dfn"
    },
    "kernelspec": {
      "name": "python3",
      "display_name": "Python 3"
    },
    "language_info": {
      "name": "python"
    }
  },
  "cells": [
    {
      "cell_type": "markdown",
      "metadata": {
        "id": "ZvL0e96Pk1n3"
      },
      "source": [
        "# 소인수분해\n",
        "\n",
        "* 단계별 풀이 : 9단계(기본 수학2) - 3단계 11653번 소인수분해\n",
        "\n",
        "<br/>\n",
        "\n",
        "\n",
        "## 문제\n",
        "\n",
        "정수 N이 주어졌을 때, 소인수분해하는 프로그램을 작성하시오.\n",
        "\n",
        "<br/>\n",
        "\n",
        "### 입력\n",
        "\n",
        "첫째 줄에 정수 N (1 ≤ N ≤ 10,000,000)이 주어진다.\n",
        "\n",
        "<br/>\n",
        "\n",
        "### 출력\n",
        "\n",
        "N의 소인수분해 결과를 한 줄에 하나씩 오름차순으로 출력한다. N이 1인 경우 아무것도 출력하지 않는다.\n",
        "\n",
        "<br/>\n",
        "\n",
        "#### 예제 입력 1 \n",
        "\n",
        "72\n",
        "\n",
        "<br/>\n",
        "\n",
        "#### 예제 출력 1\n",
        "\n",
        "2<br/>\n",
        "2<br/>\n",
        "2<br/>\n",
        "3<br/>\n",
        "3\n",
        "\n",
        "<br/>\n",
        "\n",
        "#### 예제 입력 2\n",
        "\n",
        "3\n",
        "\n",
        "<br/>\n",
        "\n",
        "#### 예제 출력 2\n",
        "\n",
        "3"
      ]
    },
    {
      "cell_type": "markdown",
      "metadata": {
        "id": "Lsp44_sPN0TP"
      },
      "source": [
        "## 나의 풀이"
      ]
    },
    {
      "cell_type": "code",
      "metadata": {
        "colab": {
          "base_uri": "https://localhost:8080/"
        },
        "id": "gQt5GOf8I-ZI",
        "outputId": "309b2d78-89ef-451c-8b5d-2d775e2ce7b9"
      },
      "source": [
        "N = int(input())\n",
        "d = 2\n",
        "while N > 1:\n",
        "  if N%d==0:\n",
        "    print(d)\n",
        "    N //= d\n",
        "  else:\n",
        "    d += 1"
      ],
      "execution_count": 2,
      "outputs": [
        {
          "output_type": "stream",
          "name": "stdout",
          "text": [
            "72\n",
            "2\n",
            "2\n",
            "2\n",
            "3\n",
            "3\n"
          ]
        }
      ]
    }
  ]
}
