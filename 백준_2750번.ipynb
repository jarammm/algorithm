{
  "nbformat": 4,
  "nbformat_minor": 0,
  "metadata": {
    "colab": {
      "name": "백준 2750번.ipynb",
      "provenance": [],
      "collapsed_sections": [],
      "authorship_tag": "ABX9TyMcUbwCrS0Cx9kSY6nWiRyz"
    },
    "kernelspec": {
      "name": "python3",
      "display_name": "Python 3"
    },
    "language_info": {
      "name": "python"
    }
  },
  "cells": [
    {
      "cell_type": "markdown",
      "metadata": {
        "id": "ZvL0e96Pk1n3"
      },
      "source": [
        "# 수 정렬하기\n",
        "\n",
        "* 단계별 풀이 : 12단계(정렬) - 1단계 2750번 수 정렬하기\n",
        "<br/>\n",
        "\n",
        "\n",
        "## 문제\n",
        "\n",
        "N개의 수가 주어졌을 때, 이를 오름차순으로 정렬하는 프로그램을 작성하시오.\n",
        "<br/>\n",
        "\n",
        "### 입력\n",
        "\n",
        "첫째 줄에 수의 개수 N(1 ≤ N ≤ 1,000)이 주어진다. 둘째 줄부터 N개의 줄에는 수 주어진다. 이 수는 절댓값이 1,000보다 작거나 같은 정수이다. 수는 중복되지 않는다.\n",
        "<br/>\n",
        "\n",
        "### 출력\n",
        "\n",
        "첫째 줄부터 N개의 줄에 오름차순으로 정렬한 결과를 한 줄에 하나씩 출력한다.\n",
        "<br/>\n",
        "\n",
        "#### 예제 입력 1 \n",
        "\n",
        "5<br/>\n",
        "5<br/>\n",
        "2<br/>\n",
        "3<br/>\n",
        "4<br/>\n",
        "1<br/>\n",
        "<br/>\n",
        "\n",
        "#### 예제 출력 1\n",
        "\n",
        "1<br/>\n",
        "2<br/>\n",
        "3<br/>\n",
        "4<br/>\n",
        "5"
      ]
    },
    {
      "cell_type": "markdown",
      "metadata": {
        "id": "lErz5PhG2L7K"
      },
      "source": [
        "## 나의 풀이\n",
        "\n",
        "삽입 정렬 이용"
      ]
    },
    {
      "cell_type": "code",
      "metadata": {
        "colab": {
          "base_uri": "https://localhost:8080/"
        },
        "id": "6wwrLRWZB25q",
        "outputId": "4a447643-b09c-4e59-c68f-6dd866221c14"
      },
      "source": [
        "N = int(input())\n",
        "n = []\n",
        "for _ in range(N):\n",
        "    n.append(int(input()))\n",
        "\n",
        "for i in range(1, N):\n",
        "    j = i-1\n",
        "    new = n[i]\n",
        "    while j >= 0 and new < n[j]:\n",
        "        n[j+1] = n[j]\n",
        "        j -= 1\n",
        "    n[j+1] = new\n",
        "\n",
        "for k in n:\n",
        "    print(k)"
      ],
      "execution_count": 4,
      "outputs": [
        {
          "output_type": "stream",
          "name": "stdout",
          "text": [
            "5\n",
            "5\n",
            "2\n",
            "3\n",
            "4\n",
            "1\n",
            "1\n",
            "2\n",
            "3\n",
            "4\n",
            "5\n"
          ]
        }
      ]
    }
  ]
}
