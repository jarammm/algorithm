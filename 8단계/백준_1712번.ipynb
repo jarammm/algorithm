{
  "nbformat": 4,
  "nbformat_minor": 0,
  "metadata": {
    "colab": {
      "name": "백준 1712번.ipynb",
      "provenance": [],
      "authorship_tag": "ABX9TyNw7pNiS/7H3A/w6/ETQzqm"
    },
    "kernelspec": {
      "name": "python3",
      "display_name": "Python 3"
    },
    "language_info": {
      "name": "python"
    }
  },
  "cells": [
    {
      "cell_type": "markdown",
      "metadata": {
        "id": "ZvL0e96Pk1n3"
      },
      "source": [
        "# 손익분기점\n",
        "\n",
        "* 단계별 풀이 : 8단계(기본 수학1) - 1단계(1712번 손익분기점)\n",
        "<br/>\n",
        "\n",
        "\n",
        "## 문제\n",
        "월드전자는 노트북을 제조하고 판매하는 회사이다. 노트북 판매 대수에 상관없이 매년 임대료, 재산세, 보험료, 급여 등 A만원의 고정 비용이 들며, 한 대의 노트북을 생산하는 데에는 재료비와 인건비 등 총 B만원의 가변 비용이 든다고 한다.\n",
        "\n",
        "<br/>\n",
        "\n",
        "예를 들어 A=1,000, B=70이라고 하자. 이 경우 노트북을 한 대 생산하는 데는 총 1,070만원이 들며, 열 대 생산하는 데는 총 1,700만원이 든다.\n",
        "\n",
        "<br/>\n",
        "\n",
        "노트북 가격이 C만원으로 책정되었다고 한다. 일반적으로 생산 대수를 늘려 가다 보면 어느 순간 총 수입(판매비용)이 총 비용(=고정비용+가변비용)보다 많아지게 된다. 최초로 총 수입이 총 비용보다 많아져 이익이 발생하는 지점을 손익분기점(BREAK-EVEN POINT)이라고 한다.\n",
        "\n",
        "<br/>\n",
        "\n",
        "A, B, C가 주어졌을 때, 손익분기점을 구하는 프로그램을 작성하시오.\n",
        "\n",
        "<br/>\n",
        "\n",
        "### 입력\n",
        "첫째 줄에 A, B, C가 빈 칸을 사이에 두고 순서대로 주어진다. A, B, C는 21억 이하의 자연수이다.\n",
        "\n",
        "### 출력\n",
        "첫 번째 줄에 손익분기점 즉 최초로 이익이 발생하는 판매량을 출력한다. 손익분기점이 존재하지 않으면 -1을 출력한다.\n",
        "\n",
        "<br/>\n",
        "\n",
        "#### 예제 입력 1 \n",
        "1000 70 170\n",
        "\n",
        "#### 예제 출력 1 \n",
        "11\n",
        "\n",
        "#### 예제 입력 2 \n",
        "3 2 1\n",
        "\n",
        "#### 예제 출력 2 \n",
        "-1\n",
        "\n",
        "#### 예제 입력 3 \n",
        "2100000000 9 10\n",
        "\n",
        "#### 예제 출력 3 \n",
        "2100000001"
      ]
    },
    {
      "cell_type": "code",
      "metadata": {
        "colab": {
          "base_uri": "https://localhost:8080/"
        },
        "id": "Z5a4UgqMky_R",
        "outputId": "cb24f9c0-2896-4588-9a42-a29a43b26846"
      },
      "source": [
        "fixed, per, price = map(int, input().split())\n",
        "if per >= price:\n",
        "    print(-1)\n",
        "else:\n",
        "    print(fixed // (price - per) + 1)"
      ],
      "execution_count": 1,
      "outputs": [
        {
          "output_type": "stream",
          "name": "stdout",
          "text": [
            "1000 70 170\n",
            "11\n"
          ]
        }
      ]
    },
    {
      "cell_type": "markdown",
      "metadata": {
        "id": "9vy7vS_OlCmI"
      },
      "source": [
        "## 코드 리뷰\n",
        "\n",
        "수학 식을 세울 수 있다면 세우는 것이 시간, 메모리 절약에 효율적"
      ]
    }
  ]
}
