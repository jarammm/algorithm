{
  "nbformat": 4,
  "nbformat_minor": 0,
  "metadata": {
    "colab": {
      "name": "백준 2292번.ipynb",
      "provenance": [],
      "authorship_tag": "ABX9TyPU2Th8e4LWnJY6dZeSCZUL"
    },
    "kernelspec": {
      "name": "python3",
      "display_name": "Python 3"
    },
    "language_info": {
      "name": "python"
    }
  },
  "cells": [
    {
      "cell_type": "markdown",
      "metadata": {
        "id": "ZvL0e96Pk1n3"
      },
      "source": [
        "# 벌집\n",
        "\n",
        "* 단계별 풀이 : 8단계(기본 수학1) - 2단계(2292번 벌집)\n",
        "<br/>\n",
        "\n",
        "\n",
        "## 문제 \n",
        "\n",
        "<img src=https://onlinejudgeimages.s3-ap-northeast-1.amazonaws.com/upload/201009/3(2).png width=300 height=300>\n",
        "\n",
        "위의 그림과 같이 육각형으로 이루어진 벌집이 있다. 그림에서 보는 바와 같이 중앙의 방 1부터 시작해서 이웃하는 방에 돌아가면서 1씩 증가하는 번호를 주소로 매길 수 있다. 숫자 N이 주어졌을 때, 벌집의 중앙 1에서 N번 방까지 최소 개수의 방을 지나서 갈 때 몇 개의 방을 지나가는지(시작과 끝을 포함하여)를 계산하는 프로그램을 작성하시오. 예를 들면, 13까지는 3개, 58까지는 5개를 지난다.\n",
        "\n",
        "<br/>\n",
        "\n",
        "### 입력\n",
        "첫째 줄에 N(1 ≤ N ≤ 1,000,000,000)이 주어진다.\n",
        "\n",
        "### 출력\n",
        "입력으로 주어진 방까지 최소 개수의 방을 지나서 갈 때 몇 개의 방을 지나는지 출력한다.\n",
        "\n",
        "<br/>\n",
        "\n",
        "#### 예제 입력 1 \n",
        "13\n",
        "\n",
        "#### 예제 출력 1 \n",
        "3"
      ]
    },
    {
      "cell_type": "markdown",
      "metadata": {
        "id": "Lsp44_sPN0TP"
      },
      "source": [
        "## 나의 풀이"
      ]
    },
    {
      "cell_type": "code",
      "metadata": {
        "colab": {
          "base_uri": "https://localhost:8080/"
        },
        "id": "xnqwVeJuGMjt",
        "outputId": "cdf90777-69a4-4a8a-dc77-6c7bbc066b43"
      },
      "source": [
        "n = int(input())\n",
        "m = 1\n",
        "\n",
        "while True:\n",
        "    if 1 + 3*(m-2)*(m-1) <= n <= 1 + 3*m*(m-1):\n",
        "      print(m)\n",
        "      break\n",
        "    m += 1"
      ],
      "execution_count": 6,
      "outputs": [
        {
          "output_type": "stream",
          "name": "stdout",
          "text": [
            "13\n",
            "3\n"
          ]
        }
      ]
    },
    {
      "cell_type": "markdown",
      "metadata": {
        "id": "NFRKxFrGN38T"
      },
      "source": [
        "## 다른 사람의 풀이 1"
      ]
    },
    {
      "cell_type": "code",
      "metadata": {
        "id": "17vp9eAcMlHJ"
      },
      "source": [
        "n=int(input())\n",
        "c=0\n",
        "m=0\n",
        "\n",
        "while True:\n",
        "    if 6*c+1<n:\n",
        "        m+=1\n",
        "        c+=m\n",
        "    else:\n",
        "        print(m+1)\n",
        "        break"
      ],
      "execution_count": null,
      "outputs": []
    },
    {
      "cell_type": "markdown",
      "metadata": {
        "id": "Ppv_1aJmN5g3"
      },
      "source": [
        "## 다른 사람의 풀이 2"
      ]
    },
    {
      "cell_type": "code",
      "metadata": {
        "id": "1k7-_3TXNIHl"
      },
      "source": [
        "n = int(input())\n",
        "circle = 1\n",
        "\n",
        "while n > 1:\n",
        "    n = n - (6*circle)\n",
        "    circle +=1    \n",
        "print(circle)"
      ],
      "execution_count": null,
      "outputs": []
    }
  ]
}
