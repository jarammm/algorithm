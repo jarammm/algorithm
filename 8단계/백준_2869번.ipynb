{
  "nbformat": 4,
  "nbformat_minor": 0,
  "metadata": {
    "colab": {
      "name": "백준 2869번.ipynb",
      "provenance": [],
      "collapsed_sections": [],
      "authorship_tag": "ABX9TyMy8vKACrbVoDO6B37uoLQC"
    },
    "kernelspec": {
      "name": "python3",
      "display_name": "Python 3"
    },
    "language_info": {
      "name": "python"
    }
  },
  "cells": [
    {
      "cell_type": "markdown",
      "metadata": {
        "id": "ZvL0e96Pk1n3"
      },
      "source": [
        "# 달팽이는 올라가고 싶다\n",
        "\n",
        "* 단계별 풀이 : 8단계(기본 수학1) - 4단계 2869번 분수찾기 \n",
        "<br/>\n",
        "\n",
        "\n",
        "## 문제\n",
        "\n",
        "땅 위에 달팽이가 있다. 이 달팽이는 높이가 V미터인 나무 막대를 올라갈 것이다.\n",
        "\n",
        "달팽이는 낮에 A미터 올라갈 수 있다. 하지만, 밤에 잠을 자는 동안 B미터 미끄러진다. 또, 정상에 올라간 후에는 미끄러지지 않는다.\n",
        "\n",
        "달팽이가 나무 막대를 모두 올라가려면, 며칠이 걸리는지 구하는 프로그램을 작성하시오.\n",
        "\n",
        "### 입력\n",
        "첫째 줄에 세 정수 A, B, V가 공백으로 구분되어서 주어진다. (1 ≤ B < A ≤ V ≤ 1,000,000,000)\n",
        "\n",
        "### 출력\n",
        "첫째 줄에 달팽이가 나무 막대를 모두 올라가는데 며칠이 걸리는지 출력한다.\n",
        "\n",
        "<br/>\n",
        "\n",
        "#### 예제 입력 1 \n",
        "2 1 5\n",
        "\n",
        "#### 예제 출력 \n",
        "4"
      ]
    },
    {
      "cell_type": "markdown",
      "metadata": {
        "id": "Lsp44_sPN0TP"
      },
      "source": [
        "## 나의 풀이\n",
        "\n",
        "정상까지 오르는 데 걸린 일수를 `d`라 할 때,\n",
        "<br/>\n",
        "\n",
        "* A * d + B * (d-1) >= V 가 성립한다.\n",
        "* 따라서 이를 계산하면 d >= (V - B)/(A - B)가 된다.\n",
        "* 만약에 d = (V - B)/(A - B)라면 `(V - B) / (A - B)`계산의 몫이 답일 것이고,\n",
        "* d >= (V - B)/(A - B)라면 `(V - B) / (A - B)`의 나머지가 존재하기 때문에 `몫 + 1`이 답이 된다."
      ]
    },
    {
      "cell_type": "code",
      "metadata": {
        "colab": {
          "base_uri": "https://localhost:8080/"
        },
        "id": "U5hea8JlnFBN",
        "outputId": "5c6d633a-0385-415e-952f-9fb04b8321b9"
      },
      "source": [
        "A, B, V = map(int, input().split())\n",
        "a, b = divmod(V-B, A-B)  # 정상에 정확하게 올랐을 때는 나머지 b=0, 정상 초과로 올랐을 때는 b > 0\n",
        "if b:  # 나머지가 존재할 때\n",
        "  print(a + 1)\n",
        "else:  # 나머지가 없을 때\n",
        "  print(a)"
      ],
      "execution_count": 26,
      "outputs": [
        {
          "output_type": "stream",
          "name": "stdout",
          "text": [
            "5 1 6\n",
            "2\n"
          ]
        }
      ]
    }
  ]
}
