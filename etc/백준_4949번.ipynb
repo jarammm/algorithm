{
  "nbformat": 4,
  "nbformat_minor": 0,
  "metadata": {
    "colab": {
      "name": "백준_4949번.ipynb",
      "provenance": [],
      "collapsed_sections": [],
      "authorship_tag": "ABX9TyOHtmvS7dgWz29ruJja4oyF"
    },
    "kernelspec": {
      "name": "python3",
      "display_name": "Python 3"
    },
    "language_info": {
      "name": "python"
    }
  },
  "cells": [
    {
      "cell_type": "markdown",
      "source": [
        "# 4949번\n",
        "\n",
        "> 균형잡힌 세상\n",
        "\n",
        "* 분류 : 분할정복"
      ],
      "metadata": {
        "id": "G7n_PJtvJX8n"
      }
    },
    {
      "cell_type": "markdown",
      "source": [
        "## 문제\n",
        "\n",
        "세계는 균형이 잘 잡혀있어야 한다. 양과 음, 빛과 어둠 그리고 왼쪽 괄호와 오른쪽 괄호처럼 말이다.<br/><br/>\n",
        "\n",
        "정민이의 임무는 어떤 문자열이 주어졌을 때, 괄호들의 균형이 잘 맞춰져 있는지 판단하는 프로그램을 짜는 것이다.<br/><br/>\n",
        "\n",
        "문자열에 포함되는 괄호는 소괄호(\"()\") 와 대괄호(\"[]\")로 2종류이고, 문자열이 균형을 이루는 조건은 아래와 같다.<br/><br/>\n",
        "\n",
        "* 모든 왼쪽 소괄호(\"(\")는 오른쪽 소괄호(\")\")와만 짝을 이뤄야 한다.\n",
        "* 모든 왼쪽 대괄호(\"[\")는 오른쪽 대괄호(\"]\")와만 짝을 이뤄야 한다.\n",
        "* 모든 오른쪽 괄호들은 자신과 짝을 이룰 수 있는 왼쪽 괄호가 존재한다.\n",
        "* 모든 괄호들의 짝은 1:1 매칭만 가능하다. 즉, 괄호 하나가 둘 이상의 괄호와 짝지어지지 않는다.\n",
        "* 짝을 이루는 두 괄호가 있을 때, 그 사이에 있는 문자열도 균형이 잡혀야 한다.<br/><br/>\n",
        "\n",
        "정민이를 도와 문자열이 주어졌을 때 균형잡힌 문자열인지 아닌지를 판단해보자."
      ],
      "metadata": {
        "id": "kyLVRS_rNGKt"
      }
    },
    {
      "cell_type": "markdown",
      "source": [
        "## 입력\n",
        "\n",
        "하나 또는 여러줄에 걸쳐서 문자열이 주어진다. 각 문자열은 영문 알파벳, 공백, 소괄호(\"( )\") 대괄호(\"[ ]\")등으로 이루어져 있으며, 길이는 100글자보다 작거나 같다. 각 줄은 마침표(\".\")로 끝난다.<br/><br/>\n",
        "\n",
        "입력의 종료조건으로 맨 마지막에 점 하나(\".\")가 들어온다."
      ],
      "metadata": {
        "id": "nIzapbu7NPJK"
      }
    },
    {
      "cell_type": "markdown",
      "source": [
        "## 출력\n",
        "\n",
        "각 줄마다 해당 문자열이 균형을 이루고 있으면 \"yes\"를, 아니면 \"no\"를 출력한다."
      ],
      "metadata": {
        "id": "g3nU0B3JNTFr"
      }
    },
    {
      "cell_type": "markdown",
      "source": [
        "### 예제\n",
        "\n",
        "* 예제 입력 1 \n",
        "\n",
        "```\n",
        "So when I die (the [first] I will see in (heaven) is a score list).\n",
        "[ first in ] ( first out ).\n",
        "Half Moon tonight (At least it is better than no Moon at all].\n",
        "A rope may form )( a trail in a maze.\n",
        "Help( I[m being held prisoner in a fortune cookie factory)].\n",
        "([ (([( [ ] ) ( ) (( ))] )) ]).\n",
        " .\n",
        ".\n",
        "```\n",
        "\n",
        "* 예제 출력 1 \n",
        "\n",
        "```\n",
        "yes\n",
        "yes\n",
        "no\n",
        "no\n",
        "no\n",
        "yes\n",
        "yes\n",
        "```"
      ],
      "metadata": {
        "id": "VQivQe1mNc_Z"
      }
    },
    {
      "cell_type": "code",
      "source": [
        "while True:\n",
        "    flag = True\n",
        "    stack = []\n",
        "    sentence = input()\n",
        "    if sentence == \".\":\n",
        "        break\n",
        "    for i in sentence:\n",
        "        if i in [\"[\", \"(\"]:\n",
        "            stack.append(i)\n",
        "        if i == \"]\":\n",
        "            if len(stack) > 0 and stack[-1] == \"[\":\n",
        "                stack = stack[:-1]\n",
        "            else:\n",
        "                flag = False\n",
        "                break\n",
        "        elif i == \")\":\n",
        "            if len(stack) > 0 and stack[-1] == \"(\":\n",
        "                stack = stack[:-1]\n",
        "            else:\n",
        "                flag = False\n",
        "                break\n",
        "    if flag and not stack:\n",
        "        print(\"yes\")\n",
        "    else:\n",
        "        print(\"no\")"
      ],
      "metadata": {
        "id": "B63zqN3GJXwV"
      },
      "execution_count": null,
      "outputs": []
    },
    {
      "cell_type": "code",
      "source": [
        ""
      ],
      "metadata": {
        "id": "cgpqrt9FPdpE"
      },
      "execution_count": null,
      "outputs": []
    }
  ]
}