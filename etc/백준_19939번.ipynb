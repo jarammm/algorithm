{
  "nbformat": 4,
  "nbformat_minor": 0,
  "metadata": {
    "colab": {
      "name": "백준 19939번.ipynb",
      "provenance": [],
      "collapsed_sections": [],
      "authorship_tag": "ABX9TyMRQWyro7OJ8O2CkCSswhZj"
    },
    "kernelspec": {
      "name": "python3",
      "display_name": "Python 3"
    },
    "language_info": {
      "name": "python"
    }
  },
  "cells": [
    {
      "cell_type": "markdown",
      "source": [
        "# [19939번 박 터뜨리기](https://www.acmicpc.net/problem/19939)"
      ],
      "metadata": {
        "id": "1ADNSLH6KGld"
      }
    },
    {
      "cell_type": "markdown",
      "source": [
        "## 문제\n",
        "\n",
        " $K$개의 팀이 박 터트리기 게임을 한다. 각 팀은 하나의 바구니를 가지고 있고, 바구니에 들어있는 공을 던져서 자기 팀의 박을 터트려야 한다.\n",
        "<br/><br/>\n",
        "우리는 게임을 준비하기 위해서, $N$개의 공을 $K$개의 바구니에 나눠 담아야 한다. 이때, 게임의 재미를 위해서 바구니에 담기는 공의 개수를 모두 다르게 하고 싶다. 즉, $N$개의 공을 $K$개의 바구니에 빠짐없이 나누어 담는데, 각 바구니에는 1개 이상의 공이 있어야 하고, 바구니에 담긴 공의 개수가 모두 달라야 한다.\n",
        "<br/><br/>\n",
        "게임의 불공정함을 줄이기 위해서, 가장 많이 담긴 바구니와 가장 적게 담긴 바구니의 공의 개수 차이가 최소가 되도록 담을 것이다.\n",
        "<br/><br/>\n",
        "공을 바구니에 나눠 담기 위한 규칙을 정리하면 다음과 같다.\n",
        "<br/><br/>\n",
        "\n",
        "1.  $N$개의 공을 $K$개의 바구니에 빠짐없이 나누어 담는다.\n",
        "2. 각 바구니에는 1개 이상의 공이 들어 있어야 한다.\n",
        "3. 각 바구니에 담긴 공의 개수는 모두 달라야 한다.\n",
        "4. 가장 많이 담긴 바구니와 가장 적게 담긴 바구니의 공의 개수 차이가 최소가 되어야 한다.\n",
        "\n",
        "<br/><br/>\n",
        "\n",
        "위의 규칙을 모두 만족하며 $N$개의 공을 $K$개의 바구니에 나눠 담을 때, 나눠 담을 수 있는지 여부를 결정하고, 담을 수 있는 경우에는 가장 많이 담긴 바구니와 가장 적게 담긴 바구니의 공의 개수 차이를 계산해서 출력하는 프로그램을 작성하시오."
      ],
      "metadata": {
        "id": "KgCRLxZMKavT"
      }
    },
    {
      "cell_type": "markdown",
      "source": [
        "## 입력\n",
        "\n",
        "첫 번째 줄에 공의 개수를 나타내는 $N$과 팀의 수를 나타내는 정수 $K$가 주어진다."
      ],
      "metadata": {
        "id": "aXrho9egLEYz"
      }
    },
    {
      "cell_type": "markdown",
      "source": [
        "## 출력\n",
        "\n",
        " $N$개의 공을 $K$개의 바구니에 문제의 규칙을 만족하면서 나눠 담을 수 있다면, 가장 많이 담긴 바구니와 가장 적게 담긴 바구니의 공의 개수 차이를 출력한다. 나눠 담을 수 없는 경우에는 -1을 출력한다.\n",
        "\n"
      ],
      "metadata": {
        "id": "CZZheuwGLKaO"
      }
    },
    {
      "cell_type": "markdown",
      "source": [
        "## 제한\n",
        "\n",
        "*  $2 \\le N \\le 100,000$  <br/>\n",
        "* $2 \\le K \\le 1,000$ "
      ],
      "metadata": {
        "id": "0b-B3ZjULQo8"
      }
    },
    {
      "cell_type": "markdown",
      "source": [
        "### 예제 입력 1\n",
        "\n",
        "5 3"
      ],
      "metadata": {
        "id": "najMnhDix_Hj"
      }
    },
    {
      "cell_type": "markdown",
      "source": [
        "### 예제 출력 1\n",
        "\n",
        "-1"
      ],
      "metadata": {
        "id": "th4L5UVEyE6r"
      }
    },
    {
      "cell_type": "markdown",
      "source": [
        "### 예제 입력 2\n",
        "\n",
        "6 3"
      ],
      "metadata": {
        "id": "Ccbm6Q7jShVR"
      }
    },
    {
      "cell_type": "markdown",
      "source": [
        "### 예제 출력 2\n",
        "\n",
        "2"
      ],
      "metadata": {
        "id": "hD5SwmAkSmgz"
      }
    },
    {
      "cell_type": "code",
      "source": [
        "n, k = map(int, input().split())\n",
        "greedy = k * (k+1) // 2  # simplest initialize. 1, 2, ..., k개를 각각 넣는 경우\n",
        "\n",
        "if greedy > n: # 규칙을 지키기에 공의 개수 n이 모자라므로 나눠담기 불가능\n",
        "    print(-1)\n",
        "elif (n - greedy) % k == 0: # 순차적으로 1씩 더 많은 공을 가지게 배분할 경우\n",
        "    print(k-1)\n",
        "else: # 내림차순으로 가장 많이 담긴 바구니에서부터 1개씩 공을 늘리면 k개 차이\n",
        "    print(k)"
      ],
      "metadata": {
        "colab": {
          "base_uri": "https://localhost:8080/"
        },
        "id": "e9tj4dvLVhMU",
        "outputId": "16ce07af-a464-4126-b50d-80d16caf59d2"
      },
      "execution_count": null,
      "outputs": [
        {
          "output_type": "stream",
          "name": "stdout",
          "text": [
            "6 3\n",
            "2\n"
          ]
        }
      ]
    }
  ]
}