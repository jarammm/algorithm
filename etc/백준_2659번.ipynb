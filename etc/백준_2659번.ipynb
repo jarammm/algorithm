{
  "nbformat": 4,
  "nbformat_minor": 0,
  "metadata": {
    "colab": {
      "name": "백준_2659번.ipynb",
      "provenance": [],
      "collapsed_sections": [],
      "authorship_tag": "ABX9TyNmE0nrqU5GZf29kQPa5pQN"
    },
    "kernelspec": {
      "name": "python3",
      "display_name": "Python 3"
    },
    "language_info": {
      "name": "python"
    }
  },
  "cells": [
    {
      "cell_type": "markdown",
      "source": [
        "# 십자카드 문제"
      ],
      "metadata": {
        "id": "NfbTYwi1kFIA"
      }
    },
    {
      "cell_type": "markdown",
      "source": [
        "## 문제\n",
        "\n",
        "위와 같은 십자모양의 한 장의 카드에서, 네 모서리에 1 이상 9 이하의 숫자가 하나씩 씌여 있다. 이 네 개의 숫자 중에는 같은 숫자도 있을 수 있다.\n",
        "<br/><br/>\n",
        "모든 가능한 십자 카드가 주어질 때, 각각의 카드는 다음과 같은 '시계수'라는 번호를 가진다. 시계수는 카드의 숫자들을 시계 방향으로 읽어서 만들어지는 네 자리 수들 중에서 가장 작은 수이다. 위 그림의 카드는 시계방향으로 3227, 2273, 2732, 7322로 읽을 수 있으므로, 이 카드의 시계수는 가장 작은 수인 2273이다.\n",
        "<br/><br/>\n",
        "입력으로 주어진 카드의 시계수를 계산하여, 그 시계수가 모든 시계수들 중에서 몇 번째로 작은 시계수인지를 알아내는 프로그램을 작성하시오.\n",
        "<br/><br/>\n",
        "예를 들어서, 다음과 같은 십자 카드의 시계수는 1122이며, 이 시계수보다 작은 시계수들은 1111, 1112, 1113, 1114, 1115, 1116, 1117, 1118, 1119 뿐이므로 1122는 10번째로 작은 시계수다. (여기서 십자카드는 0 이 나타날 수 없으므로 1120은 시계수가 될 수 없다. 또한 1121 이 적혀있는 카드의 시계수는 1112이므로, 1121은 시계수가 될 수 없다."
      ],
      "metadata": {
        "id": "ihC4sBOBkeuL"
      }
    },
    {
      "cell_type": "markdown",
      "source": [
        "## 입력\n",
        "\n",
        "입력은 한 줄로 이루어지며, 이 한 줄은 카드의 네 모서리에 씌여있는 1 이상 9 이하의 숫자 4개가 시계 방향으로 입력된다. 각 숫자 사이에는 빈칸이 하나 있다."
      ],
      "metadata": {
        "id": "9QIemaaYkm_F"
      }
    },
    {
      "cell_type": "markdown",
      "source": [
        "## 출력\n",
        "\n",
        "입력된 카드의 시계수가 모든 시계수들 중에서 몇 번째로 작은 시계수인지를 출력한다."
      ],
      "metadata": {
        "id": "65xg3vWilC1l"
      }
    },
    {
      "cell_type": "markdown",
      "source": [
        "### 예제 입력\n",
        "\n",
        "2 1 1 2"
      ],
      "metadata": {
        "id": "eYusZSOgkro3"
      }
    },
    {
      "cell_type": "markdown",
      "source": [
        "### 예제 출력\n",
        "\n",
        "10"
      ],
      "metadata": {
        "id": "BK5u_RvplFot"
      }
    },
    {
      "cell_type": "markdown",
      "source": [
        "## 제출 코드"
      ],
      "metadata": {
        "id": "X2GHyaJtlJs-"
      }
    },
    {
      "cell_type": "code",
      "source": [
        "# 시계수 구하는 함수\n",
        "def clock_num(num):\n",
        "    temp = num\n",
        "    for _ in range(3): # 경우의 수가 4가지이므로 비교는 3번\n",
        "        x, y = divmod(num, 1000)\n",
        "        num = y * 10 + x  # ex. 3227 -> 2273 -> 2732 -> 7322\n",
        "        if temp > num:\n",
        "            temp = num\n",
        "    return temp\n",
        "\n",
        "# 1. 시계수 구하기\n",
        "num = clock_num(int(''.join(input().split())))\n",
        "\n",
        "# 2. 몇 번째 시계수인지 구하기 : 1111부터 시작해 시계수인지 확인, 시계수라면 카운트\n",
        "n = 1111 # 첫 번째 시계수\n",
        "cnt = 1 # 몇 번째 시계수인지 계산할 변수. 위에서 구한 시계수를 미리 세어 1 대입.\n",
        "while n < num:\n",
        "    if clock_num(n) == n:\n",
        "        cnt += 1  # n이 시계수이면 더해주고, 아니면 뛰어넘음\n",
        "    n += 1\n",
        "\n",
        "print(cnt)"
      ],
      "metadata": {
        "colab": {
          "base_uri": "https://localhost:8080/"
        },
        "id": "MjIvgEi5iZFz",
        "outputId": "fcd4acb5-a0b5-4f5d-d0b8-5c640eaaaf16"
      },
      "execution_count": 2,
      "outputs": [
        {
          "output_type": "stream",
          "name": "stdout",
          "text": [
            "2 1 1 2\n",
            "10\n"
          ]
        }
      ]
    }
  ]
}