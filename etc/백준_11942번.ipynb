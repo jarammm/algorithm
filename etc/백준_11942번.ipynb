{
  "nbformat": 4,
  "nbformat_minor": 0,
  "metadata": {
    "colab": {
      "name": "백준 11942번.ipynb",
      "provenance": [],
      "collapsed_sections": [],
      "authorship_tag": "ABX9TyNKMk7/VmGm1N+c8q3dDOe/"
    },
    "kernelspec": {
      "name": "python3",
      "display_name": "Python 3"
    },
    "language_info": {
      "name": "python"
    }
  },
  "cells": [
    {
      "cell_type": "markdown",
      "source": [
        "# [19942번 다이어트](https://www.acmicpc.net/problem/19942)"
      ],
      "metadata": {
        "id": "1ADNSLH6KGld"
      }
    },
    {
      "cell_type": "markdown",
      "source": [
        "## 문제\n",
        "\n",
        "식재료 N개 중에서 몇 개를 선택해서 이들의 영양분(단백질, 탄수화물, 지방, 비타민)이 일정 이상이 되어야 한다. 아래 표에 제시된 6가지의 식재료 중에서 몇 개를 선택해서 이들의 영양분의 각각 합이 최소 100, 70, 90, 10가 되도록 하는 경우를 생각해보자. 이 경우 모든 재료를 선택하면 쉽게 해결되지만, 우리는 조건을 만족시키면서도 비용이 최소가 되는 선택을 하려고 한다.\n",
        "<br/><br/>\n",
        "예를 들어, 식재료 1, 3, 5를 선택하면 영양분은 100, 145, 130, 10으로 조건을 만족하지만 가격은 270이 된다. 대신 2, 3, 4를 선택하면 영양분의 합은 110, 130, 90, 10, 비용은 180이 되므로, 앞의 방법보다는 더 나은 선택이 된다.\n",
        "<br/><br/>\n",
        "입력으로 식재료 표가 주어졌을 때, 최저 영양소 기준을 만족하는 최소 비용의 식재료 집합을 찾아야 한다."
      ],
      "metadata": {
        "id": "KgCRLxZMKavT"
      }
    },
    {
      "cell_type": "markdown",
      "source": [
        "## 입력\n",
        "\n",
        "첫 줄에 식재료의 개수 $N$이 주어진다.\n",
        "\n",
        "다음 줄에는 단백질, 지방, 탄수화물, 비타민의 최소 영양성분을 나타내는 정수 $mp$, $mf$, $ms$, $mv$가 주어진다.\n",
        "\n",
        "이어지는 $N$개의 각 줄에는 $i$번째 식재료의 단백질, 지방, 탄수화물, 비타민과 가격이 5개의 정수 $p_i$, $f_i$, $s_i$, $v_i$, $c_i$와 같이 주어진다. 식재료의 번호는 1부터 시작한다."
      ],
      "metadata": {
        "id": "aXrho9egLEYz"
      }
    },
    {
      "cell_type": "markdown",
      "source": [
        "## 출력\n",
        "\n",
        "첫 번째 줄에 최소 비용을 출력하고, 두 번째 줄에 조건을 만족하는 최소 비용 식재료의 번호를 공백으로 구분해 오름차순으로 한 줄에 출력한다. 같은 비용의 집합이 하나 이상이면 사전 순으로 가장 빠른 것을 출력한다.\n",
        "\n",
        "조건을 만족하는 답이 없다면 -1을 출력하고, 둘째 줄에 아무것도 출력하지 않는다."
      ],
      "metadata": {
        "id": "CZZheuwGLKaO"
      }
    },
    {
      "cell_type": "markdown",
      "source": [
        "## 예제\n",
        "\n",
        " 1. $3 \\le N \\le 15$  <br/>\n",
        " 2. $0 \\le mp, mf, ms, mv \\le 500$  <br/>\n",
        " 3. $mp + mf + ms + mv > 0$  <br/>\n",
        " 4. $0 \\le p_i, f_i, s_i, v_i, c_i \\le 500$  <br/>"
      ],
      "metadata": {
        "id": "0b-B3ZjULQo8"
      }
    },
    {
      "cell_type": "markdown",
      "source": [
        "### 예제 입력 1\n",
        "\n",
        "6<br/>\n",
        "100 70 90 10<br/>\n",
        "30 55 10 8 100<br/>\n",
        "60 10 10 2 70<br/>\n",
        "10 80 50 0 50<br/>\n",
        "40 30 30 8 60<br/>\n",
        "60 10 70 2 120<br/>\n",
        "20 70 50 4 4"
      ],
      "metadata": {
        "id": "najMnhDix_Hj"
      }
    },
    {
      "cell_type": "markdown",
      "source": [
        "### 예제 출력 1\n",
        "\n",
        "134<br/>\n",
        "2 4 6"
      ],
      "metadata": {
        "id": "th4L5UVEyE6r"
      }
    },
    {
      "cell_type": "code",
      "source": [
        "def backtrack(p, f, s, v, c, idx):\n",
        "    global total, ans\n",
        "\n",
        "    if p >= need[0] and f >= need[1] and s >= need[2] and v >= need[3]: # 기준 충족\n",
        "        ans = visit[:] # 정답 업데이트\n",
        "        total = c # 최소비용 업데이트\n",
        "        return\n",
        "\n",
        "    # 사전 순으로 빠른 것부터 시도.\n",
        "    for i in range(idx, n):\n",
        "        # 다음 식재료 시도 했을 때 현재 최소 비용인 total보다 크면 필수 영양소 충족 유무와 무관하게 시도하는 의미가 없으므로 추가한 if문\n",
        "        # +) 사전 순으로 시도하기 때문에 현재의 최소 비용과 동일하면 답(ans)을 바꿀 필요 없음.\n",
        "        if c + ingred[i][4] < total:\n",
        "            visit[i] = 1 # i번째 식재료 pick\n",
        "            backtrack(p + ingred[i][0], f + ingred[i][1], s + ingred[i][2], v + ingred[i][3], c + ingred[i][4], i+1) # 다음 순서 식재료 pick\n",
        "            visit[i] = 0 # i번째 식재료 다시 시도 안한 걸로 바꿈\n",
        "\n",
        "n = int(input())\n",
        "need = list(map(int, input().split()))\n",
        "ingred = [list(map(int, input().split())) for _ in range(n)]\n",
        "visit = [0] * n\n",
        "total = 7501  # 500*15+1\n",
        "ans = []\n",
        "\n",
        "# 단백질, 지방, 탄수화물, 비타민, 가격, idx\n",
        "backtrack(0, 0, 0, 0, 0, 0)\n",
        "\n",
        "if ans:\n",
        "    print(total)\n",
        "    for i in range(n):\n",
        "        if ans[i]:\n",
        "            print(i + 1, end=' ')\n",
        "else:\n",
        "    print(-1)"
      ],
      "metadata": {
        "colab": {
          "base_uri": "https://localhost:8080/"
        },
        "id": "e9tj4dvLVhMU",
        "outputId": "7d3821b4-429a-47dd-85a2-f00ac75ce4e2"
      },
      "execution_count": 1,
      "outputs": [
        {
          "output_type": "stream",
          "name": "stdout",
          "text": [
            "6\n",
            "100 70 90 10\n",
            "30 55 10 8 100\n",
            "60 10 10 2 70\n",
            "10 80 50 0 50\n",
            "40 30 30 8 60\n",
            "60 10 70 2 120\n",
            "20 70 50 4 4\n",
            "134\n",
            "2 4 6 "
          ]
        }
      ]
    }
  ]
}
