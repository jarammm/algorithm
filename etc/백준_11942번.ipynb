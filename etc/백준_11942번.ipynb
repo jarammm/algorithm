{
  "nbformat": 4,
  "nbformat_minor": 0,
  "metadata": {
    "colab": {
      "name": "백준 11942번.ipynb",
      "provenance": [],
      "collapsed_sections": [],
      "authorship_tag": "ABX9TyPrrkZJz5sofWLvcPxZLcEM"
    },
    "kernelspec": {
      "name": "python3",
      "display_name": "Python 3"
    },
    "language_info": {
      "name": "python"
    }
  },
  "cells": [
    {
      "cell_type": "markdown",
      "source": [
        "# [19941번 햄버거 분배](https://www.acmicpc.net/problem/19941)"
      ],
      "metadata": {
        "id": "1ADNSLH6KGld"
      }
    },
    {
      "cell_type": "markdown",
      "source": [
        "## 문제\n",
        "\n",
        "<br/><br/>\n",
        "기다란 벤치 모양의 식탁에 사람들과 햄버거가 아래와 같이 단위 간격으로 놓여 있다. 사람들은 자신의 위치에서 거리가 $K$ 이하인 햄버거를 먹을 수 있다.\n",
        "<br/><br/>\n",
        "위의 상태에서 $K = 1$인 경우를 생각해보자. 이 경우 모든 사람은 자신과 인접한 햄버거만 먹을 수 있다. 10번의 위치에 있는 사람은 11번 위치에 있는 햄버거를 먹을 수 있다. 이 경우 다음과 같이 최대 5명의 사람이 햄버거를 먹을 수 있다.\n",
        "<br/><br/>\n",
        "\n",
        "|햄버거\t|사람\t|햄버거\t|사람\t|햄버거|\t사람|\t햄버거|\t햄버거|\t사람|\t사람|\t햄버거|\t사람|\n",
        "|--|--|--|--|--|--|--|--|--|--|--|--|\n",
        "|1\t|2\t|3\t|4\t|5\t|6\t|7\t|8\t|9\t|10|\t11|\t12|\n",
        "\n",
        "<br/><br/>\n",
        "\n",
        "* 2번 위치에 있는 사람: 1번 위치에 있는 햄버거\n",
        "* 4번 위치에 있는 사람: 5번 위치에 있는 햄버거\n",
        "* 6번 위치에 있는 사람: 7번 위치에 있는 햄버거\n",
        "* 9번 위치에 있는 사람: 8번 위치에 있는 햄버거\n",
        "* 10번 위치에 있는 사람: 11번 위치에 있는 햄버거\n",
        "* 12번 위치에 있는 사람: 먹을 수 있는 햄버거가 없음\n",
        " \n",
        "<br/><br/>\n",
        "$K = 2$인 경우에는 6명 모두가 햄버거를 먹을 수 있다.\n",
        "<br/><br/>\n",
        "\n",
        "* 2번 위치에 있는 사람: 1번 위치에 있는 햄버거\n",
        "* 4번 위치에 있는 사람: 3번 위치에 있는 햄버거\n",
        "* 6번 위치에 있는 사람: 5번 위치에 있는 햄버거\n",
        "* 9번 위치에 있는 사람: 7번 위치에 있는 햄버거\n",
        "* 10번 위치에 있는 사람: 8번 위치에 있는 햄버거\n",
        "* 12번 위치에 있는 사람: 11번 위치에 있는 햄버거\n",
        "\n",
        "<br/><br/>\n",
        "\n",
        "식탁의 길이 $N$, 햄버거를 선택할 수 있는 거리 $K$, 사람과 햄버거의 위치가 주어졌을 때, 햄버거를 먹을 수 있는 사람의 최대 수를 구하는 프로그램을 작성하시오."
      ],
      "metadata": {
        "id": "KgCRLxZMKavT"
      }
    },
    {
      "cell_type": "markdown",
      "source": [
        "## 입력\n",
        "\n",
        "첫 줄에 두 정수 $N$과 $K$가 있다. 그리고 다음 줄에 사람과 햄버거의 위치가 문자 P(사람)와 H(햄버거)로 이루어지는 길이 $N$인 문자열로 주어진다."
      ],
      "metadata": {
        "id": "aXrho9egLEYz"
      }
    },
    {
      "cell_type": "markdown",
      "source": [
        "## 출력\n",
        "\n",
        "첫 줄에 햄버거를 먹을 수 있는 최대 사람 수를 나타낸다."
      ],
      "metadata": {
        "id": "CZZheuwGLKaO"
      }
    },
    {
      "cell_type": "markdown",
      "source": [
        "## 제한\n",
        "\n",
        "*  $1 \\le N \\le 20,000$ <br/>\n",
        "\n",
        "*  $1 \\le K \\le 10$ "
      ],
      "metadata": {
        "id": "0b-B3ZjULQo8"
      }
    },
    {
      "cell_type": "markdown",
      "source": [
        "### 예제 입력 1\n",
        "\n",
        "20 1<br/>\n",
        "HHPHPPHHPPHPPPHPHPHP"
      ],
      "metadata": {
        "id": "najMnhDix_Hj"
      }
    },
    {
      "cell_type": "markdown",
      "source": [
        "### 예제 출력 1\n",
        "\n",
        "8"
      ],
      "metadata": {
        "id": "th4L5UVEyE6r"
      }
    },
    {
      "cell_type": "code",
      "source": [
        "n, k = map(int, input().split())\n",
        "table = list(input())\n",
        "p = 0\n",
        "\n",
        "for i in range(n):\n",
        "    if table[i] == 'P':\n",
        "        for i in range(max(i-k, 0), min(i+k+1, n)): # 가장 앞쪽부터 탐색해야 최대한 많은 사람이 먹을 수 있음\n",
        "            if table[i] == 'H':\n",
        "                table[i] = 'X'\n",
        "                p += 1\n",
        "                break\n",
        "\n",
        "print(p)"
      ],
      "metadata": {
        "colab": {
          "base_uri": "https://localhost:8080/"
        },
        "id": "e9tj4dvLVhMU",
        "outputId": "05664383-ac97-452e-f2ad-d7ef123bfdcf"
      },
      "execution_count": 1,
      "outputs": [
        {
          "output_type": "stream",
          "name": "stdout",
          "text": [
            "20 1\n",
            "HHPHPPHHPPHPPPHPHPHP\n",
            "8\n"
          ]
        }
      ]
    }
  ]
}