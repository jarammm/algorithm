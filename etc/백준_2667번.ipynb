{
  "nbformat": 4,
  "nbformat_minor": 0,
  "metadata": {
    "colab": {
      "name": "백준_2667번.ipynb",
      "provenance": [],
      "collapsed_sections": [],
      "authorship_tag": "ABX9TyO7Dx8cDdJ3SoKtt4w6D/tP"
    },
    "kernelspec": {
      "name": "python3",
      "display_name": "Python 3"
    },
    "language_info": {
      "name": "python"
    }
  },
  "cells": [
    {
      "cell_type": "markdown",
      "source": [
        "# 단지 번호 붙이기"
      ],
      "metadata": {
        "id": "NfbTYwi1kFIA"
      }
    },
    {
      "cell_type": "markdown",
      "source": [
        "## 문제\n",
        "\n",
        "<그림 1>과 같이 정사각형 모양의 지도가 있다. 1은 집이 있는 곳을, 0은 집이 없는 곳을 나타낸다. 철수는 이 지도를 가지고 연결된 집의 모임인 단지를 정의하고, 단지에 번호를 붙이려 한다. 여기서 연결되었다는 것은 어떤 집이 좌우, 혹은 아래위로 다른 집이 있는 경우를 말한다. 대각선상에 집이 있는 경우는 연결된 것이 아니다. <그림 2>는 <그림 1>을 단지별로 번호를 붙인 것이다. 지도를 입력하여 단지수를 출력하고, 각 단지에 속하는 집의 수를 오름차순으로 정렬하여 출력하는 프로그램을 작성하시오.\n",
        "\n",
        "<br/><br/>\n",
        "\n",
        "![image.png](data:image/png;base64,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)"
      ],
      "metadata": {
        "id": "ihC4sBOBkeuL"
      }
    },
    {
      "cell_type": "markdown",
      "source": [
        "## 입력\n",
        "\n",
        "첫 번째 줄에는 지도의 크기 N(정사각형이므로 가로와 세로의 크기는 같으며 5≤N≤25)이 입력되고, 그 다음 N줄에는 각각 N개의 자료(0혹은 1)가 입력된다."
      ],
      "metadata": {
        "id": "9QIemaaYkm_F"
      }
    },
    {
      "cell_type": "markdown",
      "source": [
        "## 출력\n",
        "\n",
        "첫 번째 줄에는 총 단지수를 출력하시오. 그리고 각 단지내 집의 수를 오름차순으로 정렬하여 한 줄에 하나씩 출력하시오."
      ],
      "metadata": {
        "id": "65xg3vWilC1l"
      }
    },
    {
      "cell_type": "markdown",
      "source": [
        "### 예제 입력\n",
        "\n",
        "7<br/>\n",
        "0110100<br/>\n",
        "0110101<br/>\n",
        "1110101<br/>\n",
        "0000111<br/>\n",
        "0100000<br/>\n",
        "0111110<br/>\n",
        "0111000"
      ],
      "metadata": {
        "id": "eYusZSOgkro3"
      }
    },
    {
      "cell_type": "markdown",
      "source": [
        "### 예제 출력\n",
        "\n",
        "3<br/>\n",
        "7<br/>\n",
        "8<br/>\n",
        "9"
      ],
      "metadata": {
        "id": "BK5u_RvplFot"
      }
    },
    {
      "cell_type": "markdown",
      "source": [
        "## 제출 코드"
      ],
      "metadata": {
        "id": "X2GHyaJtlJs-"
      }
    },
    {
      "cell_type": "code",
      "source": [
        "n = int(input())\n",
        "graph = []\n",
        "for _ in range(n):\n",
        "    graph.append(list(map(int,input())))\n",
        "\n",
        "g = []\n",
        "cnt = 0\n",
        "dx = [0,0,-1,1] # 상하좌우 움직일 때 x좌표 움직임\n",
        "dy = [-1,1,0,0] # 상하좌우 움질일 때 y좌표 움직임\n",
        "\n",
        "def dfs(x,y):\n",
        "    global cnt\n",
        "    if x < 0 or x >= n or y < 0 or y >= n: # graph 범위를 벗어나면 False\n",
        "        return False\n",
        "    \n",
        "    if graph[x][y] == 1:\n",
        "        cnt += 1  # 단지의 집 개수를 구하기위해 카운팅\n",
        "        graph[x][y] = 0 # 카운트 후 다시 세지 않도록 0으로 바꿔줌.\n",
        "        for i in range(4): # 상하좌우 네 방향 체크\n",
        "            dfs(x+dx[i],y+dy[i])  # 재귀\n",
        "        return True\n",
        "    \n",
        "    # graph[x][y]==0이면 그냥 빠져나옴\n",
        "    \n",
        "for i in range(n): # x좌표\n",
        "    for j in range(n): # y좌표\n",
        "        if dfs(i,j)==True:  # 한 개의 그룹이 완성되면\n",
        "            g.append(cnt)  # 카운팅한 집의 개수를 리스트에 저장한 뒤\n",
        "            cnt = 0  # 0으로 초기화\n",
        "            \n",
        "print(len(g))\n",
        "g.sort()\n",
        "for i in g:\n",
        "    print(i)"
      ],
      "metadata": {
        "colab": {
          "base_uri": "https://localhost:8080/"
        },
        "id": "MjIvgEi5iZFz",
        "outputId": "0d801e31-02f9-41bc-9a3a-e472fcb876a3"
      },
      "execution_count": 1,
      "outputs": [
        {
          "output_type": "stream",
          "name": "stdout",
          "text": [
            "7\n",
            "0110100\n",
            "0110101\n",
            "1110101\n",
            "0000111\n",
            "0100000\n",
            "0111110\n",
            "0111000\n",
            "3\n",
            "7\n",
            "8\n",
            "9\n"
          ]
        }
      ]
    }
  ]
}