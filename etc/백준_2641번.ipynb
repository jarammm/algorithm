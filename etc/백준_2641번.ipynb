{
  "nbformat": 4,
  "nbformat_minor": 0,
  "metadata": {
    "colab": {
      "name": "백준_2641번.ipynb",
      "provenance": [],
      "collapsed_sections": [],
      "authorship_tag": "ABX9TyOyf75asW2Epl86Lr9xKKP/"
    },
    "kernelspec": {
      "name": "python3",
      "display_name": "Python 3"
    },
    "language_info": {
      "name": "python"
    }
  },
  "cells": [
    {
      "cell_type": "markdown",
      "source": [
        "# 다각형 그리기"
      ],
      "metadata": {
        "id": "NfbTYwi1kFIA"
      }
    },
    {
      "cell_type": "markdown",
      "source": [
        "## 문제\n",
        "\n",
        "모눈종이에 다각형을 그리려고 한다. 그리는 방법은 모양수열로 표시된다. 모양수열은 1과 4사이의 숫자가 연속되어 나열된 것으로 1은 오른쪽으로, 2는 위쪽으로, 3은 왼쪽으로, 4는 아래쪽으로 한 칸씩 그리는 것을 말한다.\n",
        "<br/><br/>\n",
        "예를 들어 아래 그림의 다각형 (2)는 점 A에서 시작하여 화살표 방향으로 모양수열 1411433322를 따라서 그린 것이다. 다각형 (3)은 점 B에서 시작하여 화살표 방향으로 모양수열 3221411433을 따라서 그린 것이다. 또한 다각형(4)는 점 C에서 시작하여 화살표 방향으로 모양수열 4411123323을 따라서 그린 것이다. 다각형 (2), (3), (4)는 다각형 (1)과 같으므로 모양수열들 1411433322, 3221411433, 4411123323은 모두 같은 다각형을 그릴 수 있다. 단, 다각형이 회전된 것이나 뒤집어진 것은 같은 다각형이 아니다. 그러므로 아래 그림의 다각형 (5)와 (6)은 다각형 (1)과 다르다.\n",
        "<br/><br/>\n",
        "한 개의 표본 모양수열과 여러 모양수열들이 주어졌을 때 표본 모양수열과 같은 다각형을 그릴 수 있는 모양수열들을 모두 찾는 프로그램을 작성하시오."
      ],
      "metadata": {
        "id": "ihC4sBOBkeuL"
      }
    },
    {
      "cell_type": "markdown",
      "source": [
        "## 입력\n",
        "\n",
        "첫째 줄에는 표본 모양수열의 길이(숫자의 개수)가 주어지고, 둘째 줄에는 표본 모양수열이 주어진다. 셋째 줄에는 모양수열의 개수가 주어지고 넷째 줄부터는 각 줄에 표본 모양수열과 같은 길이의 모양수열이 하나씩 주어진다. 단, 모양수열들의 개수는 최대 100 개이고 모양수열의 길이는 최대 50 이다. 모양수열의 각 숫자 사이에는 빈칸이 하나 있다."
      ],
      "metadata": {
        "id": "9QIemaaYkm_F"
      }
    },
    {
      "cell_type": "markdown",
      "source": [
        "## 출력\n",
        "\n",
        "첫째 줄에는 입력된 표본 모양수열과 같은 다각형을 그리는 모양수열들의 개수를 출력한다. 둘째 줄부터는 각 줄에 표본 모양수열과 같은 다각형을 그릴 수 있는 모양수열을 출력한다. 출력되는 모양수열의 숫자들은 한 칸 띄고 출력한다."
      ],
      "metadata": {
        "id": "65xg3vWilC1l"
      }
    },
    {
      "cell_type": "markdown",
      "source": [
        "### 예제 입력\n",
        "\n",
        "10<br/>\n",
        "1 4 1 1 4 3 3 3 2 2<br/>\n",
        "3<br/>\n",
        "3 2 2 1 4 1 1 4 3 3<br/>\n",
        "1 4 4 3 3 3 2 1 1 2<br/>\n",
        "4 4 1 1 1 2 3 3 2 3"
      ],
      "metadata": {
        "id": "eYusZSOgkro3"
      }
    },
    {
      "cell_type": "markdown",
      "source": [
        "### 예제 출력\n",
        "\n",
        "2\n",
        "3 2 2 1 4 1 1 4 3 3<br/>\n",
        "4 4 1 1 1 2 3 3 2 3"
      ],
      "metadata": {
        "id": "BK5u_RvplFot"
      }
    },
    {
      "cell_type": "markdown",
      "source": [
        "## 제출 코드"
      ],
      "metadata": {
        "id": "X2GHyaJtlJs-"
      }
    },
    {
      "cell_type": "code",
      "source": [
        "length = int(input())\n",
        "shape = list(map(int, input().split()))\n",
        "shape_ = []\n",
        "paths = []\n",
        "ans = []\n",
        "\n",
        "for i in shape:\n",
        "    if i == 1:\n",
        "        shape_.append(3)\n",
        "    elif i == 2:\n",
        "        shape_.append(4)\n",
        "    elif i == 3:\n",
        "        shape_.append(1)\n",
        "    else:\n",
        "        shape_.append(2)\n",
        "shape_.reverse()\n",
        "\n",
        "n = int(input())\n",
        "for _ in range(n):\n",
        "    path = list(map(int, input().split()))\n",
        "    paths.append(path)\n",
        "\n",
        "cnt, start, start_ = 0, shape[0], shape_[0]\n",
        "\n",
        "for path in paths:\n",
        "    flag = 1\n",
        "    for k, v in enumerate(path):\n",
        "        if v == start:\n",
        "            tmp = path[k:] + path[:k]\n",
        "            if tmp == shape:\n",
        "                ans.append(path)             \n",
        "                flag = 0\n",
        "                break\n",
        "    if flag:\n",
        "        for k, v in enumerate(path):\n",
        "            if v == start_:\n",
        "                tmp = path[k:] + path[:k]\n",
        "                if tmp == shape_:\n",
        "                    ans.append(path)             \n",
        "                    break\n",
        "\n",
        "print(len(ans))\n",
        "for answer in ans:\n",
        "    print(*answer)"
      ],
      "metadata": {
        "colab": {
          "base_uri": "https://localhost:8080/"
        },
        "id": "MjIvgEi5iZFz",
        "outputId": "17b2dc71-799a-4962-f347-61ecab69d3a3"
      },
      "execution_count": 1,
      "outputs": [
        {
          "output_type": "stream",
          "name": "stdout",
          "text": [
            "10\n",
            "1 4 1 1 4 3 3 3 2 2\n",
            "3\n",
            "3 2 2 1 4 1 1 4 3 3\n",
            "1 4 4 3 3 3 2 1 1 2\n",
            "4 4 1 1 1 2 3 3 2 3\n",
            "2\n",
            "3 2 2 1 4 1 1 4 3 3\n",
            "4 4 1 1 1 2 3 3 2 3\n"
          ]
        }
      ]
    }
  ]
}