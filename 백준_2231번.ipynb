{
  "nbformat": 4,
  "nbformat_minor": 0,
  "metadata": {
    "colab": {
      "name": "백준 2231번.ipynb",
      "provenance": [],
      "collapsed_sections": [],
      "authorship_tag": "ABX9TyONF7Fdyftc4ceRmcnD2uEN"
    },
    "kernelspec": {
      "name": "python3",
      "display_name": "Python 3"
    },
    "language_info": {
      "name": "python"
    }
  },
  "cells": [
    {
      "cell_type": "markdown",
      "metadata": {
        "id": "ZvL0e96Pk1n3"
      },
      "source": [
        "# 분해합\n",
        "\n",
        "* 단계별 풀이 : 11단계(브루트 포스) - 2단계 2231번 분해합\n",
        "<br/>\n",
        "\n",
        "\n",
        "## 문제\n",
        "\n",
        "어떤 자연수 N이 있을 때, 그 자연수 N의 분해합은 N과 N을 이루는 각 자리수의 합을 의미한다. 어떤 자연수 M의 분해합이 N인 경우, M을 N의 생성자라 한다. 예를 들어, 245의 분해합은 256(=245+2+4+5)이 된다. 따라서 245는 256의 생성자가 된다. 물론, 어떤 자연수의 경우에는 생성자가 없을 수도 있다. 반대로, 생성자가 여러 개인 자연수도 있을 수 있다.\n",
        "<br/><br/>\n",
        "자연수 N이 주어졌을 때, N의 가장 작은 생성자를 구해내는 프로그램을 작성하시오.\n",
        "<br/>\n",
        "\n",
        "### 입력\n",
        "\n",
        "첫째 줄에 자연수 N(1 ≤ N ≤ 1,000,000)이 주어진다.\n",
        "<br/>\n",
        "\n",
        "### 출력\n",
        "\n",
        "첫째 줄에 답을 출력한다. 생성자가 없는 경우에는 0을 출력한다.\n",
        "<br/>\n",
        "\n",
        "#### 예제 입력 1 \n",
        "\n",
        "216\n",
        "<br/>\n",
        "\n",
        "#### 예제 출력 1\n",
        "\n",
        "198"
      ]
    },
    {
      "cell_type": "markdown",
      "metadata": {
        "id": "ZbpqQqLd1Eeh"
      },
      "source": [
        "## 나의 풀이"
      ]
    },
    {
      "cell_type": "code",
      "metadata": {
        "colab": {
          "base_uri": "https://localhost:8080/"
        },
        "id": "87kFQ2Dd7lvd",
        "outputId": "a529c154-98bc-426f-86d1-f1beeec4b679"
      },
      "source": [
        "N = int(input())\n",
        "n = 0\n",
        "for i in range(1, N):\n",
        "    if i + sum(map(int, list(str(i)))) == N:\n",
        "        n = i\n",
        "        break\n",
        "print(n)"
      ],
      "execution_count": 7,
      "outputs": [
        {
          "output_type": "stream",
          "name": "stdout",
          "text": [
            "1\n",
            "0\n"
          ]
        }
      ]
    },
    {
      "cell_type": "markdown",
      "metadata": {
        "id": "84eBH7i1TBwm"
      },
      "source": [
        "## 다른 사람의 풀이"
      ]
    },
    {
      "cell_type": "code",
      "metadata": {
        "id": "ATKVvTgZlu4r"
      },
      "source": [
        "N = input()\n",
        "lenN = len(N)\n",
        "N = int(N)\n",
        "\n",
        "def numSum(n):\n",
        "    nn = str(n)\n",
        "    result = 0\n",
        "    for i in nn:\n",
        "        result += int(i)\n",
        "    return result\n",
        "\n",
        "start = N - lenN*9\n",
        "\n",
        "if start <0:\n",
        "    start =1\n",
        "\n",
        "chk=0\n",
        "\n",
        "for i in range(start,N+1):\n",
        "    tmp = i + numSum(i)\n",
        "    if tmp ==N:\n",
        "        chk=1\n",
        "        print(i)\n",
        "        break\n",
        "if chk ==0:\n",
        "    print(0)"
      ],
      "execution_count": null,
      "outputs": []
    }
  ]
}