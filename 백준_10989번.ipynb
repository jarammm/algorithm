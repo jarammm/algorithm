{
  "nbformat": 4,
  "nbformat_minor": 0,
  "metadata": {
    "colab": {
      "name": "백준 10989번.ipynb",
      "provenance": [],
      "collapsed_sections": [],
      "authorship_tag": "ABX9TyOZHSlY2mp5l3oECYLzi61D"
    },
    "kernelspec": {
      "name": "python3",
      "display_name": "Python 3"
    },
    "language_info": {
      "name": "python"
    }
  },
  "cells": [
    {
      "cell_type": "markdown",
      "metadata": {
        "id": "ZvL0e96Pk1n3"
      },
      "source": [
        "# 수 정렬하기 3\n",
        "\n",
        "* 단계별 풀이 : 12단계(정렬) - 3단계 10989번 수 정렬하기 3\n",
        "> 수의 범위가 작다면 카운팅 정렬을 사용하여 더욱 빠르게 정렬할 수 있습니다.\n",
        "<br/>\n",
        "\n",
        "\n",
        "## 문제\n",
        "\n",
        "N개의 수가 주어졌을 때, 이를 오름차순으로 정렬하는 프로그램을 작성하시오.\n",
        "<br/>\n",
        "\n",
        "### 입력\n",
        "첫째 줄에 수의 개수 N(1 ≤ N ≤ 10,000,000)이 주어진다. 둘째 줄부터 N개의 줄에는 수가 주어진다. 이 수는 10,000보다 작거나 같은 자연수이다.\n",
        "<br/>\n",
        "\n",
        "### 출력\n",
        "\n",
        "첫째 줄부터 N개의 줄에 오름차순으로 정렬한 결과를 한 줄에 하나씩 출력한다.\n",
        "<br/>\n",
        "\n",
        "#### 예제 입력 1 \n",
        "\n",
        "10<br/>\n",
        "5<br/>\n",
        "2<br/>\n",
        "3<br/>\n",
        "1<br/>\n",
        "4<br/>\n",
        "2<br/>\n",
        "3<br/>\n",
        "5<br/>\n",
        "1<br/>\n",
        "7<br/>\n",
        "<br/>\n",
        "\n",
        "#### 예제 출력 1\n",
        "\n",
        "1<br/>\n",
        "1<br/>\n",
        "2<br/>\n",
        "2<br/>\n",
        "3<br/>\n",
        "3<br/>\n",
        "4<br/>\n",
        "5<br/>\n",
        "5<br/>\n",
        "7"
      ]
    },
    {
      "cell_type": "markdown",
      "metadata": {
        "id": "lErz5PhG2L7K"
      },
      "source": [
        "## 나의 풀이"
      ]
    },
    {
      "cell_type": "code",
      "metadata": {
        "colab": {
          "base_uri": "https://localhost:8080/"
        },
        "id": "Wgf0RIZEBWtQ",
        "outputId": "41fabfe5-6b29-439a-ce62-6a5469fc100c"
      },
      "source": [
        "import sys\n",
        "\n",
        "N = int(sys.stdin.readline())\n",
        "n = [0] * 10001\n",
        "\n",
        "for _ in range(N):\n",
        "    n[int(sys.stdin.readline())] += 1\n",
        "\n",
        "for i in range(10001):\n",
        "    if n[i]:\n",
        "        for j in range(n[i]):\n",
        "            print(i)"
      ],
      "execution_count": 14,
      "outputs": [
        {
          "output_type": "stream",
          "name": "stdout",
          "text": [
            "10\n",
            "5\n",
            "2\n",
            "3\n",
            "1\n",
            "4\n",
            "2\n",
            "3\n",
            "5\n",
            "1\n",
            "7\n",
            "1\n",
            "1\n",
            "2\n",
            "2\n",
            "3\n",
            "3\n",
            "4\n",
            "5\n",
            "5\n",
            "7\n"
          ]
        }
      ]
    },
    {
      "cell_type": "markdown",
      "metadata": {
        "id": "jrdUjJASClwD"
      },
      "source": [
        "## 다른 사람 풀이"
      ]
    },
    {
      "cell_type": "code",
      "metadata": {
        "id": "U9MxzH2ZClU_"
      },
      "source": [
        "import sys\n",
        "\n",
        "N = int(sys.stdin.readline())\n",
        "numbers = [0] * 10001\n",
        "\n",
        "for i in range(N):\n",
        "    num = int(sys.stdin.readline())\n",
        "    numbers[num] += 1\n",
        "\n",
        "for i in range(1, 10001):\n",
        "    if numbers[i]:\n",
        "        while numbers[i] > 1000:\n",
        "            print((str(i) + '\\n') * 1000, end='')\n",
        "            numbers[i] -= 1000\n",
        "        print((str(i) + '\\n') * numbers[i], end='')"
      ],
      "execution_count": null,
      "outputs": []
    },
    {
      "cell_type": "markdown",
      "metadata": {
        "id": "6pdE3MdLBah0"
      },
      "source": [
        "### 계수 정렬\n",
        "\n",
        "[참고](https://bowbowbow.tistory.com/8)"
      ]
    },
    {
      "cell_type": "code",
      "metadata": {
        "id": "6wwrLRWZB25q",
        "colab": {
          "base_uri": "https://localhost:8080/"
        },
        "outputId": "a5909d01-7cb7-4e37-d203-b49e22e9d791"
      },
      "source": [
        "#-*- coding: utf-8 -*- \n",
        "#한글 주석을 위해 인코딩 형식 utf-8을 선언함\n",
        "\n",
        "#counting sort python3 version\n",
        "#python3 문법으로 작성되었습니다.\n",
        "\n",
        "#입력 예시 : 1 3 17 5 7\n",
        "#출력 예시 : 1 3 5 7 17\n",
        "\n",
        "#입력될 수 있는 숫자의 최대 크기를 의미합니다. \n",
        "MAX_NUM = 1000\n",
        "\n",
        "#A는 입력된 숫자를 저장하는 배열\n",
        "A = list(map(int, input().split()))\n",
        "\n",
        "#N은 입력된 숫자의 개수 입니다.\n",
        "N = len(A)\n",
        "\n",
        "#0으로 초기화된 입력될 MAX_NUM+1 길이의 배열 count를 생성합니다.\n",
        "count =[0]*(MAX_NUM+1)\n",
        "#countSum은 누적합을 저장하는 배열입니다.\n",
        "countSum =[0]*(MAX_NUM+1)\n",
        "\n",
        "#숫자 등장 횟수 세기\n",
        "for i in range(0, N):\n",
        "\tcount[A[i]] += 1\n",
        "\n",
        "#숫자 등장 횟수 누적합 구하기\n",
        "countSum[0] = count[0]\n",
        "for i in range(1, MAX_NUM+1):\n",
        "\tcountSum[i] = countSum[i-1]+count[i];\n",
        "\n",
        "#B는 정렬된 결과를 저장하는 배열\n",
        "B = [0]*(N+1)\n",
        "\n",
        "for i in range(N-1, -1, -1):\n",
        "\tB[countSum[A[i]]] = A[i]\n",
        "\tcountSum[A[i]] -= 1\n",
        "\n",
        "#수열 A를 정렬한 결과인 수열 B를 출력한다.\n",
        "result = \"\"\n",
        "for i in range(1, N+1):\n",
        "\tresult += str(B[i]) + \" \"\n",
        "print(result)"
      ],
      "execution_count": 15,
      "outputs": [
        {
          "output_type": "stream",
          "name": "stdout",
          "text": [
            "1 3 17 5 7\n",
            "1 3 5 7 17 \n"
          ]
        }
      ]
    }
  ]
}