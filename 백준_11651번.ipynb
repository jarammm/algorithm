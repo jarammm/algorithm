{
  "nbformat": 4,
  "nbformat_minor": 0,
  "metadata": {
    "colab": {
      "name": "백준 11651번.ipynb",
      "provenance": [],
      "collapsed_sections": [],
      "authorship_tag": "ABX9TyO8XLWNbMLOUy9hhUKbNisK"
    },
    "kernelspec": {
      "name": "python3",
      "display_name": "Python 3"
    },
    "language_info": {
      "name": "python"
    }
  },
  "cells": [
    {
      "cell_type": "markdown",
      "metadata": {
        "id": "ZvL0e96Pk1n3"
      },
      "source": [
        "# 좌표 정렬하기 2\n",
        "\n",
        "* 단계별 풀이 : 12단계(정렬) - 7단계 11651번 좌표 정렬하기 2\n",
        "> 좌표를 다른 순서로 정렬하는 문제\n",
        "\n",
        "<br/>\n",
        "\n",
        "\n",
        "## 문제\n",
        "\n",
        "2차원 평면 위의 점 N개가 주어진다. 좌표를 y좌표가 증가하는 순으로, y좌표가 같으면 x좌표가 증가하는 순서로 정렬한 다음 출력하는 프로그램을 작성하시오.\n",
        "<br/>\n",
        "\n",
        "### 입력\n",
        "첫째 줄에 점의 개수 N (1 ≤ N ≤ 100,000)이 주어진다. 둘째 줄부터 N개의 줄에는 i번점의 위치 xi와 yi가 주어진다. (-100,000 ≤ xi, yi ≤ 100,000) 좌표는 항상 정수이고, 위치가 같은 두 점은 없다.\n",
        "### 출력\n",
        "첫째 줄부터 N개의 줄에 점을 정렬한 결과를 출력한다.\n",
        "<br/>\n",
        "\n",
        "#### 예제 입력 1 \n",
        "5<br/>\n",
        "0 4<br/>\n",
        "1 2<br/>\n",
        "1 -1<br/>\n",
        "2 2<br/>\n",
        "3 3\n",
        "\n",
        "#### 예제 출력 1 \n",
        "1 -1<br/>\n",
        "1 2<br/>\n",
        "2 2<br/>\n",
        "3 3<br/>\n",
        "0 4\n"
      ]
    },
    {
      "cell_type": "markdown",
      "metadata": {
        "id": "sZRT1l0QD2OE"
      },
      "source": [
        "## 나의 풀이 1"
      ]
    },
    {
      "cell_type": "code",
      "metadata": {
        "colab": {
          "base_uri": "https://localhost:8080/"
        },
        "id": "0VM6tmqydOfo",
        "outputId": "cb04ba03-4b9e-43ec-b363-9cd7bf259062"
      },
      "source": [
        "import sys\n",
        "N = int(sys.stdin.readline())\n",
        "points = []\n",
        "for _ in range(N):\n",
        "    x, y = map(int, sys.stdin.readline().split())\n",
        "    points.append([y, x])\n",
        "\n",
        "points.sort()\n",
        "\n",
        "for y, x in points:\n",
        "    print(x, y)"
      ],
      "execution_count": 1,
      "outputs": [
        {
          "output_type": "stream",
          "name": "stdout",
          "text": [
            "5\n",
            "0 4\n",
            "1 2\n",
            "1 -1\n",
            "2 2\n",
            "3 3\n",
            "1 -1\n",
            "1 2\n",
            "2 2\n",
            "3 3\n",
            "0 4\n"
          ]
        }
      ]
    },
    {
      "cell_type": "markdown",
      "metadata": {
        "id": "TcB_A-JM0Teo"
      },
      "source": [
        "## 나의 풀이 2"
      ]
    },
    {
      "cell_type": "code",
      "metadata": {
        "id": "1qtV6Q4czH9u"
      },
      "source": [
        "N = int(input())\n",
        "points = []\n",
        "for _ in range(N):\n",
        "    x, y = map(int,input().split())\n",
        "    points.append([y, x])\n",
        "\n",
        "points.sort()\n",
        "\n",
        "for y, x in points:\n",
        "    print(x, y)"
      ],
      "execution_count": null,
      "outputs": []
    }
  ]
}