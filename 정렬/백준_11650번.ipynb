{
  "nbformat": 4,
  "nbformat_minor": 0,
  "metadata": {
    "colab": {
      "name": "백준 11650번.ipynb",
      "provenance": [],
      "collapsed_sections": [],
      "authorship_tag": "ABX9TyNkZa6nl9H14yZtlluCMuc9"
    },
    "kernelspec": {
      "name": "python3",
      "display_name": "Python 3"
    },
    "language_info": {
      "name": "python"
    }
  },
  "cells": [
    {
      "cell_type": "markdown",
      "metadata": {
        "id": "ZvL0e96Pk1n3"
      },
      "source": [
        "# 좌표 정렬하기\n",
        "\n",
        "* 단계별 풀이 : 12단계(정렬) - 6단계 11650번 좌표 정렬하기\n",
        "> 좌표를 정렬하는 문제\n",
        "\n",
        "<br/>\n",
        "\n",
        "\n",
        "## 문제\n",
        "\n",
        "2차원 평면 위의 점 N개가 주어진다. 좌표를 x좌표가 증가하는 순으로, x좌표가 같으면 y좌표가 증가하는 순서로 정렬한 다음 출력하는 프로그램을 작성하시오.\n",
        "<br/>\n",
        "\n",
        "### 입력\n",
        "첫째 줄에 점의 개수 N (1 ≤ N ≤ 100,000)이 주어진다. 둘째 줄부터 N개의 줄에는 i번점의 위치 xi와 yi가 주어진다. (-100,000 ≤ xi, yi ≤ 100,000) 좌표는 항상 정수이고, 위치가 같은 두 점은 없다.\n",
        "\n",
        "### 출력\n",
        "첫째 줄부터 N개의 줄에 점을 정렬한 결과를 출력한다.\n",
        "<br/>\n",
        "\n",
        "#### 예제 입력 1 \n",
        "5<br/>\n",
        "3 4<br/>\n",
        "1 1<br/>\n",
        "1 -1<br/>\n",
        "2 2<br/>\n",
        "3 3\n",
        "\n",
        "#### 예제 출력 1 \n",
        "1 -1<br/>\n",
        "1 1<br/>\n",
        "2 2<br/>\n",
        "3 3<br/>\n",
        "3 4\n"
      ]
    },
    {
      "cell_type": "markdown",
      "metadata": {
        "id": "sZRT1l0QD2OE"
      },
      "source": [
        "## 나의 풀이"
      ]
    },
    {
      "cell_type": "code",
      "metadata": {
        "colab": {
          "base_uri": "https://localhost:8080/"
        },
        "id": "0VM6tmqydOfo",
        "outputId": "df8a7e48-4b08-4191-abf1-0f25bf6f1ffa"
      },
      "source": [
        "N = int(input())\n",
        "points = []\n",
        "for _ in range(N):\n",
        "    x, y = map(int, input().split())\n",
        "    points.append([x, y])\n",
        "\n",
        "points.sort()\n",
        "\n",
        "for x, y in points:\n",
        "    print(x, y)"
      ],
      "execution_count": 10,
      "outputs": [
        {
          "output_type": "stream",
          "name": "stdout",
          "text": [
            "5\n",
            "3 4\n",
            "1 1\n",
            "1 -1\n",
            "2 2\n",
            "3 3\n",
            "1 -1\n",
            "1 1\n",
            "2 2\n",
            "3 3\n",
            "3 4\n"
          ]
        }
      ]
    },
    {
      "cell_type": "markdown",
      "metadata": {
        "id": "RrPz6JqAjDEP"
      },
      "source": [
        "## 다른 사람의 풀이"
      ]
    },
    {
      "cell_type": "code",
      "metadata": {
        "id": "DZTvOY9ZhVu8"
      },
      "source": [
        "import sys\n",
        "input = sys.stdin.readline\n",
        "\n",
        "N = int(input())\n",
        "\n",
        "list_a=[]\n",
        "for i in range(N):\n",
        "    x,y = map(int,input().split())\n",
        "    list_a.append([x,y])\n",
        "\n",
        "list_a = sorted(list_a, key = lambda x : (x[0],x[1]))#핵심 : 0은 앞에, 1은 뒤에\n",
        "                                                       \n",
        "\n",
        "for j in range(N):\n",
        "    print(list_a[j][0],list_a[j][1])"
      ],
      "execution_count": null,
      "outputs": []
    }
  ]
}
