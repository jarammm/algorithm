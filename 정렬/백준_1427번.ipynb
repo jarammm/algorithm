{
  "nbformat": 4,
  "nbformat_minor": 0,
  "metadata": {
    "colab": {
      "name": "백준 1427번.ipynb",
      "provenance": [],
      "collapsed_sections": [],
      "authorship_tag": "ABX9TyMpLgJFLla3iKHolKMsDEkw"
    },
    "kernelspec": {
      "name": "python3",
      "display_name": "Python 3"
    },
    "language_info": {
      "name": "python"
    }
  },
  "cells": [
    {
      "cell_type": "markdown",
      "metadata": {
        "id": "ZvL0e96Pk1n3"
      },
      "source": [
        "# 소트인사이드\n",
        "\n",
        "* 단계별 풀이 : 12단계(정렬) - 5단계 1427번 소트인사이드\n",
        "> 숫자를 정렬하는 문제\n",
        "\n",
        "<br/>\n",
        "\n",
        "\n",
        "## 문제\n",
        "\n",
        "배열을 정렬하는 것은 쉽다. 수가 주어지면, 그 수의 각 자리수를 내림차순으로 정렬해보자.\n",
        "<br/>\n",
        "\n",
        "### 입력\n",
        "첫째 줄에 정렬하려고 하는 수 N이 주어진다. N은 1,000,000,000보다 작거나 같은 자연수이다.\n",
        "\n",
        "### 출력\n",
        "첫째 줄에 자리수를 내림차순으로 정렬한 수를 출력한다.\n",
        "<br/>\n",
        "\n",
        "#### 예제 입력 1 \n",
        "2143\n",
        "\n",
        "#### 예제 출력 1 \n",
        "4321\n"
      ]
    },
    {
      "cell_type": "markdown",
      "metadata": {
        "id": "sZRT1l0QD2OE"
      },
      "source": [
        "## 나의 풀이"
      ]
    },
    {
      "cell_type": "code",
      "metadata": {
        "colab": {
          "base_uri": "https://localhost:8080/"
        },
        "id": "vKxTdTnkD3Tg",
        "outputId": "f1c58766-0334-4e83-f267-935f5bb0b654"
      },
      "source": [
        "nlist = list(input())\n",
        "\n",
        "nlist.sort(reverse=True)\n",
        "print(''.join(nlist))"
      ],
      "execution_count": 14,
      "outputs": [
        {
          "output_type": "stream",
          "name": "stdout",
          "text": [
            "2143\n",
            "4321\n"
          ]
        }
      ]
    },
    {
      "cell_type": "markdown",
      "metadata": {
        "id": "AEbzAOieMD7X"
      },
      "source": [
        "## 나의 풀이 2\n",
        "\n",
        "> 삽입 정렬"
      ]
    },
    {
      "cell_type": "code",
      "metadata": {
        "colab": {
          "base_uri": "https://localhost:8080/"
        },
        "id": "2q4bSx9CHD6h",
        "outputId": "68ec8ccd-b98c-41ed-aaac-66cbe5f200d0"
      },
      "source": [
        "nlist = list(input())\n",
        "\n",
        "for i in range(1, len(nlist)):\n",
        "    loc = i-1\n",
        "    new = nlist[i]\n",
        "    while loc >= 0 and new > nlist[loc]:    # 오름차순 정렬 시에는 new < nlist[loc]로 바꿔주면 된다.\n",
        "        nlist[loc+1] = nlist[loc]\n",
        "        loc -= 1\n",
        "    nlist[loc + 1] = new\n",
        "\n",
        "print(''.join(nlist))"
      ],
      "execution_count": 17,
      "outputs": [
        {
          "output_type": "stream",
          "name": "stdout",
          "text": [
            "2143\n",
            "4321\n"
          ]
        }
      ]
    }
  ]
}
