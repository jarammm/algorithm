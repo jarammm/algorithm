{
  "nbformat": 4,
  "nbformat_minor": 0,
  "metadata": {
    "colab": {
      "name": "백준 10844번.ipynb",
      "provenance": [],
      "collapsed_sections": [],
      "authorship_tag": "ABX9TyMkhmQz9jV61MsKVXoLozGv"
    },
    "kernelspec": {
      "name": "python3",
      "display_name": "Python 3"
    },
    "language_info": {
      "name": "python"
    }
  },
  "cells": [
    {
      "cell_type": "markdown",
      "source": [
        "# 쉬운 계단 수\n",
        "\n",
        "* 15단계 동적 계획법1 9단계 쉬운 계단 수\n",
        "\n",
        "> 동적 계획법을 이용해 계단 수를 구하는 문제\n"
      ],
      "metadata": {
        "id": "uDIqQfgjJfSd"
      }
    },
    {
      "cell_type": "markdown",
      "source": [
        "## 문제\n",
        "\n",
        "45656이란 수를 보자.\n",
        "\n",
        "이 수는 인접한 모든 자리의 차이가 1이다. 이런 수를 계단 수라고 한다.\n",
        "\n",
        "N이 주어질 때, 길이가 N인 계단 수가 총 몇 개 있는지 구해보자. 0으로 시작하는 수는 계단수가 아니다."
      ],
      "metadata": {
        "id": "cd1eJqSPx4n8"
      }
    },
    {
      "cell_type": "markdown",
      "source": [
        "## 입력\n",
        "\n",
        "첫째 줄에 N이 주어진다. N은 1보다 크거나 같고, 100보다 작거나 같은 자연수이다."
      ],
      "metadata": {
        "id": "CYD7pNZVyF3d"
      }
    },
    {
      "cell_type": "markdown",
      "source": [
        "## 출력\n",
        "\n",
        "첫째 줄에 정답을 1,000,000,000으로 나눈 나머지를 출력한다."
      ],
      "metadata": {
        "id": "NHx8_pCJyJ3s"
      }
    },
    {
      "cell_type": "markdown",
      "source": [
        "### 예제 입력 1 \n",
        "\n",
        "1"
      ],
      "metadata": {
        "id": "j1ffeVtPyM7y"
      }
    },
    {
      "cell_type": "markdown",
      "source": [
        "### 예제 출력 1\n",
        "\n",
        "9"
      ],
      "metadata": {
        "id": "TTa6AHazyWA5"
      }
    },
    {
      "cell_type": "markdown",
      "source": [
        "### 예제 입력 2\n",
        "\n",
        "2"
      ],
      "metadata": {
        "id": "E2ZVfo5Ov98L"
      }
    },
    {
      "cell_type": "markdown",
      "source": [
        "### 예제 출력 2\n",
        "\n",
        "17"
      ],
      "metadata": {
        "id": "ollx4p0rv-HF"
      }
    },
    {
      "cell_type": "markdown",
      "source": [
        "## 코드\n",
        "\n",
        "[참고](https://pacific-ocean.tistory.com/151)"
      ],
      "metadata": {
        "id": "9MWVG0NuyYXo"
      }
    },
    {
      "cell_type": "code",
      "source": [
        "C = 10**9\n",
        "N = int(input())\n",
        "dp = [[0]*10 for _ in range(N+1)]\n",
        "\n",
        "for i in range(1, 10):\n",
        "    dp[1][i] = 1\n",
        "\n",
        "for i in range(2, N+1):\n",
        "    for j in range(10):\n",
        "        if j == 0: dp[i][j] = dp[i-1][1] # 끝자리 수가 0일 때의 경우의 수\n",
        "        elif j == 9: dp[i][j] = dp[i-1][8] # 끝자리 수가 9일 때의 경우의 수\n",
        "        else: dp[i][j] = dp[i-1][j-1] + dp[i-1][j+1] # 끝자리 수가 1 ~ 8일 때의 경우의 수\n",
        "        \n",
        "print(sum(dp[N]) % C)"
      ],
      "metadata": {
        "colab": {
          "base_uri": "https://localhost:8080/"
        },
        "id": "5brKu8tZvUum",
        "outputId": "dcc0b267-3a5c-4b90-91b2-5c15443d1ebf"
      },
      "execution_count": 6,
      "outputs": [
        {
          "output_type": "stream",
          "name": "stdout",
          "text": [
            "10\n",
            "2986\n"
          ]
        }
      ]
    },
    {
      "cell_type": "code",
      "source": [
        "dp"
      ],
      "metadata": {
        "colab": {
          "base_uri": "https://localhost:8080/"
        },
        "id": "FI-MbDqey7uL",
        "outputId": "acac9025-1341-412a-d6d7-084fb4f841a9"
      },
      "execution_count": 7,
      "outputs": [
        {
          "output_type": "execute_result",
          "data": {
            "text/plain": [
              "[[0, 0, 0, 0, 0, 0, 0, 0, 0, 0],\n",
              " [0, 1, 1, 1, 1, 1, 1, 1, 1, 1],\n",
              " [1, 1, 2, 2, 2, 2, 2, 2, 2, 1],\n",
              " [1, 3, 3, 4, 4, 4, 4, 4, 3, 2],\n",
              " [3, 4, 7, 7, 8, 8, 8, 7, 6, 3],\n",
              " [4, 10, 11, 15, 15, 16, 15, 14, 10, 6],\n",
              " [10, 15, 25, 26, 31, 30, 30, 25, 20, 10],\n",
              " [15, 35, 41, 56, 56, 61, 55, 50, 35, 20],\n",
              " [35, 56, 91, 97, 117, 111, 111, 90, 70, 35],\n",
              " [56, 126, 153, 208, 208, 228, 201, 181, 125, 70],\n",
              " [126, 209, 334, 361, 436, 409, 409, 326, 251, 125]]"
            ]
          },
          "metadata": {},
          "execution_count": 7
        }
      ]
    }
  ]
}