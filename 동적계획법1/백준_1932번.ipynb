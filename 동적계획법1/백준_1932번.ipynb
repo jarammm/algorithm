{
  "nbformat": 4,
  "nbformat_minor": 0,
  "metadata": {
    "colab": {
      "name": "백준 1932번.ipynb",
      "provenance": [],
      "collapsed_sections": [],
      "authorship_tag": "ABX9TyM+/MPlJIlRZUl/MPip9fKP"
    },
    "kernelspec": {
      "name": "python3",
      "display_name": "Python 3"
    },
    "language_info": {
      "name": "python"
    }
  },
  "cells": [
    {
      "cell_type": "markdown",
      "source": [
        "# 정수 삼각형\n",
        "\n",
        "* 15단계 동적 계획법1 6단계 정수 삼각형\n",
        "\n",
        "> 각 층의 모든 칸마다 최댓값을 저장하면서 동적 계획법으로 푸는 문제"
      ],
      "metadata": {
        "id": "uDIqQfgjJfSd"
      }
    },
    {
      "cell_type": "markdown",
      "source": [
        "## 문제\n",
        "\n",
        "```\n",
        "        7\n",
        "      3   8\n",
        "    8   1   0\n",
        "  2   7   4   4\n",
        "4   5   2   6   5\n",
        "```\n",
        "\n",
        "위 그림은 크기가 5인 정수 삼각형의 한 모습이다.\n",
        "<br/><br/>\n",
        "맨 위층 7부터 시작해서 아래에 있는 수 중 하나를 선택하여 아래층으로 내려올 때, 이제까지 선택된 수의 합이 최대가 되는 경로를 구하는 프로그램을 작성하라. 아래층에 있는 수는 현재 층에서 선택된 수의 대각선 왼쪽 또는 대각선 오른쪽에 있는 것 중에서만 선택할 수 있다.\n",
        "<br/><br/>\n",
        "삼각형의 크기는 1 이상 500 이하이다. 삼각형을 이루고 있는 각 수는 모두 정수이며, 범위는 0 이상 9999 이하이다."
      ],
      "metadata": {
        "id": "cd1eJqSPx4n8"
      }
    },
    {
      "cell_type": "markdown",
      "source": [
        "## 입력\n",
        "\n",
        "첫째 줄에 삼각형의 크기 n(1 ≤ n ≤ 500)이 주어지고, 둘째 줄부터 n+1번째 줄까지 정수 삼각형이 주어진다."
      ],
      "metadata": {
        "id": "CYD7pNZVyF3d"
      }
    },
    {
      "cell_type": "markdown",
      "source": [
        "## 출력\n",
        "\n",
        "첫째 줄에 합이 최대가 되는 경로에 있는 수의 합을 출력한다."
      ],
      "metadata": {
        "id": "NHx8_pCJyJ3s"
      }
    },
    {
      "cell_type": "markdown",
      "source": [
        "### 예제 입력 1 \n",
        "\n",
        "5<br/>\n",
        "7<br/>\n",
        "3 8<br/>\n",
        "8 1 0<br/>\n",
        "2 7 4 4<br/>\n",
        "4 5 2 6 5"
      ],
      "metadata": {
        "id": "j1ffeVtPyM7y"
      }
    },
    {
      "cell_type": "markdown",
      "source": [
        "### 예제 출력 1\n",
        "30"
      ],
      "metadata": {
        "id": "TTa6AHazyWA5"
      }
    },
    {
      "cell_type": "markdown",
      "source": [
        "## 코드"
      ],
      "metadata": {
        "id": "9MWVG0NuyYXo"
      }
    },
    {
      "cell_type": "code",
      "source": [
        "n = int(input())\n",
        "g = []\n",
        "for _ in range(n):\n",
        "    g.append(list(map(int, input().split())))\n",
        "\n",
        "k = 2\n",
        "\n",
        "for i in range(1, n):\n",
        "    for j in range(k):\n",
        "        if j == 0:\n",
        "            g[i][j] += g[i - 1][j]\n",
        "        elif i == j:\n",
        "            g[i][j] += g[i - 1][j - 1]\n",
        "        else:\n",
        "            g[i][j] += max(g[i - 1][j - 1], g[i - 1][j])\n",
        "    print(\"k: \", k, g[i])\n",
        "    k += 1\n",
        "\n",
        "print(max(g[n - 1]))"
      ],
      "metadata": {
        "colab": {
          "base_uri": "https://localhost:8080/"
        },
        "id": "A-fPE1A7WeRd",
        "outputId": "4adf7bc0-d229-47f7-f5f9-89a829ef92d1"
      },
      "execution_count": 13,
      "outputs": [
        {
          "output_type": "stream",
          "name": "stdout",
          "text": [
            "5\n",
            "7\n",
            "3 8\n",
            "8 1 0\n",
            "2 7 4 4\n",
            "4 5 2 6 5\n",
            "k:  2 [10, 15]\n",
            "k:  3 [18, 16, 15]\n",
            "k:  4 [20, 25, 20, 19]\n",
            "k:  5 [24, 30, 27, 26, 24]\n",
            "30\n"
          ]
        }
      ]
    }
  ]
}