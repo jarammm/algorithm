{
  "nbformat": 4,
  "nbformat_minor": 0,
  "metadata": {
    "colab": {
      "name": "백준 11054번.ipynb",
      "provenance": [],
      "collapsed_sections": [],
      "authorship_tag": "ABX9TyPnar54dwCH5rBtxPhSaFJh"
    },
    "kernelspec": {
      "name": "python3",
      "display_name": "Python 3"
    },
    "language_info": {
      "name": "python"
    }
  },
  "cells": [
    {
      "cell_type": "markdown",
      "source": [
        "# 가장 긴 바이토닉 부분 수열\n",
        "\n",
        "* 15단계 동적 계획법1 12단계\n",
        "\n",
        "> LIS 응용 문제 1\n"
      ],
      "metadata": {
        "id": "uDIqQfgjJfSd"
      }
    },
    {
      "cell_type": "markdown",
      "source": [
        "## 문제\n",
        "\n",
        "수열 S가 어떤 수 $S_{k}$를 기준으로 $S_{1} < S_{2} < ... S_{k-1} < S_{k} > S_{k+1} > ... S_{N-1} > S_{N}$을 만족한다면, 그 수열을 바이토닉 수열이라고 한다.\n",
        "<br/><br/>\n",
        "예를 들어, {10, 20, **30**, 25, 20}과 {10, 20, 30, **40**}, {**50**, 40, 25, 10} 은 바이토닉 수열이지만,  {1, 2, 3, 2, 1, 2, 3, 2, 1}과 {10, 20, 30, 40, 20, 30} 은 바이토닉 수열이 아니다.\n",
        "<br/><br/>\n",
        "수열 A가 주어졌을 때, 그 수열의 부분 수열 중 바이토닉 수열이면서 가장 긴 수열의 길이를 구하는 프로그램을 작성하시오."
      ],
      "metadata": {
        "id": "cd1eJqSPx4n8"
      }
    },
    {
      "cell_type": "markdown",
      "source": [
        "## 입력\n",
        "\n",
        "첫째 줄에 수열 A의 크기 N이 주어지고, 둘째 줄에는 수열 A를 이루고 있는 Ai가 주어진다. (1 ≤ N ≤ 1,000, 1 ≤ Ai ≤ 1,000)"
      ],
      "metadata": {
        "id": "CYD7pNZVyF3d"
      }
    },
    {
      "cell_type": "markdown",
      "source": [
        "## 출력\n",
        "\n",
        "첫째 줄에 수열 A의 부분 수열 중에서 가장 긴 바이토닉 수열의 길이를 출력한다."
      ],
      "metadata": {
        "id": "NHx8_pCJyJ3s"
      }
    },
    {
      "cell_type": "markdown",
      "source": [
        "### 예제 입력 1 \n",
        "\n",
        "10<br/>\n",
        "1 5 2 1 4 3 4 5 2 1"
      ],
      "metadata": {
        "id": "j1ffeVtPyM7y"
      }
    },
    {
      "cell_type": "markdown",
      "source": [
        "### 예제 출력 1\n",
        "\n",
        "7"
      ],
      "metadata": {
        "id": "TTa6AHazyWA5"
      }
    },
    {
      "cell_type": "markdown",
      "source": [
        "## 코드\n",
        "\n",
        "[참고](https://pacific-ocean.tistory.com/158)"
      ],
      "metadata": {
        "id": "9MWVG0NuyYXo"
      }
    },
    {
      "cell_type": "code",
      "source": [
        "n = int(input())\n",
        "a = list(map(int, input().split()))\n",
        "dpp = [0 for i in range(n)]\n",
        "dpm = [0 for i in range(n)]\n",
        "dpb = [0 for i in range(n)]\n",
        "\n",
        "# 오름차순 파트\n",
        "# n번째 원소가 마지막 원소일 때의 오름차순 개수 count\n",
        "for i in range(n):\n",
        "    for j in range(i):\n",
        "        if a[i] > a[j] and dpp[i] < dpp[j]:\n",
        "            dpp[i] = dpp[j]\n",
        "    dpp[i] += 1\n",
        "\n",
        "print(dpp)\n",
        "\n",
        "# n번째 원소가 첫 원소일 때의 내림차순 개수 count\n",
        "for i in range(n - 1, -1, -1):\n",
        "    for j in range(n - 1, i, -1):\n",
        "        if a[i] > a[j] and dpm[i] < dpm[j]:\n",
        "            dpm[i] = dpm[j]\n",
        "    dpm[i] += 1\n",
        "\n",
        "print(dpm)\n",
        "\n",
        "for i in range(n):\n",
        "    dpb[i] = dpp[i] + dpm[i] - 1 # 겹치는 원소 1개 빼야함\n",
        "\n",
        "print(dpb)\n",
        "\n",
        "print(max(dpb))"
      ],
      "metadata": {
        "colab": {
          "base_uri": "https://localhost:8080/"
        },
        "id": "qG6TCAmbAcwy",
        "outputId": "8d2ee374-d6b4-4672-e377-a35b81026448"
      },
      "execution_count": 11,
      "outputs": [
        {
          "output_type": "stream",
          "name": "stdout",
          "text": [
            "10\n",
            "1 5 2 1 4 3 4 5 2 1\n",
            "[1, 2, 2, 1, 3, 3, 4, 5, 2, 1]\n",
            "[1, 5, 2, 1, 4, 3, 3, 3, 2, 1]\n",
            "[1, 6, 3, 1, 6, 5, 6, 7, 3, 1]\n",
            "7\n"
          ]
        }
      ]
    },
    {
      "cell_type": "code",
      "source": [
        ""
      ],
      "metadata": {
        "id": "Mvql1GJXCLjU"
      },
      "execution_count": null,
      "outputs": []
    }
  ]
}