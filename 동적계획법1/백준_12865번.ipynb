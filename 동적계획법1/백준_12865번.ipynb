{
  "nbformat": 4,
  "nbformat_minor": 0,
  "metadata": {
    "colab": {
      "name": "백준 12865번.ipynb",
      "provenance": [],
      "collapsed_sections": [],
      "authorship_tag": "ABX9TyN22uFhosvUoLe2IOHgBehg"
    },
    "kernelspec": {
      "name": "python3",
      "display_name": "Python 3"
    },
    "language_info": {
      "name": "python"
    }
  },
  "cells": [
    {
      "cell_type": "markdown",
      "source": [
        "# [12865번 평범한 배낭](https://www.acmicpc.net/problem/12865)"
      ],
      "metadata": {
        "id": "1ADNSLH6KGld"
      }
    },
    {
      "cell_type": "markdown",
      "source": [
        "## 문제\n",
        "\n",
        "이 문제는 아주 평범한 배낭에 관한 문제이다.\n",
        "<br/><br/>\n",
        "한 달 후면 국가의 부름을 받게 되는 준서는 여행을 가려고 한다. 세상과의 단절을 슬퍼하며 최대한 즐기기 위한 여행이기 때문에, 가지고 다닐 배낭 또한 최대한 가치 있게 싸려고 한다.\n",
        "<br/><br/>\n",
        "준서가 여행에 필요하다고 생각하는 N개의 물건이 있다. 각 물건은 무게 W와 가치 V를 가지는데, 해당 물건을 배낭에 넣어서 가면 준서가 V만큼 즐길 수 있다. 아직 행군을 해본 적이 없는 준서는 최대 K만큼의 무게만을 넣을 수 있는 배낭만 들고 다닐 수 있다. 준서가 최대한 즐거운 여행을 하기 위해 배낭에 넣을 수 있는 물건들의 가치의 최댓값을 알려주자.\n"
      ],
      "metadata": {
        "id": "KgCRLxZMKavT"
      }
    },
    {
      "cell_type": "markdown",
      "source": [
        "## 입력\n",
        "\n",
        "첫 줄에 물품의 수 N(1 ≤ N ≤ 100)과 준서가 버틸 수 있는 무게 K(1 ≤ K ≤ 100,000)가 주어진다. 두 번째 줄부터 N개의 줄에 거쳐 각 물건의 무게 W(1 ≤ W ≤ 100,000)와 해당 물건의 가치 V(0 ≤ V ≤ 1,000)가 주어진다.\n",
        "\n",
        "입력으로 주어지는 모든 수는 정수이다."
      ],
      "metadata": {
        "id": "aXrho9egLEYz"
      }
    },
    {
      "cell_type": "markdown",
      "source": [
        "## 출력\n",
        "\n",
        "한 줄에 배낭에 넣을 수 있는 물건들의 가치합의 최댓값을 출력한다.\n",
        "\n"
      ],
      "metadata": {
        "id": "CZZheuwGLKaO"
      }
    },
    {
      "cell_type": "markdown",
      "source": [
        "## 예제 입력 1\n",
        "\n",
        "4 7<br/>\n",
        "6 13<br/>\n",
        "4 8<br/>\n",
        "3 6<br/>\n",
        "5 12"
      ],
      "metadata": {
        "id": "najMnhDix_Hj"
      }
    },
    {
      "cell_type": "markdown",
      "source": [
        "## 예제 출력 1\n",
        "\n",
        "14"
      ],
      "metadata": {
        "id": "th4L5UVEyE6r"
      }
    },
    {
      "cell_type": "markdown",
      "source": [
        "## 코드\n",
        "\n",
        "> [참고](https://hongcoding.tistory.com/50)"
      ],
      "metadata": {
        "id": "EXxsgHs2Qgic"
      }
    },
    {
      "cell_type": "code",
      "source": [
        "# import sys\n",
        "# input = sys.stdin.readline\n",
        "n, k = map(int, input().split())\n",
        "\n",
        "obj = [[0,0]]\n",
        "knapsack = [[0]*(k+1) for _ in range(n+1)]\n",
        "\n",
        "for i in range(n):\n",
        "    obj.append(list(map(int, input().split())))\n",
        "\n",
        "for i in range(1, n+1):\n",
        "    for j in range(1, k+1):\n",
        "        w = obj[i][0]\n",
        "        v = obj[i][1]\n",
        "\n",
        "        if j < w:\n",
        "            knapsack[i][j] = knapsack[i-1][j]\n",
        "        else:\n",
        "            knapsack[i][j] = max(knapsack[i-1][j], knapsack[i-1][j-w]+v)\n",
        "\n",
        "print(knapsack[n][k])"
      ],
      "metadata": {
        "id": "e9tj4dvLVhMU",
        "colab": {
          "base_uri": "https://localhost:8080/"
        },
        "outputId": "77d5cd25-ea7c-42c2-eab3-1d70d8bf686c"
      },
      "execution_count": 1,
      "outputs": [
        {
          "output_type": "stream",
          "name": "stdout",
          "text": [
            "4 7\n",
            "6 13\n",
            "4 8\n",
            "3 6\n",
            "5 12\n",
            "14\n"
          ]
        }
      ]
    }
  ]
}