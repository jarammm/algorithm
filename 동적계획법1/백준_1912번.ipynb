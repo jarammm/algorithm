{
  "nbformat": 4,
  "nbformat_minor": 0,
  "metadata": {
    "colab": {
      "name": "백준 1912번.ipynb",
      "provenance": [],
      "collapsed_sections": [],
      "authorship_tag": "ABX9TyPRIzgQSD0279cXKI/H96jU"
    },
    "kernelspec": {
      "name": "python3",
      "display_name": "Python 3"
    },
    "language_info": {
      "name": "python"
    }
  },
  "cells": [
    {
      "cell_type": "markdown",
      "source": [
        "# 연속합\n",
        "\n",
        "* 15단계 동적 계획법1 15단계\n",
        "\n",
        "> 가장 큰 연속합을 구하는 문제\n"
      ],
      "metadata": {
        "id": "uDIqQfgjJfSd"
      }
    },
    {
      "cell_type": "markdown",
      "source": [
        "## 문제\n",
        "\n",
        "n개의 정수로 이루어진 임의의 수열이 주어진다. 우리는 이 중 연속된 몇 개의 수를 선택해서 구할 수 있는 합 중 가장 큰 합을 구하려고 한다. 단, 수는 한 개 이상 선택해야 한다.\n",
        "<br/><br/>\n",
        "예를 들어서 10, -4, 3, 1, 5, 6, -35, 12, 21, -1 이라는 수열이 주어졌다고 하자. 여기서 정답은 12+21인 33이 정답이 된다."
      ],
      "metadata": {
        "id": "cd1eJqSPx4n8"
      }
    },
    {
      "cell_type": "markdown",
      "source": [
        "## 입력\n",
        "\n",
        "첫째 줄에 정수 n(1 ≤ n ≤ 100,000)이 주어지고 둘째 줄에는 n개의 정수로 이루어진 수열이 주어진다. 수는 -1,000보다 크거나 같고, 1,000보다 작거나 같은 정수이다."
      ],
      "metadata": {
        "id": "CYD7pNZVyF3d"
      }
    },
    {
      "cell_type": "markdown",
      "source": [
        "## 출력\n",
        "\n",
        "첫째 줄에 답을 출력한다."
      ],
      "metadata": {
        "id": "NHx8_pCJyJ3s"
      }
    },
    {
      "cell_type": "markdown",
      "source": [
        "### 예제 입력 1 \n",
        "\n",
        "10<br/>\n",
        "10 -4 3 1 5 6 -35 12 21 -1"
      ],
      "metadata": {
        "id": "j1ffeVtPyM7y"
      }
    },
    {
      "cell_type": "markdown",
      "source": [
        "### 예제 출력 1\n",
        "\n",
        "33"
      ],
      "metadata": {
        "id": "TTa6AHazyWA5"
      }
    },
    {
      "cell_type": "markdown",
      "source": [
        "### 예제 입력 2\n",
        "\n",
        "10<br/>\n",
        "2 1 -4 3 4 -4 6 5 -5 1"
      ],
      "metadata": {
        "id": "IN1lQcdRzF4f"
      }
    },
    {
      "cell_type": "markdown",
      "source": [
        "### 예제 출력 2\n",
        "\n",
        "14"
      ],
      "metadata": {
        "id": "VKhTL51OzMCz"
      }
    },
    {
      "cell_type": "markdown",
      "source": [
        "### 예제 입력 3\n",
        "\n",
        "5<br/>\n",
        "-1 -2 -3 -4 -5"
      ],
      "metadata": {
        "id": "CPZyEAf-zOei"
      }
    },
    {
      "cell_type": "markdown",
      "source": [
        "### 예제 출력 3\n",
        "-1"
      ],
      "metadata": {
        "id": "E1mKbdA_zOnv"
      }
    },
    {
      "cell_type": "markdown",
      "source": [
        "## 코드"
      ],
      "metadata": {
        "id": "9MWVG0NuyYXo"
      }
    },
    {
      "cell_type": "code",
      "source": [
        "# import sys\n",
        "# input = sys.stdin.readline\n",
        "\n",
        "n = int(input())\n",
        "lst = list(map(int, input().split()))\n",
        "dp = [lst[0]]\n",
        "\n",
        "for i in range(1,n):\n",
        "    dp.append(max(dp[i-1] + lst[i], lst[i]))\n",
        "\n",
        "print(max(dp))"
      ],
      "metadata": {
        "colab": {
          "base_uri": "https://localhost:8080/"
        },
        "id": "5wt4EAcrzt1h",
        "outputId": "984b3515-3618-4715-d957-1f2e9670b7fd"
      },
      "execution_count": 9,
      "outputs": [
        {
          "output_type": "stream",
          "name": "stdout",
          "text": [
            "10\n",
            "10 -4 3 1 5 6 -35 12 21 -1\n",
            "33\n"
          ]
        }
      ]
    },
    {
      "cell_type": "code",
      "source": [
        "dp"
      ],
      "metadata": {
        "colab": {
          "base_uri": "https://localhost:8080/"
        },
        "id": "twdglIRz6WQU",
        "outputId": "acce8280-9aa4-4193-841c-94b5290e83c3"
      },
      "execution_count": 8,
      "outputs": [
        {
          "output_type": "execute_result",
          "data": {
            "text/plain": [
              "[10,\n",
              " 6,\n",
              " 6,\n",
              " 9,\n",
              " 9,\n",
              " 9,\n",
              " 7,\n",
              " 7,\n",
              " 7,\n",
              " 7,\n",
              " 14,\n",
              " 14,\n",
              " 14,\n",
              " 14,\n",
              " 14,\n",
              " 15,\n",
              " 15,\n",
              " 15,\n",
              " 15,\n",
              " 15,\n",
              " 15,\n",
              " -26,\n",
              " -26,\n",
              " -26,\n",
              " -26,\n",
              " -26,\n",
              " -26,\n",
              " -26,\n",
              " 19,\n",
              " 19,\n",
              " 19,\n",
              " 19,\n",
              " 19,\n",
              " 19,\n",
              " 19,\n",
              " 19,\n",
              " 28,\n",
              " 28,\n",
              " 28,\n",
              " 28,\n",
              " 28,\n",
              " 28,\n",
              " 28,\n",
              " 28,\n",
              " 28,\n",
              " 6,\n",
              " 6,\n",
              " 6,\n",
              " 6,\n",
              " 6,\n",
              " 6,\n",
              " 6,\n",
              " 6,\n",
              " 6,\n",
              " 6]"
            ]
          },
          "metadata": {},
          "execution_count": 8
        }
      ]
    }
  ]
}