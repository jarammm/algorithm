{
  "nbformat": 4,
  "nbformat_minor": 0,
  "metadata": {
    "colab": {
      "name": "백준 2156번.ipynb",
      "provenance": [],
      "collapsed_sections": [],
      "authorship_tag": "ABX9TyPkXqIK0n+kmyTxiR6WVCBr"
    },
    "kernelspec": {
      "name": "python3",
      "display_name": "Python 3"
    },
    "language_info": {
      "name": "python"
    }
  },
  "cells": [
    {
      "cell_type": "markdown",
      "source": [
        "# 포도주 시식\n",
        "\n",
        "* 15단계 동적 계획법1 10단계\n",
        "\n",
        "> 규칙에 따라 포도주를 마실 때, 최대로 마실 수 있는 포도주의 양을 구하는 문제\n"
      ],
      "metadata": {
        "id": "uDIqQfgjJfSd"
      }
    },
    {
      "cell_type": "markdown",
      "source": [
        "## 문제\n",
        "\n",
        "효주는 포도주 시식회에 갔다. 그 곳에 갔더니, 테이블 위에 다양한 포도주가 들어있는 포도주 잔이 일렬로 놓여 있었다. 효주는 포도주 시식을 하려고 하는데, 여기에는 다음과 같은 두 가지 규칙이 있다.\n",
        "<br/>\n",
        "\n",
        "1. 포도주 잔을 선택하면 그 잔에 들어있는 포도주는 모두 마셔야 하고, 마신 후에는 원래 위치에 다시 놓아야 한다.\n",
        "2. 연속으로 놓여 있는 3잔을 모두 마실 수는 없다.\n",
        "\n",
        "\n",
        "효주는 될 수 있는 대로 많은 양의 포도주를 맛보기 위해서 어떤 포도주 잔을 선택해야 할지 고민하고 있다. 1부터 n까지의 번호가 붙어 있는 n개의 포도주 잔이 순서대로 테이블 위에 놓여 있고, 각 포도주 잔에 들어있는 포도주의 양이 주어졌을 때, 효주를 도와 가장 많은 양의 포도주를 마실 수 있도록 하는 프로그램을 작성하시오. \n",
        "<br/><br/>\n",
        "예를 들어 6개의 포도주 잔이 있고, 각각의 잔에 순서대로 6, 10, 13, 9, 8, 1 만큼의 포도주가 들어 있을 때, 첫 번째, 두 번째, 네 번째, 다섯 번째 포도주 잔을 선택하면 총 포도주 양이 33으로 최대로 마실 수 있다."
      ],
      "metadata": {
        "id": "cd1eJqSPx4n8"
      }
    },
    {
      "cell_type": "markdown",
      "source": [
        "## 입력\n",
        "\n",
        "첫째 줄에 포도주 잔의 개수 n이 주어진다. (1 ≤ n ≤ 10,000) 둘째 줄부터 n+1번째 줄까지 포도주 잔에 들어있는 포도주의 양이 순서대로 주어진다. 포도주의 양은 1,000 이하의 음이 아닌 정수이다."
      ],
      "metadata": {
        "id": "CYD7pNZVyF3d"
      }
    },
    {
      "cell_type": "markdown",
      "source": [
        "## 출력\n",
        "\n",
        "첫째 줄에 최대로 마실 수 있는 포도주의 양을 출력한다."
      ],
      "metadata": {
        "id": "NHx8_pCJyJ3s"
      }
    },
    {
      "cell_type": "markdown",
      "source": [
        "### 예제 입력 1 \n",
        "\n",
        "6<br/>\n",
        "6<br/>\n",
        "10<br/>\n",
        "13<br/>\n",
        "9<br/>\n",
        "8<br/>\n",
        "1"
      ],
      "metadata": {
        "id": "j1ffeVtPyM7y"
      }
    },
    {
      "cell_type": "markdown",
      "source": [
        "### 예제 출력 1\n",
        "\n",
        "33"
      ],
      "metadata": {
        "id": "TTa6AHazyWA5"
      }
    },
    {
      "cell_type": "markdown",
      "source": [
        "## 코드"
      ],
      "metadata": {
        "id": "9MWVG0NuyYXo"
      }
    },
    {
      "cell_type": "code",
      "source": [
        "n = int(input())\n",
        "if n > 1:\n",
        "    d = []\n",
        "    dp = [0]*(n)\n",
        "    for _ in range(n):\n",
        "        d.append(int(input()))\n",
        "    dp[0] = d[0]\n",
        "    dp[1] = sum(d[:2])\n",
        "\n",
        "    for i in range(2, n):\n",
        "        dp[i] = max(dp[i-1], dp[i-3] + d[i-1] + d[i], dp[i-2] + d[i])\n",
        "    print(dp[n-1])\n",
        "else:\n",
        "    ans = int(input())\n",
        "    print(ans)"
      ],
      "metadata": {
        "colab": {
          "base_uri": "https://localhost:8080/"
        },
        "id": "LJiDr2IhFBLY",
        "outputId": "1e4404b2-8c4a-44cc-8ba8-0f5c27ad4afc"
      },
      "execution_count": 7,
      "outputs": [
        {
          "output_type": "stream",
          "name": "stdout",
          "text": [
            "6\n",
            "6\n",
            "10\n",
            "13\n",
            "9\n",
            "8\n",
            "1\n",
            "33\n"
          ]
        }
      ]
    }
  ]
}