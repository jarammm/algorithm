{
  "nbformat": 4,
  "nbformat_minor": 0,
  "metadata": {
    "colab": {
      "name": "백준 2565번.ipynb",
      "provenance": [],
      "collapsed_sections": [],
      "authorship_tag": "ABX9TyOBqfoEyg6qezYThGurgAzj"
    },
    "kernelspec": {
      "name": "python3",
      "display_name": "Python 3"
    },
    "language_info": {
      "name": "python"
    }
  },
  "cells": [
    {
      "cell_type": "markdown",
      "source": [
        "# 전깃줄\n",
        "\n",
        "* 15단계 동적 계획법1 13단계\n",
        "\n",
        "> LIS 응용 문제 2\n"
      ],
      "metadata": {
        "id": "uDIqQfgjJfSd"
      }
    },
    {
      "cell_type": "markdown",
      "source": [
        "## 문제\n",
        "\n",
        "두 전봇대 A와 B 사이에 하나 둘씩 전깃줄을 추가하다 보니 전깃줄이 서로 교차하는 경우가 발생하였다. 합선의 위험이 있어 이들 중 몇 개의 전깃줄을 없애 전깃줄이 교차하지 않도록 만들려고 한다.\n",
        "<br/><br/>\n",
        "예를 들어, < 그림 1 >과 같이 전깃줄이 연결되어 있는 경우 A의 1번 위치와 B의 8번 위치를 잇는 전깃줄, A의 3번 위치와 B의 9번 위치를 잇는 전깃줄, A의 4번 위치와 B의 1번 위치를 잇는 전깃줄을 없애면 남아있는 모든 전깃줄이 서로 교차하지 않게 된다.\n",
        "<br/><br/>\n",
        "전깃줄이 전봇대에 연결되는 위치는 전봇대 위에서부터 차례대로 번호가 매겨진다. 전깃줄의 개수와 전깃줄들이 두 전봇대에 연결되는 위치의 번호가 주어질 때, 남아있는 모든 전깃줄이 서로 교차하지 않게 하기 위해 없애야 하는 전깃줄의 최소 개수를 구하는 프로그램을 작성하시오."
      ],
      "metadata": {
        "id": "cd1eJqSPx4n8"
      }
    },
    {
      "cell_type": "markdown",
      "source": [
        "## 입력\n",
        "\n",
        "첫째 줄에는 두 전봇대 사이의 전깃줄의 개수가 주어진다. 전깃줄의 개수는 100 이하의 자연수이다. 둘째 줄부터 한 줄에 하나씩 전깃줄이 A전봇대와 연결되는 위치의 번호와 B전봇대와 연결되는 위치의 번호가 차례로 주어진다. 위치의 번호는 500 이하의 자연수이고, 같은 위치에 두 개 이상의 전깃줄이 연결될 수 없다."
      ],
      "metadata": {
        "id": "CYD7pNZVyF3d"
      }
    },
    {
      "cell_type": "markdown",
      "source": [
        "## 출력\n",
        "\n",
        "첫째 줄에 남아있는 모든 전깃줄이 서로 교차하지 않게 하기 위해 없애야 하는 전깃줄의 최소 개수를 출력한다."
      ],
      "metadata": {
        "id": "NHx8_pCJyJ3s"
      }
    },
    {
      "cell_type": "markdown",
      "source": [
        "### 예제 입력 1 \n",
        "\n",
        "8<br/>\n",
        "1 8<br/>\n",
        "3 9<br/>\n",
        "2 2<br/>\n",
        "4 1<br/>\n",
        "6 4<br/>\n",
        "10 10<br/>\n",
        "9 7<br/>\n",
        "7 6"
      ],
      "metadata": {
        "id": "j1ffeVtPyM7y"
      }
    },
    {
      "cell_type": "markdown",
      "source": [
        "### 예제 출력 1\n",
        "\n",
        "3"
      ],
      "metadata": {
        "id": "TTa6AHazyWA5"
      }
    },
    {
      "cell_type": "markdown",
      "source": [
        "## 코드"
      ],
      "metadata": {
        "id": "9MWVG0NuyYXo"
      }
    },
    {
      "cell_type": "code",
      "source": [
        "n = int(input())\n",
        "lst = []\n",
        "dp = [0]*n\n",
        "for _ in range(n):\n",
        "    lst.append(list(map(int, input().split())))\n",
        "\n",
        "lst = sorted(lst, key=lambda x:x[0])\n",
        "\n",
        "for i in range(n):\n",
        "    for j in range(i):\n",
        "        if lst[i][1] > lst[j][1] and dp[i] < dp[j]:\n",
        "            dp[i] = dp[j]\n",
        "    dp[i] += 1\n",
        "\n",
        "print(n-max(dp))"
      ],
      "metadata": {
        "id": "Mvql1GJXCLjU",
        "colab": {
          "base_uri": "https://localhost:8080/"
        },
        "outputId": "55fec25b-1f8d-49fc-bd52-4bcdbe274b26"
      },
      "execution_count": 3,
      "outputs": [
        {
          "output_type": "stream",
          "name": "stdout",
          "text": [
            "8\n",
            "1 8\n",
            "2 2\n",
            "3 9\n",
            "4 1\n",
            "6 4\n",
            "7 6\n",
            "9 7\n",
            "10 10\n",
            "3\n"
          ]
        }
      ]
    }
  ]
}