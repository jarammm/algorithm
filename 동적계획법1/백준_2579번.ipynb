{
  "nbformat": 4,
  "nbformat_minor": 0,
  "metadata": {
    "colab": {
      "name": "백준 2579번.ipynb",
      "provenance": [],
      "collapsed_sections": [],
      "authorship_tag": "ABX9TyMc8r08diHBinYXjAXE1TFC"
    },
    "kernelspec": {
      "name": "python3",
      "display_name": "Python 3"
    },
    "language_info": {
      "name": "python"
    }
  },
  "cells": [
    {
      "cell_type": "markdown",
      "source": [
        "# 계단 오르기\n",
        "\n",
        "* 15단계 동적 계획법1 7단계 계단 오르기\n",
        "\n",
        "> i번째 계단에 오를 때, 몇 개의 연속한 계단을 올랐는지를 고려하여 부분문제를 정의해봅시다."
      ],
      "metadata": {
        "id": "uDIqQfgjJfSd"
      }
    },
    {
      "cell_type": "markdown",
      "source": [
        "## 문제\n",
        "\n",
        "계단 오르기 게임은 계단 아래 시작점부터 계단 꼭대기에 위치한 도착점까지 가는 게임이다. <그림 1>과 같이 각각의 계단에는 일정한 점수가 쓰여 있는데 계단을 밟으면 그 계단에 쓰여 있는 점수를 얻게 된다.\n",
        "<br/><br/>\n",
        "예를 들어 <그림 2>와 같이 시작점에서부터 첫 번째, 두 번째, 네 번째, 여섯 번째 계단을 밟아 도착점에 도달하면 총 점수는 10 + 20 + 25 + 20 = 75점이 된다.\n",
        "<br/><br/>\n",
        "계단 오르는 데는 다음과 같은 규칙이 있다.\n",
        "<br/><br/>\n",
        "1. 계단은 한 번에 한 계단씩 또는 두 계단씩 오를 수 있다. 즉, 한 계단을 밟으면서 이어서 다음 계단이나, 다음 다음 계단으로 오를 수 있다.\n",
        "2. 연속된 세 개의 계단을 모두 밟아서는 안 된다. 단, 시작점은 계단에 포함되지 않는다.\n",
        "3. 마지막 도착 계단은 반드시 밟아야 한다.\n",
        "\n",
        "<br/>\n",
        "\n",
        "따라서 첫 번째 계단을 밟고 이어 두 번째 계단이나, 세 번째 계단으로 오를 수 있다. 하지만, 첫 번째 계단을 밟고 이어 네 번째 계단으로 올라가거나, 첫 번째, 두 번째, 세 번째 계단을 연속해서 모두 밟을 수는 없다.\n",
        "<br/><br/>\n",
        "각 계단에 쓰여 있는 점수가 주어질 때 이 게임에서 얻을 수 있는 총 점수의 최댓값을 구하는 프로그램을 작성하시오."
      ],
      "metadata": {
        "id": "cd1eJqSPx4n8"
      }
    },
    {
      "cell_type": "markdown",
      "source": [
        "## 입력\n",
        "\n",
        "입력의 첫째 줄에 계단의 개수가 주어진다.\n",
        "<br/><br/>\n",
        "둘째 줄부터 한 줄에 하나씩 제일 아래에 놓인 계단부터 순서대로 각 계단에 쓰여 있는 점수가 주어진다. 계단의 개수는 300이하의 자연수이고, 계단에 쓰여 있는 점수는 10,000이하의 자연수이다."
      ],
      "metadata": {
        "id": "CYD7pNZVyF3d"
      }
    },
    {
      "cell_type": "markdown",
      "source": [
        "## 출력\n",
        "\n",
        "첫째 줄에 계단 오르기 게임에서 얻을 수 있는 총 점수의 최댓값을 출력한다."
      ],
      "metadata": {
        "id": "NHx8_pCJyJ3s"
      }
    },
    {
      "cell_type": "markdown",
      "source": [
        "### 예제 입력 1 \n",
        "\n",
        "6<br/>\n",
        "10<br/>\n",
        "20<br/>\n",
        "15<br/>\n",
        "25<br/>\n",
        "10<br/>\n",
        "20"
      ],
      "metadata": {
        "id": "j1ffeVtPyM7y"
      }
    },
    {
      "cell_type": "markdown",
      "source": [
        "### 예제 출력 1\n",
        "\n",
        "75"
      ],
      "metadata": {
        "id": "TTa6AHazyWA5"
      }
    },
    {
      "cell_type": "markdown",
      "source": [
        "## 코드\n",
        "\n",
        "> [참고](https://pacific-ocean.tistory.com/149)"
      ],
      "metadata": {
        "id": "9MWVG0NuyYXo"
      }
    },
    {
      "cell_type": "code",
      "source": [
        "n = int(input())\n",
        "# 동적 프로그래밍 문제 풀 때 array 프로그래밍하므로 리스트 배열 만들어줌\n",
        "s = [0 for i in range(301)] # 점수 리스트\n",
        "dp = [0 for i in range(301)] # dp array(정답 저장)\n",
        "for i in range(n):\n",
        "    s[i] = int(input())\n",
        "dp[0] = s[0]\n",
        "dp[1] = sum(s[:2])\n",
        "dp[2] = max(s[:2]) + s[2]\n",
        "\n",
        "for i in range(3, n):\n",
        "    # 마지막 직전 계단을 밟는 경우와 마지막에서 두번째 계단을 밟는 경우중 최대값\n",
        "    dp[i] = max(dp[i - 3] + s[i - 1] + s[i], dp[i - 2] + s[i])\n",
        "print(dp[n - 1])"
      ],
      "metadata": {
        "colab": {
          "base_uri": "https://localhost:8080/"
        },
        "id": "F2Hp1b96aW8Q",
        "outputId": "6c5e8611-5f09-477b-f721-bc4bbada16c1"
      },
      "execution_count": 1,
      "outputs": [
        {
          "output_type": "stream",
          "name": "stdout",
          "text": [
            "6\n",
            "10\n",
            "20\n",
            "15\n",
            "25\n",
            "10\n",
            "20\n",
            "75\n"
          ]
        }
      ]
    }
  ]
}