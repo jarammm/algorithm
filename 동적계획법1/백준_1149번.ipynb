{
  "nbformat": 4,
  "nbformat_minor": 0,
  "metadata": {
    "colab": {
      "name": "백준 1149번.ipynb",
      "provenance": [],
      "collapsed_sections": [],
      "authorship_tag": "ABX9TyPctH7uBtzSlJh2YQ3ZJQoa"
    },
    "kernelspec": {
      "name": "python3",
      "display_name": "Python 3"
    },
    "language_info": {
      "name": "python"
    }
  },
  "cells": [
    {
      "cell_type": "markdown",
      "source": [
        "# RGB거리\n",
        "\n",
        "* 15단계 5단계\n",
        "\n",
        "> i번째 집을 각각의 색으로 칠할 때, 1~i번째 집을 모두 칠하는 최소 비용으로 부분문제를 정의해봅시다."
      ],
      "metadata": {
        "id": "1ADNSLH6KGld"
      }
    },
    {
      "cell_type": "markdown",
      "source": [
        "## 문제\n",
        "RGB거리에는 집이 N개 있다. 거리는 선분으로 나타낼 수 있고, 1번 집부터 N번 집이 순서대로 있다.\n",
        "<br/><br/>\n",
        "집은 빨강, 초록, 파랑 중 하나의 색으로 칠해야 한다. 각각의 집을 빨강, 초록, 파랑으로 칠하는 비용이 주어졌을 때, 아래 규칙을 만족하면서 모든 집을 칠하는 비용의 최솟값을 구해보자.\n",
        "<br/><br/>\n",
        "\n",
        "* 1번 집의 색은 2번 집의 색과 같지 않아야 한다.\n",
        "* N번 집의 색은 N-1번 집의 색과 같지 않아야 한다.\n",
        "* i(2 ≤ i ≤ N-1)번 집의 색은 i-1번, i+1번 집의 색과 같지 않아야 한다."
      ],
      "metadata": {
        "id": "KgCRLxZMKavT"
      }
    },
    {
      "cell_type": "markdown",
      "source": [
        "## 입력\n",
        "\n",
        "첫째 줄에 집의 수 N(2 ≤ N ≤ 1,000)이 주어진다. 둘째 줄부터 N개의 줄에는 각 집을 빨강, 초록, 파랑으로 칠하는 비용이 1번 집부터 한 줄에 하나씩 주어진다. 집을 칠하는 비용은 1,000보다 작거나 같은 자연수이다."
      ],
      "metadata": {
        "id": "aXrho9egLEYz"
      }
    },
    {
      "cell_type": "markdown",
      "source": [
        "## 출력\n",
        "\n",
        "첫째 줄에 모든 집을 칠하는 비용의 최솟값을 출력한다."
      ],
      "metadata": {
        "id": "CZZheuwGLKaO"
      }
    },
    {
      "cell_type": "markdown",
      "source": [
        "## 예제\n",
        "\n",
        "|예제 입력|예제 출력|\n",
        "|--|--|\n",
        "|3\n",
        "26 40 83\n",
        "49 60 57\n",
        "13 89 99|96|\n",
        "|\n",
        "3\n",
        "1 100 100\n",
        "100 1 100\n",
        "100 100 1|3|\n",
        "|3\n",
        "1 100 100\n",
        "100 100 100\n",
        "1 100 100|102|\n",
        "|6\n",
        "30 19 5\n",
        "64 77 64\n",
        "15 19 97\n",
        "4 71 57\n",
        "90 86 84\n",
        "93 32 91|208|\n",
        "|8\n",
        "71 39 44\n",
        "32 83 55\n",
        "51 37 63\n",
        "89 29 100\n",
        "83 58 11\n",
        "65 13 15\n",
        "47 25 29\n",
        "60 66 19|253|"
      ],
      "metadata": {
        "id": "0b-B3ZjULQo8"
      }
    },
    {
      "cell_type": "code",
      "source": [
        "N = int(input())\n",
        "lst = []\n",
        "for i in range(N):\n",
        "    lst.append(list(map(int, input().split())))\n",
        "\n",
        "for i in range(1, N):\n",
        "    lst[i][0] += min(lst[i - 1][1], lst[i - 1][2])\n",
        "    lst[i][1] += min(lst[i - 1][0], lst[i - 1][2])\n",
        "    lst[i][2] += min(lst[i - 1][0], lst[i - 1][1])\n",
        "\n",
        "print(min(lst[N - 1][0], lst[N - 1][1], lst[N - 1][2]))"
      ],
      "metadata": {
        "colab": {
          "base_uri": "https://localhost:8080/"
        },
        "id": "e9tj4dvLVhMU",
        "outputId": "daaa3b2c-c19a-4a96-cd5e-4ec1631186b3"
      },
      "execution_count": 6,
      "outputs": [
        {
          "output_type": "stream",
          "name": "stdout",
          "text": [
            "3\n",
            "26 40 83\n",
            "49 60 57\n",
            "13 89 99\n",
            "96\n"
          ]
        }
      ]
    }
  ]
}