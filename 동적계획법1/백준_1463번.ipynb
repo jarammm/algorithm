{
  "nbformat": 4,
  "nbformat_minor": 0,
  "metadata": {
    "colab": {
      "name": "백준 1463번.ipynb",
      "provenance": [],
      "collapsed_sections": [],
      "authorship_tag": "ABX9TyOgkckxIzU7ypcd/xxjSBhp"
    },
    "kernelspec": {
      "name": "python3",
      "display_name": "Python 3"
    },
    "language_info": {
      "name": "python"
    }
  },
  "cells": [
    {
      "cell_type": "markdown",
      "source": [
        "# 1로 만들기\n",
        "\n",
        "* 15단계 동적 계획법1 8단계 1로 만들기\n",
        "\n",
        "> 메모이제이션으로 N을 1로 바꾸기 위해 주어진 연산을 몇 번 사용하는지 계산하는 문제\n"
      ],
      "metadata": {
        "id": "uDIqQfgjJfSd"
      }
    },
    {
      "cell_type": "markdown",
      "source": [
        "## 문제\n",
        "\n",
        "정수 X에 사용할 수 있는 연산은 다음과 같이 세 가지 이다.\n",
        "<br/>\n",
        "\n",
        "1. 3으로 나누어 떨어지면, 3으로 나눈다.\n",
        "2. X가 2로 나누어 떨어지면, 2로 나눈다.\n",
        "3. 1을 뺀다.<br/>\n",
        "\n",
        "정수 N이 주어졌을 때, 위와 같은 연산 세 개를 적절히 사용해서 1을 만들려고 한다. 연산을 사용하는 횟수의 최솟값을 출력하시오."
      ],
      "metadata": {
        "id": "cd1eJqSPx4n8"
      }
    },
    {
      "cell_type": "markdown",
      "source": [
        "## 입력\n",
        "\n",
        "첫째 줄에 1보다 크거나 같고, $10^6$보다 작거나 같은 정수 N이 주어진다."
      ],
      "metadata": {
        "id": "CYD7pNZVyF3d"
      }
    },
    {
      "cell_type": "markdown",
      "source": [
        "## 출력\n",
        "\n",
        "첫째 줄에 연산을 하는 횟수의 최솟값을 출력한다."
      ],
      "metadata": {
        "id": "NHx8_pCJyJ3s"
      }
    },
    {
      "cell_type": "markdown",
      "source": [
        "### 예제 입력 1 \n",
        "\n",
        "2"
      ],
      "metadata": {
        "id": "j1ffeVtPyM7y"
      }
    },
    {
      "cell_type": "markdown",
      "source": [
        "### 예제 출력 1\n",
        "\n",
        "1"
      ],
      "metadata": {
        "id": "TTa6AHazyWA5"
      }
    },
    {
      "cell_type": "markdown",
      "source": [
        "### 예제 입력 2\n",
        "\n",
        "10"
      ],
      "metadata": {
        "id": "E2ZVfo5Ov98L"
      }
    },
    {
      "cell_type": "markdown",
      "source": [
        "### 예제 출력 2\n",
        "\n",
        "3"
      ],
      "metadata": {
        "id": "ollx4p0rv-HF"
      }
    },
    {
      "cell_type": "markdown",
      "source": [
        "## 힌트\n",
        "\n",
        "10의 경우에 10 -> 9 -> 3 -> 1 로 3번 만에 만들 수 있다."
      ],
      "metadata": {
        "id": "1wSCgRJ3xzBE"
      }
    },
    {
      "cell_type": "markdown",
      "source": [
        "## 코드\n"
      ],
      "metadata": {
        "id": "9MWVG0NuyYXo"
      }
    },
    {
      "cell_type": "code",
      "source": [
        "N = int(input())\n",
        "m = [0]*(N+1) # 맨 첫번째 인덱스가 0이므로, 1부터 시작하기 위해 N+1 길이 리스트 만듦\n",
        "for i in range(2,N+1):\n",
        "    m[i] = m[i-1] + 1 # 이전 숫자의 최소계산 회수 + (-1 계산한 것 1회)\n",
        "    if i%2 == 0:\n",
        "        m[i] = min(m[i], m[i//2]+1) # m[i//2] : i를 2로 나눈 수의 최소계산횟수 , +1 : i를 2로 나눈 것을 계산 횟수에 포함 \n",
        "    if i%3 == 0:\n",
        "        m[i] = min(m[i],m[i//3]+1) # m[i//3] : i를 3로 나눈 수의 최소계산횟수 , +1 : i를 3로 나눈 것을 계산 횟수에 포함\n",
        "print(m[N])"
      ],
      "metadata": {
        "colab": {
          "base_uri": "https://localhost:8080/"
        },
        "id": "QJCHlu1ZxMc_",
        "outputId": "2e500f19-902d-4d4f-f0a0-c542ac068b22"
      },
      "execution_count": 4,
      "outputs": [
        {
          "output_type": "stream",
          "name": "stdout",
          "text": [
            "10\n",
            "3\n"
          ]
        }
      ]
    }
  ]
}