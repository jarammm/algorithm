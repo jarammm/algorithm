{
  "nbformat": 4,
  "nbformat_minor": 0,
  "metadata": {
    "colab": {
      "name": "백준 1011번.ipynb",
      "provenance": [],
      "collapsed_sections": [],
      "authorship_tag": "ABX9TyN1zMqSpA7Kir195NRjZdGd"
    },
    "kernelspec": {
      "name": "python3",
      "display_name": "Python 3"
    },
    "language_info": {
      "name": "python"
    }
  },
  "cells": [
    {
      "cell_type": "markdown",
      "metadata": {
        "id": "ZvL0e96Pk1n3"
      },
      "source": [
        "# Fly me to the Alpha Centauri\n",
        "\n",
        "* 단계별 풀이 : 8단계(기본 수학1) - 9단계 1011번 Fly me to the Alpha Centauri\n",
        "\n",
        "<br/>\n",
        "\n",
        "\n",
        "## 문제\n",
        "\n",
        "우현이는 어린 시절, 지구 외의 다른 행성에서도 인류들이 살아갈 수 있는 미래가 오리라 믿었다. 그리고 그가 지구라는 세상에 발을 내려 놓은 지 23년이 지난 지금, 세계 최연소 ASNA 우주 비행사가 되어 새로운 세계에 발을 내려 놓는 영광의 순간을 기다리고 있다.\n",
        "<br/><br/>\n",
        "그가 탑승하게 될 우주선은 Alpha Centauri라는 새로운 인류의 보금자리를 개척하기 위한 대규모 생활 유지 시스템을 탑재하고 있기 때문에, 그 크기와 질량이 엄청난 이유로 최신기술력을 총 동원하여 개발한 공간이동 장치를 탑재하였다. 하지만 이 공간이동 장치는 이동 거리를 급격하게 늘릴 경우 기계에 심각한 결함이 발생하는 단점이 있어서, 이전 작동시기에 k광년을 이동하였을 때는 k-1 , k 혹은 k+1 광년만을 다시 이동할 수 있다. 예를 들어, 이 장치를 처음 작동시킬 경우 -1 , 0 , 1 광년을 이론상 이동할 수 있으나 사실상 음수 혹은 0 거리만큼의 이동은 의미가 없으므로 1 광년을 이동할 수 있으며, 그 다음에는 0 , 1 , 2 광년을 이동할 수 있는 것이다. ( 여기서 다시 2광년을 이동한다면 다음 시기엔 1, 2, 3 광년을 이동할 수 있다. )\n",
        "<br/><br/>\n",
        "김우현은 공간이동 장치 작동시의 에너지 소모가 크다는 점을 잘 알고 있기 때문에 x지점에서 y지점을 향해 최소한의 작동 횟수로 이동하려 한다. 하지만 y지점에 도착해서도 공간 이동장치의 안전성을 위하여 y지점에 도착하기 바로 직전의 이동거리는 반드시 1광년으로 하려 한다.\n",
        "<br/><br/>\n",
        "김우현을 위해 x지점부터 정확히 y지점으로 이동하는데 필요한 공간 이동 장치 작동 횟수의 최솟값을 구하는 프로그램을 작성하라.\n",
        "\n",
        "<br/>\n",
        "\n",
        "### 입력\n",
        "입력의 첫 줄에는 테스트케이스의 개수 T가 주어진다. 각각의 테스트 케이스에 대해 현재 위치 x 와 목표 위치 y 가 정수로 주어지며, x는 항상 y보다 작은 값을 갖는다. (0 ≤ x < y < $2^31$)\n",
        "\n",
        "### 출력\n",
        "각 테스트 케이스에 대해 x지점으로부터 y지점까지 정확히 도달하는데 필요한 최소한의 공간이동 장치 작동 횟수를 출력한다.\n",
        "\n",
        "<br/>\n",
        "\n",
        "#### 예제 입력 1 \n",
        "\n",
        "3<br/>\n",
        "0 3<br/>\n",
        "1 5<br/>\n",
        "45 50<br/>\n",
        "\n",
        "<br/>\n",
        "\n",
        "#### 예제 출력 1\n",
        "\n",
        "3<br/>\n",
        "3<br/>\n",
        "4<br/>"
      ]
    },
    {
      "cell_type": "markdown",
      "metadata": {
        "id": "Lsp44_sPN0TP"
      },
      "source": [
        "## 나의 풀이"
      ]
    },
    {
      "cell_type": "code",
      "metadata": {
        "colab": {
          "base_uri": "https://localhost:8080/"
        },
        "id": "qjM1djfEkkpr",
        "outputId": "a807b109-247a-4b1c-ecdb-38ae7a38abce"
      },
      "source": [
        "T = int(input())\n",
        "for i in range(T):\n",
        "    x, y = map(int,input().split())\n",
        "    d = y - x\n",
        "    n = 0\n",
        "    while True:\n",
        "        if d <= (n + 1)*(n + 1):\n",
        "            print(2*n + 1)\n",
        "            break\n",
        "        elif d <= (n + 1)*(n + 2):\n",
        "            print(2*n + 2)\n",
        "            break\n",
        "        n += 1"
      ],
      "execution_count": 39,
      "outputs": [
        {
          "output_type": "stream",
          "name": "stdout",
          "text": [
            "3\n",
            "0 3\n",
            "3\n",
            "1 5\n",
            "3\n",
            "45 50\n",
            "4\n"
          ]
        }
      ]
    },
    {
      "cell_type": "markdown",
      "metadata": {
        "id": "HOqlBaTXuoaU"
      },
      "source": [
        "## 다른 사람의 풀이"
      ]
    },
    {
      "cell_type": "code",
      "metadata": {
        "colab": {
          "base_uri": "https://localhost:8080/"
        },
        "id": "qS3Qcnaafh1j",
        "outputId": "2caa4a2a-0ff6-4b8f-b035-da375e5fad62"
      },
      "source": [
        "T = int(input())\n",
        "\n",
        "for _ in range(T):\n",
        "    x, y = map(int,input().split())\n",
        "    d = y - x\n",
        "    cnt = 0  # 이동 횟수\n",
        "    move = 1  # count별 이동 가능한 거리\n",
        "    status = 0  # 이동한 거리의 합\n",
        "    while status < d:\n",
        "        cnt += 1\n",
        "        status += move  # count 수에 해당하는 move를 더함\n",
        "        if cnt % 2 == 0:  # count가 2의 배수일 때, \n",
        "            move += 1\n",
        "        print('cnt:', cnt, 'move:',move,'status:', status)\n",
        "    print(cnt)"
      ],
      "execution_count": 38,
      "outputs": [
        {
          "output_type": "stream",
          "name": "stdout",
          "text": [
            "3\n",
            "0 3\n",
            "cnt: 1 move: 1 status: 1\n",
            "cnt: 2 move: 2 status: 2\n",
            "cnt: 3 move: 2 status: 4\n",
            "3\n",
            "1 5\n",
            "cnt: 1 move: 1 status: 1\n",
            "cnt: 2 move: 2 status: 2\n",
            "cnt: 3 move: 2 status: 4\n",
            "3\n",
            "45 50\n",
            "cnt: 1 move: 1 status: 1\n",
            "cnt: 2 move: 2 status: 2\n",
            "cnt: 3 move: 2 status: 4\n",
            "cnt: 4 move: 3 status: 6\n",
            "4\n"
          ]
        }
      ]
    }
  ]
}
