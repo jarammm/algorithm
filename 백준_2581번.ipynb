{
  "nbformat": 4,
  "nbformat_minor": 0,
  "metadata": {
    "colab": {
      "name": "백준 2581번.ipynb",
      "provenance": [],
      "collapsed_sections": [],
      "authorship_tag": "ABX9TyN1u7NQGbcb/6YkigxNqvFg"
    },
    "kernelspec": {
      "name": "python3",
      "display_name": "Python 3"
    },
    "language_info": {
      "name": "python"
    }
  },
  "cells": [
    {
      "cell_type": "markdown",
      "metadata": {
        "id": "ZvL0e96Pk1n3"
      },
      "source": [
        "# 소수 찾기\n",
        "\n",
        "* 단계별 풀이 : 9단계(기본 수학2) - 2단계 2581번 소수\n",
        "\n",
        "<br/>\n",
        "\n",
        "\n",
        "## 문제\n",
        "\n",
        "자연수 M과 N이 주어질 때 M이상 N이하의 자연수 중 소수인 것을 모두 골라 이들 소수의 합과 최솟값을 찾는 프로그램을 작성하시오.\n",
        "<br/>\n",
        "예를 들어 M=60, N=100인 경우 60이상 100이하의 자연수 중 소수는 61, 67, 71, 73, 79, 83, 89, 97 총 8개가 있으므로, 이들 소수의 합은 620이고, 최솟값은 61이 된다.\n",
        "\n",
        "<br/>\n",
        "\n",
        "### 입력\n",
        "\n",
        "입력의 첫째 줄에 M이, 둘째 줄에 N이 주어진다.\n",
        "<br/>\n",
        "M과 N은 10,000이하의 자연수이며, M은 N보다 작거나 같다.\n",
        "\n",
        "<br/>\n",
        "\n",
        "### 출력\n",
        "\n",
        "M이상 N이하의 자연수 중 소수인 것을 모두 찾아 첫째 줄에 그 합을, 둘째 줄에 그 중 최솟값을 출력한다. \n",
        "<br/>\n",
        "단, M이상 N이하의 자연수 중 소수가 없을 경우는 첫째 줄에 -1을 출력한다.\n",
        "\n",
        "<br/>\n",
        "\n",
        "#### 예제 입력 1 \n",
        "\n",
        "60<br/>\n",
        "100\n",
        "\n",
        "<br/>\n",
        "\n",
        "#### 예제 출력 1\n",
        "\n",
        "620<br/>\n",
        "61\n",
        "\n",
        "<br/>\n",
        "\n",
        "#### 예제 입력 1 \n",
        "\n",
        "64<br/>\n",
        "65\n",
        "\n",
        "<br/>\n",
        "\n",
        "#### 예제 출력 1\n",
        "\n",
        "-1"
      ]
    },
    {
      "cell_type": "markdown",
      "metadata": {
        "id": "Lsp44_sPN0TP"
      },
      "source": [
        "## 나의 풀이"
      ]
    },
    {
      "cell_type": "code",
      "metadata": {
        "colab": {
          "base_uri": "https://localhost:8080/"
        },
        "id": "gQt5GOf8I-ZI",
        "outputId": "803a1d0d-4b24-4333-ba0d-df07788d13d1"
      },
      "source": [
        "M = int(input())\n",
        "N = int(input())\n",
        "p = []\n",
        "\n",
        "for i in range(M, N + 1):\n",
        "    for j in range(2, i + 1):\n",
        "        if i % j == 0:\n",
        "            if i == j:\n",
        "                p.append(i)\n",
        "            else: break\n",
        "\n",
        "if p:\n",
        "  print(sum(p))\n",
        "  print(p[0])\n",
        "else:\n",
        "  print(-1)"
      ],
      "execution_count": 2,
      "outputs": [
        {
          "output_type": "stream",
          "name": "stdout",
          "text": [
            "64 65\n",
            "-1\n"
          ]
        }
      ]
    }
  ]
}