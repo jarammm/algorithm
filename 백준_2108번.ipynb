{
  "nbformat": 4,
  "nbformat_minor": 0,
  "metadata": {
    "colab": {
      "name": "백준 2108번.ipynb",
      "provenance": [],
      "collapsed_sections": [],
      "authorship_tag": "ABX9TyNFfwCyiYI1N4/buXyay4TR"
    },
    "kernelspec": {
      "name": "python3",
      "display_name": "Python 3"
    },
    "language_info": {
      "name": "python"
    }
  },
  "cells": [
    {
      "cell_type": "markdown",
      "metadata": {
        "id": "ZvL0e96Pk1n3"
      },
      "source": [
        "# 통계학\n",
        "\n",
        "* 단계별 풀이 : 12단계(정렬) - 4단계 2108번 통계학\n",
        "> 정렬을 활용하는 문제\n",
        "\n",
        "<br/>\n",
        "\n",
        "\n",
        "## 문제\n",
        "\n",
        "수를 처리하는 것은 통계학에서 상당히 중요한 일이다. 통계학에서 N개의 수를 대표하는 기본 통계값에는 다음과 같은 것들이 있다. 단, N은 홀수라고 가정하자.\n",
        "<br/><br/>\n",
        "* 산술평균 : N개의 수들의 합을 N으로 나눈 값\n",
        "* 중앙값 : N개의 수들을 증가하는 순서로 나열했을 경우 그 중앙에 위치하는 값\n",
        "* 최빈값 : N개의 수들 중 가장 많이 나타나는 값\n",
        "* 범위 : N개의 수들 중 최댓값과 최솟값의 차이\n",
        "\n",
        "<br/><br/>\n",
        "N개의 수가 주어졌을 때, 네 가지 기본 통계값을 구하는 프로그램을 작성하시오.\n",
        "<br/><br/>\n",
        "\n",
        "### 입력\n",
        "첫째 줄에 수의 개수 N(1 ≤ N ≤ 500,000)이 주어진다. 단, N은 홀수이다. 그 다음 N개의 줄에는 정수들이 주어진다. 입력되는 정수의 절댓값은 4,000을 넘지 않는다.\n",
        "\n",
        "### 출력\n",
        "첫째 줄에는 산술평균을 출력한다. 소수점 이하 첫째 자리에서 반올림한 값을 출력한다.\n",
        "<br/>\n",
        "둘째 줄에는 중앙값을 출력한다.\n",
        "<br/>\n",
        "셋째 줄에는 최빈값을 출력한다. 여러 개 있을 때에는 최빈값 중 두 번째로 작은 값을 출력한다.\n",
        "<br/>\n",
        "넷째 줄에는 범위를 출력한다.\n",
        "\n",
        "<br/>\n",
        "\n",
        "#### 예제 입력 1 \n",
        "5<br/>\n",
        "1<br/>\n",
        "3<br/>\n",
        "8<br/>\n",
        "-2<br/>\n",
        "2\n",
        "\n",
        "#### 예제 출력 1 \n",
        "2<br/>\n",
        "2<br/>\n",
        "1<br/>\n",
        "10\n",
        "\n",
        "#### 예제 입력 2 \n",
        "1<br/>\n",
        "4000\n",
        "\n",
        "#### 예제 출력 2 \n",
        "4000<br/>\n",
        "4000<br/>\n",
        "4000<br/>\n",
        "0\n",
        "\n",
        "#### 예제 입력 3 \n",
        "5<br/>\n",
        "-1<br/>\n",
        "-2<br/>\n",
        "-3<br/>\n",
        "-1<br/>\n",
        "-2\n",
        "\n",
        "#### 예제 출력 3 \n",
        "-2<br/>\n",
        "-2<br/>\n",
        "-1<br/>\n",
        "2\n"
      ]
    },
    {
      "cell_type": "markdown",
      "metadata": {
        "id": "GauacdN9TVll"
      },
      "source": [
        "## 나의 풀이 : 실패\n",
        "\n",
        "> 시간초과"
      ]
    },
    {
      "cell_type": "code",
      "metadata": {
        "colab": {
          "base_uri": "https://localhost:8080/"
        },
        "id": "ICPLGEGZFo7u",
        "outputId": "2b30484f-ab4f-40f8-b70f-8055619d62d0"
      },
      "source": [
        "N = int(input())\n",
        "n = dict()\n",
        "k = []\n",
        "for _ in range(N):\n",
        "    key = int(input())\n",
        "    k += [key]\n",
        "    if key in n.keys():\n",
        "        n[key] += 1\n",
        "    else:\n",
        "        n[key] = 1\n",
        "\n",
        "k.sort()\n",
        "\n",
        "print(sum(k)//len(k))\n",
        "print(k[len(k)//2])\n",
        "common = [k for k, v in n.items() if v == max(n.values())]\n",
        "if len(common) > 1:\n",
        "    print(common[1])\n",
        "else:\n",
        "    print(common[0])\n",
        "\n",
        "print(k[-1] - k[0])"
      ],
      "execution_count": 47,
      "outputs": [
        {
          "output_type": "stream",
          "name": "stdout",
          "text": [
            "5\n",
            "3\n",
            "3\n",
            "2\n",
            "4\n",
            "4\n",
            "3\n",
            "3\n",
            "4\n",
            "2\n"
          ]
        }
      ]
    },
    {
      "cell_type": "markdown",
      "metadata": {
        "id": "lErz5PhG2L7K"
      },
      "source": [
        "## 다른 사람의 풀이 1 : 성공\n",
        "\n",
        "[참고](https://jiwon-coding.tistory.com/8)"
      ]
    },
    {
      "cell_type": "code",
      "metadata": {
        "id": "_XEpFmcgOFi7"
      },
      "source": [
        "import sys\n",
        "from collections import Counter\n",
        "n = int(sys.stdin.readline())\n",
        "li = []\n",
        "for _ in range(n):\n",
        "    li.append(int(sys.stdin.readline()))\n",
        " \n",
        "# 산술평균 - 다 더해서 / n\n",
        "print(round(sum(li)/n))\n",
        " \n",
        "# 중앙값 - 오름차순 -> 중간값\n",
        "li.sort()\n",
        "print(li[n//2])\n",
        " \n",
        "# 최빈값 - 빈출\n",
        "cnt_li = Counter(li).most_common()\n",
        "if len(cnt_li) > 1 and cnt_li[0][1]==cnt_li[1][1]: #최빈값 2개 이상\n",
        "    print(cnt_li[1][0])\n",
        "else:\n",
        "    print(cnt_li[0][0])\n",
        " \n",
        "# 범위 - 최댓값-최솟값\n",
        "print(max(li)-min(li))"
      ],
      "execution_count": null,
      "outputs": []
    },
    {
      "cell_type": "markdown",
      "metadata": {
        "id": "n1lPj9CoTQbt"
      },
      "source": [
        "## 다른 사람의 풀이 2 : 실패\n",
        "\n",
        "[참고](https://somjang.tistory.com/entry/BaekJoon-2108%EB%B2%88-%ED%86%B5%EA%B3%84%ED%95%99-Python)"
      ]
    },
    {
      "cell_type": "code",
      "metadata": {
        "colab": {
          "base_uri": "https://localhost:8080/"
        },
        "id": "lzdJWgKBHZDW",
        "outputId": "c64e8a72-dea6-49f0-c662-22d1638f79de"
      },
      "source": [
        "from collections import Counter\n",
        "\n",
        "numbers = []\n",
        "for _ in range(int(input())):\n",
        "    num = int(input())\n",
        "    numbers.append(num)\n",
        "\n",
        "numbers.sort()\n",
        "cnt = Counter(numbers).most_common(2)\n",
        "\n",
        "print(round(sum(numbers) / len(numbers)))\n",
        "print(numbers[len(numbers) // 2])\n",
        "if len(numbers) > 1:\n",
        "    if cnt[0][1] == cnt[1][1]:\n",
        "        print(cnt[1][0])\n",
        "    else:\n",
        "        print(cnt[0][0])\n",
        "else:\n",
        "    print(cnt[0][0])\n",
        "print(max(numbers) - min(numbers))"
      ],
      "execution_count": 24,
      "outputs": [
        {
          "output_type": "stream",
          "name": "stdout",
          "text": [
            "5\n",
            "-1\n",
            "-2\n",
            "-3\n",
            "-1\n",
            "-2\n",
            "-2\n",
            "-2\n",
            "-1\n",
            "2\n"
          ]
        }
      ]
    }
  ]
}