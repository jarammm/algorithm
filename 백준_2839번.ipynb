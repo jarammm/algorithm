{
  "nbformat": 4,
  "nbformat_minor": 0,
  "metadata": {
    "colab": {
      "name": "백준 2839번.ipynb",
      "provenance": [],
      "collapsed_sections": [],
      "authorship_tag": "ABX9TyNfKJEa8EL8zQ9yhm8i0sTr"
    },
    "kernelspec": {
      "name": "python3",
      "display_name": "Python 3"
    },
    "language_info": {
      "name": "python"
    }
  },
  "cells": [
    {
      "cell_type": "markdown",
      "metadata": {
        "id": "ZvL0e96Pk1n3"
      },
      "source": [
        "# 설탕 배달\n",
        "\n",
        "* 단계별 풀이 : 8단계(기본 수학1) - 7단계 2839번 설탕 배달\n",
        "\n",
        "<br/>\n",
        "\n",
        "\n",
        "## 문제\n",
        "\n",
        "상근이는 요즘 설탕공장에서 설탕을 배달하고 있다. 상근이는 지금 사탕가게에 설탕을 정확하게 N킬로그램을 배달해야 한다. 설탕공장에서 만드는 설탕은 봉지에 담겨져 있다. 봉지는 3킬로그램 봉지와 5킬로그램 봉지가 있다.\n",
        "<br/><br/>\n",
        "상근이는 귀찮기 때문에, 최대한 적은 봉지를 들고 가려고 한다. 예를 들어, 18킬로그램 설탕을 배달해야 할 때, 3킬로그램 봉지 6개를 가져가도 되지만, 5킬로그램 3개와 3킬로그램 1개를 배달하면, 더 적은 개수의 봉지를 배달할 수 있다.\n",
        "<br/><br/>\n",
        "상근이가 설탕을 정확하게 N킬로그램 배달해야 할 때, 봉지 몇 개를 가져가면 되는지 그 수를 구하는 프로그램을 작성하시오.\n",
        "\n",
        "<br/>\n",
        "\n",
        "### 입력\n",
        "첫째 줄에 N이 주어진다. (3 ≤ N ≤ 5000) \n",
        "\n",
        "### 출력\n",
        "상근이가 배달하는 봉지의 최소 개수를 출력한다. 만약, 정확하게 N킬로그램을 만들 수 없다면 -1을 출력한다.\n",
        "\n",
        "<br/>\n",
        "\n",
        "#### 예제 입력 1 \n",
        "\n",
        "18\n",
        "\n",
        "<br/>\n",
        "\n",
        "#### 예제 출력 1\n",
        "\n",
        "4\n",
        "\n",
        "<br/>\n",
        "\n",
        "#### 예제 입력 2 \n",
        "\n",
        "4\n",
        "\n",
        "<br/>\n",
        "\n",
        "#### 예제 출력 2\n",
        "\n",
        "1-"
      ]
    },
    {
      "cell_type": "markdown",
      "metadata": {
        "id": "Lsp44_sPN0TP"
      },
      "source": [
        "## 나의 풀이"
      ]
    },
    {
      "cell_type": "code",
      "metadata": {
        "colab": {
          "base_uri": "https://localhost:8080/"
        },
        "id": "U5hea8JlnFBN",
        "outputId": "b68e6386-af2d-4afb-b5c5-13b1da3e590d"
      },
      "source": [
        "num = int(input())\n",
        "\n",
        "max = num//5\n",
        "min = (num - max*5)//3\n",
        "\n",
        "while True:\n",
        "  if max < 0 or min < 0:\n",
        "    print(-1)\n",
        "    break\n",
        "  if (num - max*5)%3==0:\n",
        "    min = (num - max*5)//3\n",
        "    print(max+min)\n",
        "    break\n",
        "  else:\n",
        "    max -= 1"
      ],
      "execution_count": 19,
      "outputs": [
        {
          "output_type": "stream",
          "name": "stdout",
          "text": [
            "18\n",
            "4\n"
          ]
        }
      ]
    },
    {
      "cell_type": "markdown",
      "metadata": {
        "id": "g1o8oXNTFuoc"
      },
      "source": [
        "## 다른 사람의 풀이"
      ]
    },
    {
      "cell_type": "code",
      "metadata": {
        "colab": {
          "base_uri": "https://localhost:8080/"
        },
        "id": "A5nH0mO0j0sw",
        "outputId": "c7e4d50e-6302-440d-ed2c-63636da9de00"
      },
      "source": [
        "N = int(input())\n",
        "\n",
        "cnt = 0\n",
        "\n",
        "while True:\n",
        "    if N%5 == 0:\n",
        "        cnt += N//5\n",
        "        print(cnt)\n",
        "        break\n",
        "    # N = max*5 + min*3 이라 할때, min += 1 해주는 부분\n",
        "    N -= 3\n",
        "    cnt += 1\n",
        "    if N < 0: \n",
        "        print(-1)\n",
        "        break"
      ],
      "execution_count": 20,
      "outputs": [
        {
          "output_type": "stream",
          "name": "stdout",
          "text": [
            "4\n",
            "-1\n"
          ]
        }
      ]
    }
  ]
}