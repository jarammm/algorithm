{
  "nbformat": 4,
  "nbformat_minor": 0,
  "metadata": {
    "kernelspec": {
      "display_name": "Python 3",
      "language": "python",
      "name": "python3"
    },
    "language_info": {
      "codemirror_mode": {
        "name": "ipython",
        "version": 3
      },
      "file_extension": ".py",
      "mimetype": "text/x-python",
      "name": "python",
      "nbconvert_exporter": "python",
      "pygments_lexer": "ipython3",
      "version": "3.7.4"
    },
    "colab": {
      "name": "btree_search.ipynb",
      "provenance": []
    }
  },
  "cells": [
    {
      "cell_type": "markdown",
      "metadata": {
        "id": "oKq92Fl2JQom"
      },
      "source": [
        "# 이진 탐색 알고리즘\n",
        "\n",
        "* 순차 탐색\n",
        "  * 리스트 안에 있는 특정한 데이터를 찾기 위해 앞에서부터 데이터를 하나씩 확인하는 방법\n",
        "\n",
        "* 이진 탐색\n",
        "  * 정렬되어 있는 리스트에서 탐색 범위를 절반씩 좁혀가며 데이터를 탐색하는 방법\n",
        "    * 이진 탐색은 시작점, 끝점, 중간점을 이용하여 탐색 범위를 설정합니다."
      ]
    },
    {
      "cell_type": "markdown",
      "metadata": {
        "id": "RwcGSX9tJ004"
      },
      "source": [
        "## 이진 탐색의 시간 복잡도\n",
        "\n",
        "* 단계마다 탐색 범위를 2로 나누는 것과 동일하므로 연산 횟수는 $log_{2}n$ 에 비례합니다.\n",
        "* 예를 들어 초기 데이터 개수가 32개일 때, 이상적으로 1단계를 거치면 16개 가량의 데이터만 남습니다.\n",
        "  * 2단계를 거치면 8개 가량의 데이터만 남음\n",
        "  * 3단계를 거치면 4개 가량의 데이터만 남음\n",
        "* 다시 말해 이진 탐색은 탐색 범위를 절반씩 줄이며, 시간 복잡도는 $O(logN)$을 보장"
      ]
    },
    {
      "cell_type": "markdown",
      "metadata": {
        "id": "l6G3T7YZfoL2"
      },
      "source": [
        "### 이진 탐색 소스코드: 재귀적 구현"
      ]
    },
    {
      "cell_type": "code",
      "metadata": {
        "colab": {
          "base_uri": "https://localhost:8080/"
        },
        "id": "6VzP0A8neJSG",
        "outputId": "4523c4d1-9adb-4cca-8c21-b5d0fa0fadfc"
      },
      "source": [
        "# 이진 탐색 소스코드 구현 (재귀 함수)\n",
        "def binary_search(array, target, start, end):\n",
        "  if start > end:\n",
        "    return None\n",
        "  mid = (start + end) // 2\n",
        "  # 찾은 경우 중간점 인덱스 반환\n",
        "  if array[mid] == target:\n",
        "    return mid\n",
        "  # 중간점의 값보다 찾고자 하는 값이 적은 경우 왼쪽 확인\n",
        "  elif array[mid] > target:\n",
        "    return binary_search(array, target, start, mid - 1)\n",
        "  # 중간점의 값보다 찾고자 하는 값이 큰 경우 오른쪽 호강니\n",
        "  else:\n",
        "    return binary_search(array, target, mid + 1, end)\n",
        "\n",
        "# n(원소의 개수)과 target(찾고자 하는 값)을 입력 받기\n",
        "n, target = list(map(int, input().split()))\n",
        "# 전체 원소 입력 받기\n",
        "array = list(map(int, input().split()))\n",
        "\n",
        "# 이진 탐색 수행 결과 출력\n",
        "result = binary_search(array, target, 0, n-1)\n",
        "if result == None:\n",
        "  print('원소가 존재하지 않습니다.')\n",
        "else:\n",
        "  print(result + 1)"
      ],
      "execution_count": null,
      "outputs": [
        {
          "output_type": "stream",
          "name": "stdout",
          "text": [
            "10 7\n",
            "1 3 5 7 9 11 13 15 17 19\n",
            "4\n"
          ]
        }
      ]
    },
    {
      "cell_type": "markdown",
      "metadata": {
        "id": "I_HSQ28DN7eo"
      },
      "source": [
        "# 정렬 알고리즘\n",
        "\n",
        "* 정렬이란 데이터를 특정한 기준에 따라 순서대로 나열한 것을 말함\n",
        "* 일반적으로 문제 상황에 따라서 적절한 정렬 알고리즘이 공식처럼 사용됨"
      ]
    },
    {
      "cell_type": "markdown",
      "metadata": {
        "id": "GHTmkgo-OHMe"
      },
      "source": [
        "## 선택 정렬\n",
        "\n",
        "> 처리되지 않은 데이터 중에서 가장 작은 데이터를 선택해 맨 앞에 있는 데이터와 바꾸는 것을 반복"
      ]
    },
    {
      "cell_type": "markdown",
      "metadata": {
        "id": "on8gmokMOXhH"
      },
      "source": [
        "### 선택 정렬 소스 코드"
      ]
    },
    {
      "cell_type": "code",
      "metadata": {
        "colab": {
          "base_uri": "https://localhost:8080/"
        },
        "id": "elid0Q3kOWYP",
        "outputId": "358467b4-841c-45a0-bcee-dc750793e07a"
      },
      "source": [
        "array = [7, 5, 9, 0, 3, 1, 6, 2, 4, 8]\n",
        "\n",
        "for i in range(len(array)):\n",
        "    min_index = i  # 가장 작은 원소의 인덱스\n",
        "    for j in range(i + 1, len(array)):\n",
        "        if array[min_index] > array[j]:\n",
        "            min_index = j\n",
        "    array[i], array[min_index] = array[min_index], array[i]\n",
        "\n",
        "print(array)"
      ],
      "execution_count": 2,
      "outputs": [
        {
          "output_type": "stream",
          "name": "stdout",
          "text": [
            "[0, 1, 2, 3, 4, 5, 6, 7, 8, 9]\n"
          ]
        }
      ]
    },
    {
      "cell_type": "markdown",
      "metadata": {
        "id": "11mCVJEdPFSi"
      },
      "source": [
        "### 선택 정렬의 시간 복잡도\n",
        "\n",
        "* 선택 정렬은 N번 만큼 가장 작은 수를 찾아서 맨 앞으로 보내야 합니다.\n",
        "* 구현 방식에 따라서 사소한 오차는 있을 수 있지만, 전체 연산 횟수는 다음과 같습니다.\n",
        "\n",
        "$$N + (N - 1) + (N - 2) + ... + 2$$\n",
        "\n",
        "* 이는 $(N^2 + N - 2)/2$ 로 표현할 수 있는데, 비공 표기법에 따라서 $O(N^2)$이라고 작성"
      ]
    },
    {
      "cell_type": "markdown",
      "metadata": {
        "id": "Uq83q-C4Pkzb"
      },
      "source": [
        "## 삽입 정렬\n",
        "\n",
        "* 처리되지 않은 데이터를 하나씩 골라 적절한 위치에 삽입\n",
        "* 선택 정렬에 비해 구현 난이도가 높은 편이지만, 일반적으로 더 효율적으로 동작"
      ]
    },
    {
      "cell_type": "markdown",
      "metadata": {
        "id": "heaPQz9-P1l5"
      },
      "source": [
        "### 삽입 정렬 소스코드"
      ]
    },
    {
      "cell_type": "code",
      "metadata": {
        "colab": {
          "base_uri": "https://localhost:8080/"
        },
        "id": "HKIBCOPCP3bm",
        "outputId": "23efb0d4-89d8-4660-dcb3-cc02844da7a0"
      },
      "source": [
        "array = [7, 5, 9, 0, 3, 1, 6, 2, 4, 8]\n",
        "\n",
        "for i in range(1, len(array)):\n",
        "    for j in range(i, 0, -1):    # 인덱스 i부터 1까지 1씩 감소하며 반복하는 문법\n",
        "        if array[j] < array[j - 1]:\n",
        "            array[j], array[j - 1] = array[j - 1], array[j]\n",
        "        else:    # 자기보다 작은 데이터를 만나면 그 위치에서 멈춤\n",
        "            break\n",
        "\n",
        "print(array)"
      ],
      "execution_count": 4,
      "outputs": [
        {
          "output_type": "stream",
          "name": "stdout",
          "text": [
            "[0, 1, 2, 3, 4, 5, 6, 7, 8, 9]\n"
          ]
        }
      ]
    },
    {
      "cell_type": "markdown",
      "metadata": {
        "id": "YLcXUjHXP33Y"
      },
      "source": [
        "### 삽입 정렬의 시간 복잡도\n",
        "\n",
        "* 삽입 정렬의 시간 복잡도는 $O(N^2)$이며, 선택 정렬과 마찬가지로 반복문이 두 번 쭝첩되어 사용됨\n",
        "* 삽입 정렬은 현재 리스트의 데이터가 거의 정렬되어 있는 상태라면 매우 빠르게 동작함\n",
        "    * 최선의 경우 $O(N)$의 시간 복잡도를 가짐\n",
        "    * 이미 정렬되어 있는 상태에서 다시 삽입 정렬을 수행하면 어떻게 될까?\n"
      ]
    },
    {
      "cell_type": "markdown",
      "metadata": {
        "id": "bKA9kbscP98w"
      },
      "source": [
        "## 퀵 정렬\n",
        "\n",
        "* 기준 데이터를 설정하고 그 **기준보다 큰 데이터와 작은 데이터의 위치를 바꾸는 방법**\n",
        "* 일밙거인 상황에서 가장 많이 사용되는 정렬 알고리즘 중 하나\n",
        "* 병합 정렬과 더불어 대부분의 프로그래밍 언어의 정렬 라이브러리의 근간이 되는 알고리즘\n",
        "* 가장 기본적인 퀵 정렬은 **첫 번째 데이터를 기준 데이터(Pivot)로 설정**"
      ]
    },
    {
      "cell_type": "markdown",
      "metadata": {
        "id": "vEHsPfcDP_Ud"
      },
      "source": [
        "### 퀵 정렬 소스코드"
      ]
    },
    {
      "cell_type": "code",
      "metadata": {
        "colab": {
          "base_uri": "https://localhost:8080/"
        },
        "id": "SVC69jWPYDrI",
        "outputId": "275551bc-503a-465a-a064-c530465b5848"
      },
      "source": [
        "array = [7, 5, 9, 0, 3, 1, 6, 2, 4, 8]\n",
        "\n",
        "def quick_sort(array):\n",
        "    # 리스트가 하나 이하의 원소만을 담고 있다면 종료\n",
        "    if len(array) <= 1:\n",
        "        return array\n",
        "    pivot = array[0]  # 피벗은 첫 번째 원소\n",
        "    tail = array[1:]  # 피벗을 제외한 리스트\n",
        "\n",
        "    left_side = [x for x in tail if x <= pivot]  # 분할된 왼쪽 부분\n",
        "    right_side = [x for x in tail if x > pivot]  # 분할된 오른쪽 부분\n",
        "\n",
        "    # 분할 이후 왼쪽 부분과 오른쪽 부분에서 각각 정렬 수행하고, 전체 리스트 변환\n",
        "    return quick_sort(left_side) + [pivot] + quick_sort(right_side)\n",
        "\n",
        "print(quick_sort(array))"
      ],
      "execution_count": 5,
      "outputs": [
        {
          "output_type": "stream",
          "name": "stdout",
          "text": [
            "[0, 1, 2, 3, 4, 5, 6, 7, 8, 9]\n"
          ]
        }
      ]
    },
    {
      "cell_type": "markdown",
      "metadata": {
        "id": "zdE77T8KQBzm"
      },
      "source": [
        "### 퀵 정렬의 시간 복잡도\n",
        "\n",
        "* 퀵 정렬은 평균의 경우 $O(NlogN)$의 시간 복잡도를 가짐\n",
        "* 하지만 최악의 경우 $O(N^2)$의 시간 복잡도\n",
        "    * 첫 번째 원소를 피벗으로 삼을 때, 이미 정렬된 배열에 대해서 퀵 정렬을 수행하면 어떻게 될까?"
      ]
    },
    {
      "cell_type": "markdown",
      "metadata": {
        "id": "3gjwbB1oa0QZ"
      },
      "source": [
        "# 이진 탐색 트리 구현"
      ]
    },
    {
      "cell_type": "code",
      "metadata": {
        "id": "Rm2CHUO9IdlS"
      },
      "source": [
        "## 함수 선언 부분 ##\n",
        "class TreeNode() :\n",
        "\tdef __init__ (self) :\n",
        "\t\tself.left = None\n",
        "\t\tself.data = None\n",
        "\t\tself.right = None"
      ],
      "execution_count": null,
      "outputs": []
    },
    {
      "cell_type": "code",
      "metadata": {
        "id": "XqzDYpcIIdlY"
      },
      "source": [
        "## 전역 변수 선언 부분 ##\n",
        "memory = []\n",
        "root = None\n",
        "nameAry = ['블랙핑크', '레드벨벳', '마마무', '에이핑크',  '걸스데이', '트와이스' ]"
      ],
      "execution_count": null,
      "outputs": []
    },
    {
      "cell_type": "code",
      "metadata": {
        "id": "j0aFdbNRIdlZ"
      },
      "source": [
        "## 메인 코드 부분 ##\n",
        "node = TreeNode()\n",
        "node.data = nameAry[0]\n",
        "root = node\n",
        "memory.append(node)"
      ],
      "execution_count": null,
      "outputs": []
    },
    {
      "cell_type": "code",
      "metadata": {
        "id": "DaBhakyYIdla",
        "outputId": "4d993a70-f9c2-4879-84f3-bccf1eb8f8f4"
      },
      "source": [
        "for name in nameAry[1:] :\n",
        "\n",
        "\tnode = TreeNode()\n",
        "\tnode.data = name\n",
        "\n",
        "\tcurrent = root\n",
        "\twhile True :\n",
        "\t\tif name < current.data :\n",
        "\t\t\tif current.left == None :\n",
        "\t\t\t\tcurrent.left = node\n",
        "\t\t\t\tbreak\n",
        "\t\t\tcurrent = current.left\n",
        "\t\telse :\n",
        "\t\t\tif current.right == None :\n",
        "\t\t\t\tcurrent.right = node\n",
        "\t\t\t\tbreak\n",
        "\t\t\tcurrent = current.right\n",
        "\n",
        "\tmemory.append(node)\n",
        "\n",
        "print(\"이진 탐색 트리 구성 완료!\")"
      ],
      "execution_count": null,
      "outputs": [
        {
          "name": "stdout",
          "output_type": "stream",
          "text": [
            "이진 탐색 트리 구성 완료!\n"
          ]
        }
      ]
    },
    {
      "cell_type": "code",
      "metadata": {
        "id": "KccYiPncIdlb",
        "outputId": "b846e34c-d945-40e0-d3b8-64d0b79cc242"
      },
      "source": [
        "def preorder(node) :\n",
        "\tif node == None:\n",
        "\t\treturn\n",
        "\tprint(node.data, end='->')\n",
        "\tpreorder(node.left)\n",
        "\tpreorder(node.right)\n",
        "\n",
        "print('전위 순회 : ', end = '')\n",
        "preorder(root)\n",
        "print('끝')"
      ],
      "execution_count": null,
      "outputs": [
        {
          "name": "stdout",
          "output_type": "stream",
          "text": [
            "전위 순회 : 블랙핑크->레드벨벳->걸스데이->마마무->에이핑크->트와이스->끝\n"
          ]
        }
      ]
    },
    {
      "cell_type": "code",
      "metadata": {
        "id": "6enP3YSRIdlc",
        "outputId": "5d1cae23-02dd-4acc-e7ed-f3ec490e11ad"
      },
      "source": [
        "def inorder(node):\n",
        "\tif node == None :\n",
        "\t\treturn\n",
        "\tinorder(node.left)\n",
        "\tprint(node.data, end='->')\n",
        "\tinorder(node.right)\n",
        "    \n",
        "print('중위 순회 : ', end = '')\n",
        "inorder(root)\n",
        "print('끝')"
      ],
      "execution_count": null,
      "outputs": [
        {
          "name": "stdout",
          "output_type": "stream",
          "text": [
            "중위 순회 : 걸스데이->레드벨벳->마마무->블랙핑크->에이핑크->트와이스->끝\n"
          ]
        }
      ]
    },
    {
      "cell_type": "code",
      "metadata": {
        "id": "vunftccjIdld",
        "outputId": "4c5a44f1-b1b5-41f2-f2c2-c3bcf912bd1a"
      },
      "source": [
        "def postorder(node):\n",
        "\tif node == None :\n",
        "\t\treturn\n",
        "\tpostorder(node.left)\n",
        "\tpostorder(node.right)\n",
        "\tprint(node.data, end='->')\n",
        "    \n",
        "print('후위 순회 : ', end = '')\n",
        "postorder(root)\n",
        "print('끝')"
      ],
      "execution_count": null,
      "outputs": [
        {
          "name": "stdout",
          "output_type": "stream",
          "text": [
            "후위 순회 : 걸스데이->마마무->레드벨벳->트와이스->에이핑크->블랙핑크->끝\n"
          ]
        }
      ]
    },
    {
      "cell_type": "code",
      "metadata": {
        "id": "axE7AnuoIdle",
        "outputId": "c4a6735a-4722-4997-b01a-b213734e21cc"
      },
      "source": [
        "findName = '마마무'\n",
        "\n",
        "current = root\n",
        "while True :\n",
        "\tif findName == current.data:\n",
        "\t\tprint(findName, '을(를) 찾음.')\n",
        "\t\tbreak\n",
        "\telif findName < current.data :\n",
        "\t\tif current.left == None :\n",
        "\t\t\tprint(findName, '이(가) 트리에 없음')\n",
        "\t\t\tbreak\n",
        "\t\tcurrent = current.left\n",
        "\telse :\n",
        "\t\tif current.right == None :\n",
        "\t\t\tprint(findName, '이(가) 트리에 없음')\n",
        "\t\t\tbreak\n",
        "\t\tcurrent = current.right"
      ],
      "execution_count": null,
      "outputs": [
        {
          "name": "stdout",
          "output_type": "stream",
          "text": [
            "마마무 을(를) 찾음.\n"
          ]
        }
      ]
    },
    {
      "cell_type": "code",
      "metadata": {
        "id": "fEciN-BiIdlf",
        "outputId": "bf02ae19-5fa3-42ad-ae58-4bec2c5adf60"
      },
      "source": [
        "deleteName = '마마무' \n",
        "\n",
        "current = root\n",
        "parent = None\n",
        "while True:\n",
        "\tif deleteName == current.data :\n",
        "\t\t\n",
        "\t\tif current.left == None and current.right == None : \n",
        "\t\t\tif parent.left == current :\n",
        "\t\t\t\tparent.left = None\n",
        "\t\t\telse :\n",
        "\t\t\t\tparent.right = None\n",
        "\t\t\tdel(current)\n",
        "\n",
        "\t\telif current.left != None and current.right == None : \n",
        "\t\t\tif parent.left == current :\n",
        "\t\t\t\tparent.left = current.left\n",
        "\t\t\telse :\n",
        "\t\t\t\tparent.right = current.left\n",
        "\t\t\tdel(current)\n",
        "\n",
        "\t\telif current.left == None and current.right != None : \n",
        "\t\t\tif parent.left == current:\n",
        "\t\t\t\tparent.left = current.right\n",
        "\t\t\telse:\n",
        "\t\t\t\tparent.right = current.right\n",
        "\t\t\tdel(current)\n",
        "\n",
        "\t\tprint(deleteName, '이(가) 삭제됨.')\n",
        "\t\tbreak\n",
        "\telif deleteName < current.data :\n",
        "\t\tif current.left == None :\n",
        "\t\t\tprint(deleteName, '이(가) 트리에 없음')\n",
        "\t\t\tbreak\n",
        "\t\tparent = current\n",
        "\t\tcurrent = current.left\n",
        "\telse:\n",
        "\t\tif current.right == None :\n",
        "\t\t\tprint(deleteName, '이(가) 트리에 없음')\n",
        "\t\t\tbreak\n",
        "\t\tparent = current\n",
        "\t\tcurrent = current.right"
      ],
      "execution_count": null,
      "outputs": [
        {
          "name": "stdout",
          "output_type": "stream",
          "text": [
            "마마무 이(가) 삭제됨.\n"
          ]
        }
      ]
    }
  ]
}