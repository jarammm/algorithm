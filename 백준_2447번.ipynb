{
  "nbformat": 4,
  "nbformat_minor": 0,
  "metadata": {
    "colab": {
      "name": "백준 2447번.ipynb",
      "provenance": [],
      "collapsed_sections": [],
      "authorship_tag": "ABX9TyOSBxPQBJ4Vs8/uWRp29x1g"
    },
    "kernelspec": {
      "name": "python3",
      "display_name": "Python 3"
    },
    "language_info": {
      "name": "python"
    }
  },
  "cells": [
    {
      "cell_type": "markdown",
      "metadata": {
        "id": "ZvL0e96Pk1n3"
      },
      "source": [
        "# 별 찍기 - 10\n",
        "\n",
        "* 단계별 풀이 : 10단계(재귀) - 3단계 2447번 별 찍기 - 10\n",
        "<br/>\n",
        "\n",
        "\n",
        "## 문제\n",
        "\n",
        "재귀적인 패턴으로 별을 찍어 보자. N이 3의 거듭제곱(3, 9, 27, ...)이라고 할 때, 크기 N의 패턴은 N×N 정사각형 모양이다.\n",
        "<br/><br/>\n",
        "크기 3의 패턴은 가운데에 공백이 있고, 가운데를 제외한 모든 칸에 별이 하나씩 있는 패턴이다.\n",
        "<br/>\n",
        "\n",
        "```\n",
        "***\n",
        "* *\n",
        "***\n",
        "```\n",
        "\n",
        "N이 3보다 클 경우, 크기 N의 패턴은 공백으로 채워진 가운데의 (N/3)×(N/3) 정사각형을 크기 N/3의 패턴으로 둘러싼 형태이다. 예를 들어 크기 27의 패턴은 예제 출력 1과 같다.\n",
        "<br/>\n",
        "\n",
        "### 입력\n",
        "\n",
        "첫째 줄에 N이 주어진다. N은 3의 거듭제곱이다. 즉 어떤 정수 k에 대해 N=$3^k$이며, 이때 1 ≤ k < 8이다.\n",
        "<br/>\n",
        "\n",
        "### 출력\n",
        "\n",
        "첫째 줄부터 N번째 줄까지 별을 출력한다.\n",
        "\n",
        "<br/>\n",
        "\n",
        "#### 예제 입력 1 \n",
        "\n",
        "27\n",
        "\n",
        "<br/>\n",
        "\n",
        "#### 예제 출력 1\n",
        "\n",
        "```\n",
        "***************************\n",
        "* ** ** ** ** ** ** ** ** *\n",
        "***************************\n",
        "***   ******   ******   ***\n",
        "* *   * ** *   * ** *   * *\n",
        "***   ******   ******   ***\n",
        "***************************\n",
        "* ** ** ** ** ** ** ** ** *\n",
        "***************************\n",
        "*********         *********\n",
        "* ** ** *         * ** ** *\n",
        "*********         *********\n",
        "***   ***         ***   ***\n",
        "* *   * *         * *   * *\n",
        "***   ***         ***   ***\n",
        "*********         *********\n",
        "* ** ** *         * ** ** *\n",
        "*********         *********\n",
        "***************************\n",
        "* ** ** ** ** ** ** ** ** *\n",
        "***************************\n",
        "***   ******   ******   ***\n",
        "* *   * ** *   * ** *   * *\n",
        "***   ******   ******   ***\n",
        "***************************\n",
        "* ** ** ** ** ** ** ** ** *\n",
        "***************************\n",
        "```"
      ]
    },
    {
      "cell_type": "markdown",
      "metadata": {
        "id": "ZbpqQqLd1Eeh"
      },
      "source": [
        "## 풀이 1\n",
        "\n",
        "[참고](https://study-with-yuls.tistory.com/136)"
      ]
    },
    {
      "cell_type": "code",
      "metadata": {
        "colab": {
          "base_uri": "https://localhost:8080/"
        },
        "id": "zYFJin-iI7R5",
        "outputId": "949d5d02-2b4b-45da-e78e-63cdbfa81cff"
      },
      "source": [
        "def get_stars(n):\n",
        "    matrix = []\n",
        "    for i in range(3*len(n)):\n",
        "        if i // len(n) == 1:\n",
        "            matrix.append(n[i%len(n)] + \" \"*len(n) + n[i%len(n)])\n",
        "        else:\n",
        "            matrix.append(n[i % len(n)] * 3)\n",
        "    return matrix\n",
        "\n",
        "star = ['***', '* *', '***']\n",
        "n  = int(input())\n",
        "k = 0\n",
        "\n",
        "while n != 3:\n",
        "    n = int(n/3)\n",
        "    k += 1\n",
        "\n",
        "for i in range(k):\n",
        "    star = get_stars(star)\n",
        "for i in star:\n",
        "    print(i)"
      ],
      "execution_count": 9,
      "outputs": [
        {
          "output_type": "stream",
          "name": "stdout",
          "text": [
            "9\n",
            "*********\n",
            "* ** ** *\n",
            "*********\n",
            "***   ***\n",
            "* *   * *\n",
            "***   ***\n",
            "*********\n",
            "* ** ** *\n",
            "*********\n"
          ]
        }
      ]
    },
    {
      "cell_type": "markdown",
      "metadata": {
        "id": "NfutvdNFYYcn"
      },
      "source": [
        "## 풀이 2\n",
        "\n",
        "[참고](https://cotak.tistory.com/38)"
      ]
    },
    {
      "cell_type": "code",
      "metadata": {
        "colab": {
          "base_uri": "https://localhost:8080/"
        },
        "id": "Lk-uRS1rYSEr",
        "outputId": "da40cce0-7e8b-43fe-bd11-48533231e111"
      },
      "source": [
        "def append_star(n):\n",
        "    if n == 1:\n",
        "        return ['*']\n",
        "    \n",
        "    Stars = append_star(n//3)\n",
        "    L = []\n",
        "    \n",
        "    for S in Stars:\n",
        "        L.append(S*3)\n",
        "    for S in Stars:\n",
        "        L.append(S+' '*(n//3)+S)\n",
        "    for S in Stars:\n",
        "        L.append(S*3)\n",
        "    return L\n",
        "\n",
        "print('\\n'.join(append_star(int(input()))))"
      ],
      "execution_count": 13,
      "outputs": [
        {
          "output_type": "stream",
          "name": "stdout",
          "text": [
            "9\n",
            "*********\n",
            "* ** ** *\n",
            "*********\n",
            "***   ***\n",
            "* *   * *\n",
            "***   ***\n",
            "*********\n",
            "* ** ** *\n",
            "*********\n"
          ]
        }
      ]
    }
  ]
}