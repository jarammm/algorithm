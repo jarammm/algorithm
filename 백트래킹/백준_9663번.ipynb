{
  "nbformat": 4,
  "nbformat_minor": 0,
  "metadata": {
    "colab": {
      "name": "백준 9663번.ipynb",
      "provenance": [],
      "collapsed_sections": [],
      "authorship_tag": "ABX9TyN+Q0aAOdVBcHrY5Spl3qbj"
    },
    "kernelspec": {
      "name": "python3",
      "display_name": "Python 3"
    },
    "language_info": {
      "name": "python"
    }
  },
  "cells": [
    {
      "cell_type": "markdown",
      "metadata": {
        "id": "ZvL0e96Pk1n3"
      },
      "source": [
        "# N-Queen\n",
        "\n",
        "* 단계별 풀이 : 14단계(백트래킹) - 5단계 9663번 N-Queen\n",
        "> 조금 더 복잡한 백트래킹 문제 1\n",
        "\n",
        "<br/>\n",
        "\n",
        "\n",
        "## 문제\n",
        "\n",
        "N-Queen 문제는 크기가 N × N인 체스판 위에 퀸 N개를 서로 공격할 수 없게 놓는 문제이다.\n",
        "<br/><br/>\n",
        "N이 주어졌을 때, 퀸을 놓는 방법의 수를 구하는 프로그램을 작성하시오.\n",
        "\n",
        "<br/>\n",
        "\n",
        "### 입력\n",
        "첫째 줄에 N이 주어진다. (1 ≤ N < 15)\n",
        "\n",
        "### 출력\n",
        "첫째 줄에 퀸 N개를 서로 공격할 수 없게 놓는 경우의 수를 출력한다.\n",
        "<br/>\n",
        "\n",
        "#### 예제 입력 1 \n",
        "8\n",
        "\n",
        "#### 예제 출력 1 \n",
        "92\n"
      ]
    },
    {
      "cell_type": "code",
      "metadata": {
        "colab": {
          "base_uri": "https://localhost:8080/"
        },
        "id": "DZRIMlsfFkjg",
        "outputId": "fe61e494-bb08-4339-a927-42f97655d3e0"
      },
      "source": [
        "import sys\n",
        "\n",
        "def nQueen(pos):\n",
        "   if pos == N:\n",
        "      return 2 if (N-1)%2 else 1\n",
        "   cnt = 0\n",
        "   for val in range(N):\n",
        "      if DL[N - val + pos] and DC[val] and DR[val + pos]:\n",
        "         DL[N - val + pos], DC[val], DR[val + pos] = False, False, False\n",
        "         cnt += nQueen(pos+1)\n",
        "         DL[N - val + pos], DC[val], DR[val + pos] = True, True, True\n",
        "   return cnt\n",
        "\n",
        "N = int(sys.stdin.readline())\n",
        "cnt=0\n",
        "DL=[True]*2*N\n",
        "DC=[True]*N\n",
        "DR=[True]*2*N\n",
        "\n",
        "if N%2:\n",
        "   cnt += nQueen(0)\n",
        "else:\n",
        "   for val in range(N//2):\n",
        "      if DL[N - val] and DC[val] and DR[val]:\n",
        "         DL[N - val] = DC[val] = DR[val] = False\n",
        "         cnt += nQueen(1)\n",
        "         DL[N - val] = DC[val] = DR[val] = True\n",
        "\n",
        "print(cnt)"
      ],
      "execution_count": 8,
      "outputs": [
        {
          "output_type": "stream",
          "name": "stdout",
          "text": [
            "8\n",
            "92\n"
          ]
        }
      ]
    },
    {
      "cell_type": "markdown",
      "metadata": {
        "id": "4YV5aHjxHxk6"
      },
      "source": [
        "## 다른 사람의 풀이 : 시간 초과\n",
        "\n",
        "[참고](https://developnote.tistory.com/70)"
      ]
    },
    {
      "cell_type": "code",
      "metadata": {
        "colab": {
          "base_uri": "https://localhost:8080/"
        },
        "id": "7oyTMv3o7QiH",
        "outputId": "cf59ceb9-939f-4556-8848-bc06f8d833d8"
      },
      "source": [
        "import sys\n",
        "\n",
        "def nQueen(n):\n",
        "    if n == N:\n",
        "        global cnt\n",
        "        cnt += 1\n",
        "    else:\n",
        "        for i in range(N):\n",
        "            if visited[i]:\n",
        "                continue\n",
        "            \n",
        "            board[n] = i # (n, i)에 퀸 올리기\n",
        "\n",
        "            if check(n):\n",
        "                visited[i] = True\n",
        "                nQueen(n+1)\n",
        "                visited[i] = False\n",
        "\n",
        "def check(n):\n",
        "    for i in range(n):\n",
        "        # 이미 놓여진 퀸과 같은 열이거나 대각선 상에 있는지 확인\n",
        "        # (행끼리의 차 == 열끼리 차의 절대값)이 True면 대각선 상에 있는 것\n",
        "        if (board[n] == board[i]) or (n-i == abs(board[n] - board[i])):\n",
        "            return False\n",
        "    return True\n",
        "\n",
        "N = int(input())\n",
        "cnt = 0\n",
        "board = [0]*N # 인덱스 번호 == 행, 인덱스 값 == 열\n",
        "visited = [False]*N\n",
        "\n",
        "nQueen(0)\n",
        "print(cnt)"
      ],
      "execution_count": null,
      "outputs": [
        {
          "output_type": "stream",
          "name": "stdout",
          "text": [
            "8\n",
            "92\n"
          ]
        }
      ]
    }
  ]
}
