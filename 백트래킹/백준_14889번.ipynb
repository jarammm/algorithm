{
  "nbformat": 4,
  "nbformat_minor": 0,
  "metadata": {
    "colab": {
      "name": "백준_14889번.ipynb",
      "provenance": [],
      "collapsed_sections": [],
      "authorship_tag": "ABX9TyO+y9Gy0N4d9Wez9uONw9BF"
    },
    "kernelspec": {
      "name": "python3",
      "display_name": "Python 3"
    },
    "language_info": {
      "name": "python"
    }
  },
  "cells": [
    {
      "cell_type": "markdown",
      "source": [
        "# [스타트와 링크](https://www.acmicpc.net/problem/14889)\n",
        "\n",
        "> 삼성 SW 역량 테스트 기출 문제 2"
      ],
      "metadata": {
        "id": "aOEF_jkNLcnB"
      }
    },
    {
      "cell_type": "code",
      "execution_count": 29,
      "metadata": {
        "colab": {
          "base_uri": "https://localhost:8080/"
        },
        "id": "WJrqc32sWNPs",
        "outputId": "051c9fef-c72e-4c40-dd90-d38385d4d7b3"
      },
      "outputs": [
        {
          "output_type": "stream",
          "name": "stdout",
          "text": [
            "6\n",
            "0 1 2 3 4 5\n",
            "1 0 2 3 4 5\n",
            "1 2 0 3 4 5\n",
            "1 2 3 0 4 5\n",
            "1 2 3 4 0 5\n",
            "1 2 3 4 5 0\n",
            "2\n"
          ]
        }
      ],
      "source": [
        "# import sys\n",
        "# input = sys.stdin.readline\n",
        "\n",
        "N = int(input())\n",
        "sc = []\n",
        "diff = 2000\n",
        "\n",
        "for _ in range(N):\n",
        "    row = list(map(int, input().split()))\n",
        "    sc.append(row)\n",
        "\n",
        "def power(lst, k):\n",
        "    global diff\n",
        "    if k:\n",
        "        for i in range(lst[-1]+1, N-k+1):\n",
        "            power(lst+[i], k-1)\n",
        "    else:\n",
        "        temp = 0\n",
        "        t = [i for i in range(N) if i not in lst]\n",
        "        for i in range(N//2-1):\n",
        "            for j in range(i+1,N//2):\n",
        "                temp += (sc[lst[i]][lst[j]] + sc[lst[j]][lst[i]] - sc[t[i]][t[j]] - sc[t[j]][t[i]])\n",
        "        diff = min(diff, abs(temp))\n",
        "        return\n",
        "\n",
        "power([0],N//2-1)\n",
        "print(diff)"
      ]
    },
    {
      "cell_type": "code",
      "source": [
        ""
      ],
      "metadata": {
        "id": "ZlrPm3oECC1h"
      },
      "execution_count": null,
      "outputs": []
    }
  ]
}