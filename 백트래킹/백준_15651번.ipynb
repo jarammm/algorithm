{
  "nbformat": 4,
  "nbformat_minor": 0,
  "metadata": {
    "colab": {
      "name": "백준 15651번.ipynb",
      "provenance": [],
      "collapsed_sections": [],
      "authorship_tag": "ABX9TyNrDc3GQmkp3AIgw/xyoHtg"
    },
    "kernelspec": {
      "name": "python3",
      "display_name": "Python 3"
    },
    "language_info": {
      "name": "python"
    }
  },
  "cells": [
    {
      "cell_type": "markdown",
      "metadata": {
        "id": "ZvL0e96Pk1n3"
      },
      "source": [
        "# N과 M (3)\n",
        "\n",
        "* 단계별 풀이 : 14단계(백트래킹) - 3단계 15651번 N과 M (3)\n",
        "> 백트래킹 입문 문제 3\n",
        "\n",
        "<br/>\n",
        "\n",
        "\n",
        "## 문제\n",
        "\n",
        "자연수 N과 M이 주어졌을 때, 아래 조건을 만족하는 길이가 M인 수열을 모두 구하는 프로그램을 작성하시오.\n",
        "<br/><br/>\n",
        "* 1부터 N까지 자연수 중에서 M개를 고른 수열\n",
        "* 같은 수를 여러 번 골라도 된다.\n",
        "\n",
        "<br/>\n",
        "\n",
        "### 입력\n",
        "첫째 줄에 자연수 N과 M이 주어진다. (1 ≤ M ≤ N ≤ 7)\n",
        "### 출력\n",
        "한 줄에 하나씩 문제의 조건을 만족하는 수열을 출력한다. 중복되는 수열을 여러 번 출력하면 안되며, 각 수열은 공백으로 구분해서 출력해야 한다.\n",
        "<br/><br/>\n",
        "수열은 사전 순으로 증가하는 순서로 출력해야 한다.\n",
        "\n",
        "<br/>\n",
        "\n",
        "#### 예제 입력 1 \n",
        "3 1\n",
        "\n",
        "#### 예제 출력 1 \n",
        "1<br/>\n",
        "2<br/>\n",
        "3\n",
        "\n",
        "<br/>\n",
        "\n",
        "#### 예제 입력 2\n",
        "\n",
        "4 2\n",
        "\n",
        "#### 예제 출력 2\n",
        "\n",
        "1 1<br/>\n",
        "1 2<br/>\n",
        "1 3<br/>\n",
        "1 4<br/>\n",
        "2 1<br/>\n",
        "2 2<br/>\n",
        "2 3<br/>\n",
        "2 4<br/>\n",
        "3 1<br/>\n",
        "3 2<br/>\n",
        "3 3<br/>\n",
        "3 4<br/>\n",
        "4 1<br/>\n",
        "4 2<br/>\n",
        "4 3<br/>\n",
        "4 4\n"
      ]
    },
    {
      "cell_type": "markdown",
      "metadata": {
        "id": "4YV5aHjxHxk6"
      },
      "source": [
        "## 나의 풀이"
      ]
    },
    {
      "cell_type": "code",
      "metadata": {
        "colab": {
          "base_uri": "https://localhost:8080/"
        },
        "id": "7oyTMv3o7QiH",
        "outputId": "97f386a5-4afd-460c-a5f7-49e1c95824f9"
      },
      "source": [
        "N, M = map(int, input().split())\n",
        "arr = []\n",
        "\n",
        "def dfs():\n",
        "    if len(arr) == M:\n",
        "        print(*arr)\n",
        "        return\n",
        "        \n",
        "    for i in range(1,N+1):\n",
        "        arr.append(i)\n",
        "        dfs()\n",
        "        arr.pop()\n",
        " \n",
        "dfs()"
      ],
      "execution_count": 1,
      "outputs": [
        {
          "output_type": "stream",
          "name": "stdout",
          "text": [
            "4 2\n",
            "1 1\n",
            "1 2\n",
            "1 3\n",
            "1 4\n",
            "2 1\n",
            "2 2\n",
            "2 3\n",
            "2 4\n",
            "3 1\n",
            "3 2\n",
            "3 3\n",
            "3 4\n",
            "4 1\n",
            "4 2\n",
            "4 3\n",
            "4 4\n"
          ]
        }
      ]
    }
  ]
}
