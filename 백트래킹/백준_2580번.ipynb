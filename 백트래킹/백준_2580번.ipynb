{
  "nbformat": 4,
  "nbformat_minor": 0,
  "metadata": {
    "colab": {
      "name": "백준 2580번.ipynb",
      "provenance": [],
      "authorship_tag": "ABX9TyM0f+1WQonA69j46yLUm1Si"
    },
    "kernelspec": {
      "name": "python3",
      "display_name": "Python 3"
    },
    "language_info": {
      "name": "python"
    }
  },
  "cells": [
    {
      "cell_type": "markdown",
      "metadata": {
        "id": "qhBN0hwDl5GD"
      },
      "source": [
        "# 스도쿠\n",
        "\n",
        "* 단계별 풀이 : 14단계(백트래킹) - 6단계 2580번 스도쿠\n",
        "> 조금 더 복잡한 백트래킹 문제 2\n",
        "\n",
        "<br/>\n",
        "\n",
        "\n",
        "## 문제\n",
        "\n",
        "스도쿠는 18세기 스위스 수학자가 만든 '라틴 사각형'이란 퍼즐에서 유래한 것으로 현재 많은 인기를 누리고 있다. 이 게임은 아래 그림과 같이 가로, 세로 각각 9개씩 총 81개의 작은 칸으로 이루어진 정사각형 판 위에서 이뤄지는데, 게임 시작 전 일부 칸에는 1부터 9까지의 숫자 중 하나가 쓰여 있다.\n",
        "<br/><br/>\n",
        "나머지 빈 칸을 채우는 방식은 다음과 같다.\n",
        "<br/><br/>\n",
        "각각의 가로줄과 세로줄에는 1부터 9까지의 숫자가 한 번씩만 나타나야 한다.\n",
        "굵은 선으로 구분되어 있는 3x3 정사각형 안에도 1부터 9까지의 숫자가 한 번씩만 나타나야 한다.\n",
        "위의 예의 경우, 첫째 줄에는 1을 제외한 나머지 2부터 9까지의 숫자들이 이미 나타나 있으므로 첫째 줄 빈칸에는 1이 들어가야 한다.\n",
        "<br/><br/>\n",
        "또한 위쪽 가운데 위치한 3x3 정사각형의 경우에는 3을 제외한 나머지 숫자들이 이미 쓰여있으므로 가운데 빈 칸에는 3이 들어가야 한다.\n",
        "<br/><br/>\n",
        "이와 같이 빈 칸을 차례로 채워 가면 다음과 같은 최종 결과를 얻을 수 있다.\n",
        "<br/><br/>\n",
        "게임 시작 전 스도쿠 판에 쓰여 있는 숫자들의 정보가 주어질 때 모든 빈 칸이 채워진 최종 모습을 출력하는 프로그램을 작성하시오.\n",
        "\n",
        "<br/>\n",
        "\n",
        "### 입력\n",
        "아홉 줄에 걸쳐 한 줄에 9개씩 게임 시작 전 스도쿠판 각 줄에 쓰여 있는 숫자가 한 칸씩 띄워서 차례로 주어진다. 스도쿠 판의 빈 칸의 경우에는 0이 주어진다. 스도쿠 판을 규칙대로 채울 수 없는 경우의 입력은 주어지지 않는다.\n",
        "\n",
        "### 출력\n",
        "모든 빈 칸이 채워진 스도쿠 판의 최종 모습을 아홉 줄에 걸쳐 한 줄에 9개씩 한 칸씩 띄워서 출력한다.\n",
        "<br/><br/>\n",
        "스도쿠 판을 채우는 방법이 여럿인 경우는 그 중 하나만을 출력한다.\n",
        "<br/>\n",
        "\n",
        "#### 예제 입력 1 \n",
        "0 3 5 4 6 9 2 7 8<br/>\n",
        "7 8 2 1 0 5 6 0 9<br/>\n",
        "0 6 0 2 7 8 1 3 5<br/>\n",
        "3 2 1 0 4 6 8 9 7<br/>\n",
        "8 0 4 9 1 3 5 0 6<br/>\n",
        "5 9 6 8 2 0 4 1 3<br/>\n",
        "9 1 7 6 5 2 0 8 0<br/>\n",
        "6 0 3 7 0 1 9 5 2<br/>\n",
        "2 5 8 3 9 4 7 6 0\n",
        "\n",
        "#### 예제 출력 1 \n",
        "1 3 5 4 6 9 2 7 8<br/>\n",
        "7 8 2 1 3 5 6 4 9<br/>\n",
        "4 6 9 2 7 8 1 3 5<br/>\n",
        "3 2 1 5 4 6 8 9 7<br/>\n",
        "8 7 4 9 1 3 5 2 6<br/>\n",
        "5 9 6 8 2 7 4 1 3<br/>\n",
        "9 1 7 6 5 2 3 8 4<br/>\n",
        "6 4 3 7 8 1 9 5 2<br/>\n",
        "2 5 8 3 9 4 7 6 1"
      ]
    },
    {
      "cell_type": "markdown",
      "metadata": {
        "id": "eemNiiFKuFW0"
      },
      "source": [
        "## 다른 사람 풀이 1\n",
        "\n",
        "[풀이 참고](https://coder38611.tistory.com/137)"
      ]
    },
    {
      "cell_type": "code",
      "metadata": {
        "id": "435eOjBXl393"
      },
      "source": [
        "import sys\n",
        "\n",
        "\n",
        "board = [list(map(int, input().split())) for _ in range(9)]\n",
        "zeros = [(i, j) for i in range(9) for j in range(9) if board[i][j] == 0]\n",
        "\n",
        "\n",
        "def get_possibles(r, c):\n",
        "    possibles = set(range(1, 10))\n",
        "    possibles -= set(board[r])\n",
        "    test = set()\n",
        "    for i in range(9):\n",
        "        test.add(board[i][c])\n",
        "    possibles -= test\n",
        "    test = set()\n",
        "    for i in range(r//3*3, r//3*3+3):\n",
        "        for j in range(c//3*3, c//3*3+3):\n",
        "            test.add(board[i][j])\n",
        "    possibles -= test\n",
        "    return tuple(possibles)\n",
        "\n",
        "\n",
        "def solve(i):\n",
        "    if i == len(zeros):\n",
        "        [print(*row) for row in board]\n",
        "        sys.exit()\n",
        "    r, c = zeros[i]\n",
        "    possibles = get_possibles(r, c)\n",
        "    for num in possibles:\n",
        "        board[r][c] = num\n",
        "        solve(i+1)\n",
        "        board[r][c] = 0\n",
        "\n",
        "\n",
        "solve(0)"
      ],
      "execution_count": null,
      "outputs": []
    },
    {
      "cell_type": "markdown",
      "metadata": {
        "id": "ZoCpAbiIyRjG"
      },
      "source": [
        "## 다른 사람 풀이 2\n",
        "\n",
        "* 출처 : 백준온라인저지"
      ]
    },
    {
      "cell_type": "code",
      "metadata": {
        "id": "2LG9kW4xyQ0P"
      },
      "source": [
        "import sys\n",
        "sys.setrecursionlimit(100000)\n",
        "def DFS(k):\n",
        "    y, x = empty[k]\n",
        "    b = whichBox(y, x)\n",
        "    for i in range(1, 10):\n",
        "        if not row[y][i] and not col[x][i] and not box[b][i]:\n",
        "            board[y][x] = i\n",
        "            if k == len(empty) - 1:\n",
        "                printBoard()\n",
        "            row[y][i], col[x][i], box[b][i] = True, True, True\n",
        "            DFS(k + 1)\n",
        "            row[y][i], col[x][i], box[b][i] = False, False, False\n",
        "\n",
        "def whichBox(y, x):\n",
        "    return [[1, 2, 3], [4, 5, 6], [7, 8, 9]][(y - 1) // 3][(x - 1) // 3]\n",
        "\n",
        "def printBoard():\n",
        "    for y in range(1, 10):\n",
        "        for x in range(1, 10):\n",
        "            print(board[y][x], end=' ')\n",
        "        print()\n",
        "    sys.exit()\n",
        "\n",
        "board = [None]\n",
        "for i in range(9):\n",
        "    board.append([None] + list(map(int, sys.stdin.readline().rstrip('\\n').split())))\n",
        "row = [None] + [[False] * (10) for _ in range(9)]\n",
        "col = [None] + [[False] * (10) for _ in range(9)]\n",
        "box = [None] + [[False] * (10) for _ in range(9)]\n",
        "empty = [None]\n",
        "for y in range(1, 10):\n",
        "    for x in range(1, 10):\n",
        "        i = board[y][x]\n",
        "        if i:\n",
        "            row[y][i], col[x][i], box[whichBox(y, x)][i] = True, True, True\n",
        "        else:\n",
        "            empty.append([y, x])\n",
        "if len(empty) == 1:\n",
        "    printBoard()\n",
        "DFS(1)"
      ],
      "execution_count": null,
      "outputs": []
    }
  ]
}
