{
  "nbformat": 4,
  "nbformat_minor": 0,
  "metadata": {
    "colab": {
      "name": "백준 11729번.ipynb",
      "provenance": [],
      "collapsed_sections": [],
      "authorship_tag": "ABX9TyMNGpk+VjfrzjFUD4kPBPvh"
    },
    "kernelspec": {
      "name": "python3",
      "display_name": "Python 3"
    },
    "language_info": {
      "name": "python"
    }
  },
  "cells": [
    {
      "cell_type": "markdown",
      "metadata": {
        "id": "ZvL0e96Pk1n3"
      },
      "source": [
        "# 하노이 탑 이동 순서\n",
        "\n",
        "* 단계별 풀이 : 10단계(재귀) - 3단계 11729번 하노이 탑 이동 순서\n",
        "<br/>\n",
        "\n",
        "\n",
        "## 문제\n",
        "\n",
        "세 개의 장대가 있고 첫 번째 장대에는 반경이 서로 다른 n개의 원판이 쌓여 있다. 각 원판은 반경이 큰 순서대로 쌓여있다. 이제 수도승들이 다음 규칙에 따라 첫 번째 장대에서 세 번째 장대로 옮기려 한다.\n",
        "<br/><br/>\n",
        "한 번에 한 개의 원판만을 다른 탑으로 옮길 수 있다.\n",
        "쌓아 놓은 원판은 항상 위의 것이 아래의 것보다 작아야 한다.\n",
        "이 작업을 수행하는데 필요한 이동 순서를 출력하는 프로그램을 작성하라. 단, 이동 횟수는 최소가 되어야 한다.\n",
        "<br/>\n",
        "\n",
        "### 입력\n",
        "\n",
        "첫째 줄에 첫 번째 장대에 쌓인 원판의 개수 N (1 ≤ N ≤ 20)이 주어진다.\n",
        "<br/>\n",
        "\n",
        "### 출력\n",
        "\n",
        "첫째 줄에 옮긴 횟수 K를 출력한다.\n",
        "<br/><br/>\n",
        "두 번째 줄부터 수행 과정을 출력한다. 두 번째 줄부터 K개의 줄에 걸쳐 두 정수 A B를 빈칸을 사이에 두고 출력하는데, 이는 A번째 탑의 가장 위에 있는 원판을 B번째 탑의 가장 위로 옮긴다는 뜻이다.\n",
        "\n",
        "<br/>\n",
        "\n",
        "#### 예제 입력 1 \n",
        "\n",
        "3\n",
        "\n",
        "<br/>\n",
        "\n",
        "#### 예제 출력 1\n",
        "\n",
        "7<br/>\n",
        "1 3<br/>\n",
        "1 2<br/>\n",
        "3 2<br/>\n",
        "1 3<br/>\n",
        "2 1<br/>\n",
        "2 3<br/>\n",
        "1 3"
      ]
    },
    {
      "cell_type": "markdown",
      "metadata": {
        "id": "ZbpqQqLd1Eeh"
      },
      "source": [
        "## 나의 풀이 1"
      ]
    },
    {
      "cell_type": "code",
      "metadata": {
        "colab": {
          "base_uri": "https://localhost:8080/"
        },
        "id": "87kFQ2Dd7lvd",
        "outputId": "718fecf6-7cb2-4ac8-fdba-f9a705ff1cad"
      },
      "source": [
        "process = []\n",
        "\n",
        "def hanoi(N,x,y):\n",
        "    global process\n",
        "    if N > 1:\n",
        "        hanoi(N-1,x,6-x-y)\n",
        "    process += [(x,y)]\n",
        "    if N > 1:\n",
        "        hanoi(N-1,6-x-y,y)\n",
        "\n",
        "N = int(input())\n",
        "hanoi(N,1,3)\n",
        "\n",
        "print(len(process))\n",
        "for x, y in process:\n",
        "    print(x, y)"
      ],
      "execution_count": 6,
      "outputs": [
        {
          "output_type": "stream",
          "name": "stdout",
          "text": [
            "3\n",
            "7\n",
            "1 3\n",
            "1 2\n",
            "3 2\n",
            "1 3\n",
            "2 1\n",
            "2 3\n",
            "1 3\n"
          ]
        }
      ]
    },
    {
      "cell_type": "markdown",
      "metadata": {
        "id": "8chxizfjD0QL"
      },
      "source": [
        "## 나의 풀이 2"
      ]
    },
    {
      "cell_type": "code",
      "metadata": {
        "colab": {
          "base_uri": "https://localhost:8080/"
        },
        "id": "USNuN---Bbe7",
        "outputId": "11946124-86f5-4200-9e88-9c6960f00bdb"
      },
      "source": [
        "def hanoi(N, start, end, temp):\n",
        "    if N==1:\n",
        "        print(start, end)\n",
        "        return\n",
        "    hanoi(N-1, start, temp, end)\n",
        "    print(start, end)\n",
        "    hanoi(N-1, temp, end, start)\n",
        "\n",
        "N=int(input())\n",
        "\n",
        "print(2**N-1)\n",
        "hanoi(N, 1, 3, 2)"
      ],
      "execution_count": 7,
      "outputs": [
        {
          "output_type": "stream",
          "name": "stdout",
          "text": [
            "3\n",
            "7\n",
            "1 3\n",
            "1 2\n",
            "3 2\n",
            "1 3\n",
            "2 1\n",
            "2 3\n",
            "1 3\n"
          ]
        }
      ]
    }
  ]
}