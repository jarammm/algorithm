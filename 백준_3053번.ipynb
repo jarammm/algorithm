{
  "nbformat": 4,
  "nbformat_minor": 0,
  "metadata": {
    "colab": {
      "name": "백준 3053번.ipynb",
      "provenance": [],
      "collapsed_sections": [],
      "authorship_tag": "ABX9TyPSbSGtMuC5mLB+sWHzsqOy"
    },
    "kernelspec": {
      "name": "python3",
      "display_name": "Python 3"
    },
    "language_info": {
      "name": "python"
    }
  },
  "cells": [
    {
      "cell_type": "markdown",
      "metadata": {
        "id": "ZvL0e96Pk1n3"
      },
      "source": [
        "# 택시 기하학\n",
        "\n",
        "* 단계별 풀이 : 9단계(기본 수학2) - 10단계 3053번 택시 기하학\n",
        "\n",
        "<br/>\n",
        "\n",
        "\n",
        "## 문제\n",
        "\n",
        "19세기 독일 수학자 헤르만 민코프스키는 비유클리드 기하학 중 택시 기하학을 고안했다.\n",
        "<br/><br/>\n",
        "택시 기하학에서 두 점 T1(x1,y1), T2(x2,y2) 사이의 거리는 다음과 같이 구할 수 있다.\n",
        "<br/><br/>\n",
        "D(T1,T2) = |x1-x2| + |y1-y2|\n",
        "<br/><br/>\n",
        "두 점 사이의 거리를 제외한 나머지 정의는 유클리드 기하학에서의 정의와 같다.\n",
        "<br/><br/>\n",
        "따라서 택시 기하학에서 원의 정의는 유클리드 기하학에서 원의 정의와 같다.\n",
        "<br/><br/>\n",
        "원: 평면 상의 어떤 점에서 거리가 일정한 점들의 집합\n",
        "<br/><br/>\n",
        "반지름 R이 주어졌을 때, 유클리드 기하학에서 원의 넓이와, 택시 기하학에서 원의 넓이를 구하는 프로그램을 작성하시오.\n",
        "\n",
        "<br/>\n",
        "\n",
        "### 입력\n",
        "\n",
        "첫째 줄에 반지름 R이 주어진다. R은 10,000보다 작거나 같은 자연수이다.\n",
        "\n",
        "<br/>\n",
        "\n",
        "### 출력\n",
        "\n",
        "첫째 줄에는 유클리드 기하학에서 반지름이 R인 원의 넓이를, 둘째 줄에는 택시 기하학에서 반지름이 R인 원의 넓이를 출력한다. 정답과의 오차는 0.0001까지 허용한다.\n",
        "\n",
        "<br/>\n",
        "\n",
        "#### 예제 입력 1 \n",
        "\n",
        "1\n",
        "\n",
        "<br/>\n",
        "\n",
        "#### 예제 출력 1\n",
        "\n",
        "3.141593<br/>\n",
        "2.000000"
      ]
    },
    {
      "cell_type": "markdown",
      "metadata": {
        "id": "ZbpqQqLd1Eeh"
      },
      "source": [
        "## 나의 풀이"
      ]
    },
    {
      "cell_type": "code",
      "metadata": {
        "colab": {
          "base_uri": "https://localhost:8080/"
        },
        "id": "DPBKLjys9Mmb",
        "outputId": "22cf3b7a-b083-4b05-81dd-98e81590ac42"
      },
      "source": [
        "import math\n",
        "R = int(input())\n",
        "\n",
        "print(round(R*R*math.pi, 6), R*R*2)"
      ],
      "execution_count": 4,
      "outputs": [
        {
          "output_type": "stream",
          "name": "stdout",
          "text": [
            "1\n",
            "3.141593 2\n"
          ]
        }
      ]
    }
  ]
}
