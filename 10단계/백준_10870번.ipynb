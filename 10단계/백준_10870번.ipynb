{
  "nbformat": 4,
  "nbformat_minor": 0,
  "metadata": {
    "colab": {
      "name": "백준 10870번.ipynb",
      "provenance": [],
      "collapsed_sections": [],
      "authorship_tag": "ABX9TyPpKb5tllDqfgylxHo2UOgi"
    },
    "kernelspec": {
      "name": "python3",
      "display_name": "Python 3"
    },
    "language_info": {
      "name": "python"
    }
  },
  "cells": [
    {
      "cell_type": "markdown",
      "metadata": {
        "id": "ZvL0e96Pk1n3"
      },
      "source": [
        "# 팩토리얼\n",
        "\n",
        "* 단계별 풀이 : 10단계(재귀) - 2단계 10870번 피보나치 수 5\n",
        "<br/>\n",
        "\n",
        "\n",
        "## 문제\n",
        "\n",
        "피보나치 수는 0과 1로 시작한다. 0번째 피보나치 수는 0이고, 1번째 피보나치 수는 1이다. 그 다음 2번째 부터는 바로 앞 두 피보나치 수의 합이 된다.\n",
        "<br/><br/>\n",
        "이를 식으로 써보면 Fn = Fn-1 + Fn-2 (n ≥ 2)가 된다.\n",
        "<br/><br/>\n",
        "n=17일때 까지 피보나치 수를 써보면 다음과 같다.\n",
        "<br/><br/>\n",
        "0, 1, 1, 2, 3, 5, 8, 13, 21, 34, 55, 89, 144, 233, 377, 610, 987, 1597\n",
        "<br/><br/>\n",
        "n이 주어졌을 때, n번째 피보나치 수를 구하는 프로그램을 작성하시오.\n",
        "<br/>\n",
        "\n",
        "### 입력\n",
        "\n",
        "첫째 줄에 n이 주어진다. n은 20보다 작거나 같은 자연수 또는 0이다.\n",
        "\n",
        "<br/>\n",
        "\n",
        "### 출력\n",
        "\n",
        "첫째 줄에 n번째 피보나치 수를 출력한다.\n",
        "\n",
        "<br/>\n",
        "\n",
        "#### 예제 입력 1 \n",
        "\n",
        "10\n",
        "\n",
        "<br/>\n",
        "\n",
        "#### 예제 출력 1\n",
        "\n",
        "55"
      ]
    },
    {
      "cell_type": "markdown",
      "metadata": {
        "id": "ZbpqQqLd1Eeh"
      },
      "source": [
        "## 나의 풀이"
      ]
    },
    {
      "cell_type": "code",
      "metadata": {
        "colab": {
          "base_uri": "https://localhost:8080/"
        },
        "id": "zYFJin-iI7R5",
        "outputId": "0dd7eb6a-a7ec-4697-f0f6-4c19338b5da6"
      },
      "source": [
        "def fibonacci(n):\n",
        "    if n < 2:\n",
        "        return n\n",
        "    else:\n",
        "        return fibonacci(n-1) + fibonacci(n-2)\n",
        "\n",
        "n = int(input())\n",
        "\n",
        "print(fibonacci(n))"
      ],
      "execution_count": 2,
      "outputs": [
        {
          "output_type": "stream",
          "name": "stdout",
          "text": [
            "10\n",
            "55\n"
          ]
        }
      ]
    }
  ]
}
