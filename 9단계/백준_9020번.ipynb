{
  "nbformat": 4,
  "nbformat_minor": 0,
  "metadata": {
    "colab": {
      "name": "백준 9020번.ipynb",
      "provenance": [],
      "collapsed_sections": [],
      "authorship_tag": "ABX9TyOYYeYTGIxindvTWGm+Vwyh"
    },
    "kernelspec": {
      "name": "python3",
      "display_name": "Python 3"
    },
    "language_info": {
      "name": "python"
    }
  },
  "cells": [
    {
      "cell_type": "markdown",
      "metadata": {
        "id": "ZvL0e96Pk1n3"
      },
      "source": [
        "# 골드바흐의 추측\n",
        "\n",
        "* 단계별 풀이 : 9단계(기본 수학2) - 6단계 9020번 골드바흐의 추측\n",
        "\n",
        "<br/>\n",
        "\n",
        "\n",
        "## 문제\n",
        "\n",
        "1보다 큰 자연수 중에서  1과 자기 자신을 제외한 약수가 없는 자연수를 소수라고 한다. 예를 들어, 5는 1과 5를 제외한 약수가 없기 때문에 소수이다. 하지만, 6은 6 = 2 × 3 이기 때문에 소수가 아니다.\n",
        "<br/><br/>\n",
        "골드바흐의 추측은 유명한 정수론의 미해결 문제로, 2보다 큰 모든 짝수는 두 소수의 합으로 나타낼 수 있다는 것이다. 이러한 수를 골드바흐 수라고 한다. 또, 짝수를 두 소수의 합으로 나타내는 표현을 그 수의 골드바흐 파티션이라고 한다. 예를 들면, 4 = 2 + 2, 6 = 3 + 3, 8 = 3 + 5, 10 = 5 + 5, 12 = 5 + 7, 14 = 3 + 11, 14 = 7 + 7이다. 10000보다 작거나 같은 모든 짝수 n에 대한 골드바흐 파티션은 존재한다.\n",
        "<br/><br/>\n",
        "2보다 큰 짝수 n이 주어졌을 때, n의 골드바흐 파티션을 출력하는 프로그램을 작성하시오. 만약 가능한 n의 골드바흐 파티션이 여러 가지인 경우에는 두 소수의 차이가 가장 작은 것을 출력한다.\n",
        "\n",
        "<br/>\n",
        "\n",
        "### 입력\n",
        "\n",
        "첫째 줄에 테스트 케이스의 개수 T가 주어진다. 각 테스트 케이스는 한 줄로 이루어져 있고 짝수 n이 주어진다.\n",
        "\n",
        "<br/>\n",
        "\n",
        "### 출력\n",
        "\n",
        "각 테스트 케이스에 대해서 주어진 n의 골드바흐 파티션을 출력한다. 출력하는 소수는 작은 것부터 먼저 출력하며, 공백으로 구분한다.\n",
        "\n",
        "<br/>\n",
        "\n",
        "### 제한\n",
        "\n",
        "4 ≤ n ≤ 10,000\n",
        "\n",
        "<br/>\n",
        "\n",
        "#### 예제 입력 1 \n",
        "\n",
        "3<br/>\n",
        "8<br/>\n",
        "10<br/>\n",
        "16\n",
        "\n",
        "<br/>\n",
        "\n",
        "#### 예제 출력 1\n",
        "\n",
        "3 5<br/>\n",
        "5 5<br/>\n",
        "5 11"
      ]
    },
    {
      "cell_type": "markdown",
      "metadata": {
        "id": "Lsp44_sPN0TP"
      },
      "source": [
        "## 다른 사람의 풀이 1\n",
        "\n",
        "[출처](https://yoonsang-it.tistory.com/31)"
      ]
    },
    {
      "cell_type": "code",
      "metadata": {
        "colab": {
          "base_uri": "https://localhost:8080/"
        },
        "id": "S7K2My8C0z3g",
        "outputId": "fa34c657-6f74-4c15-e482-71d2a4398ae6"
      },
      "source": [
        "def Goldbach():\n",
        "    # 앞의 False 2개 : 0, 1은 소수가 아님을 의미\n",
        "    check = [False, False] + [True] * 10000\n",
        "    \n",
        "    '''\n",
        "    2의 배수 -> 2의 2배수인 4부터 2의 배수에 False 대입,\n",
        "    3의 배수 -> 3의 2배수인 6부터 3의 배수에 False 대입,\n",
        "    5의 배수 -> 5의 2배수인 10부터 5의 배수에 False 대입 ...끝까지\n",
        "\n",
        "    제한 : n이 10000 이하이므로\n",
        "           outer loop에선 그 제곱근인 100의 배수까지만 다룸\n",
        "    ''''\n",
        "    for i in range(2, 101):\n",
        "        if check[i]:\n",
        "            for j in range(2*i, 10001, i):\n",
        "                check[j] = False\n",
        "\n",
        "    T = int(input())\n",
        "    for _ in range(T):\n",
        "        n = int(input())\n",
        "        A = n // 2\n",
        "        B = A\n",
        "\n",
        "        # 두 수는 같은 수에서 시작하여 점점 차이가 커지는 방식으로 구함\n",
        "        for _ in range(10000):\n",
        "            if check[A] and check[B]:\n",
        "                print(A, B)\n",
        "                break\n",
        "            A -= 1\n",
        "            B += 1\n",
        "\n",
        "Goldbach()"
      ],
      "execution_count": 12,
      "outputs": [
        {
          "output_type": "stream",
          "name": "stdout",
          "text": [
            "3\n",
            "8\n",
            "3 5\n",
            "10\n",
            "5 5\n",
            "16\n",
            "5 11\n"
          ]
        }
      ]
    },
    {
      "cell_type": "markdown",
      "metadata": {
        "id": "Dy08MRSvc3v_"
      },
      "source": [
        "## 다른 사람의 풀이 2"
      ]
    },
    {
      "cell_type": "code",
      "metadata": {
        "colab": {
          "base_uri": "https://localhost:8080/"
        },
        "id": "OG1vrozic24c",
        "outputId": "cbf0c09c-e842-4a37-8635-ac5c8cf6b2f9"
      },
      "source": [
        "def prime_list(a):\n",
        "    sieve = [True] * (a+1)\n",
        "\n",
        "    checkrange = int((a+1)**0.5)\n",
        "\n",
        "    for i in range(2,checkrange+1):\n",
        "        if sieve[i] == True:\n",
        "            for j in range(i+i,a+1,i):\n",
        "                sieve[j] = False\n",
        "\n",
        "    sieve[0] = False\n",
        "    sieve[1] = False\n",
        "\n",
        "    return sieve\n",
        "\n",
        "lst_sieve = prime_list(10000)\n",
        "\n",
        "T - int(input())\n",
        "\n",
        "for i in range(T):\n",
        "    n = int(input())\n",
        "\n",
        "    for sieve_index_num in range(int(n/2),0,-1): #에라토스테네스의 체에서 입력받은 n의 중간값부터 역순으로 접근.\n",
        "        if lst_sieve[sieve_index_num] == True:#만약 현재 체의 인덱스값이 소수라면\n",
        "            if lst_sieve[n-sieve_index_num] == True: #만약 n-체의 인덱스값도 소수라면\n",
        "                print(sieve_index_num, n-sieve_index_num)\n",
        "                break\n",
        "            else:\n",
        "                continue"
      ],
      "execution_count": 14,
      "outputs": [
        {
          "output_type": "stream",
          "name": "stdout",
          "text": [
            "3\n",
            "8\n",
            "3 5\n",
            "10\n",
            "5 5\n",
            "16\n",
            "5 11\n"
          ]
        }
      ]
    }
  ]
}
