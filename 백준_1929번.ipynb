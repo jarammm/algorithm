{
  "nbformat": 4,
  "nbformat_minor": 0,
  "metadata": {
    "colab": {
      "name": "백준 1929번.ipynb",
      "provenance": [],
      "collapsed_sections": [],
      "authorship_tag": "ABX9TyMWJO7f8NUEK1zTMcdUdmQV"
    },
    "kernelspec": {
      "name": "python3",
      "display_name": "Python 3"
    },
    "language_info": {
      "name": "python"
    }
  },
  "cells": [
    {
      "cell_type": "markdown",
      "metadata": {
        "id": "ZvL0e96Pk1n3"
      },
      "source": [
        "# 소수 구하기\n",
        "\n",
        "* 단계별 풀이 : 9단계(기본 수학2) - 4단계 1929번 소수 \n",
        "\n",
        "<br/>\n",
        "\n",
        "\n",
        "## 문제\n",
        "\n",
        "M이상 N이하의 소수를 모두 출력하는 프로그램을 작성하시오.\n",
        "\n",
        "<br/>\n",
        "\n",
        "### 입력\n",
        "\n",
        "첫째 줄에 자연수 M과 N이 빈 칸을 사이에 두고 주어진다. (1 ≤ M ≤ N ≤ 1,000,000) M이상 N이하의 소수가 하나 이상 있는 입력만 주어진다.\n",
        "\n",
        "<br/>\n",
        "\n",
        "### 출력\n",
        "\n",
        "한 줄에 하나씩, 증가하는 순서대로 소수를 출력한다.\n",
        "\n",
        "<br/>\n",
        "\n",
        "#### 예제 입력 1 \n",
        "\n",
        "3 16\n",
        "\n",
        "<br/>\n",
        "\n",
        "#### 예제 출력 1\n",
        "\n",
        "3<br/>\n",
        "5<br/>\n",
        "7<br/>\n",
        "11<br/>\n",
        "13"
      ]
    },
    {
      "cell_type": "markdown",
      "metadata": {
        "id": "Lsp44_sPN0TP"
      },
      "source": [
        "## 나의 풀이"
      ]
    },
    {
      "cell_type": "code",
      "metadata": {
        "colab": {
          "base_uri": "https://localhost:8080/"
        },
        "id": "gQt5GOf8I-ZI",
        "outputId": "fff7726e-7fde-4c2a-c399-384e9344937a"
      },
      "source": [
        "M, N = map(int, input().split())\n",
        "\n",
        "for i in range(M, N+1):\n",
        "    prime = True\n",
        "    if i == 1:\n",
        "        pass\n",
        "    elif i < 4:\n",
        "        print(i)\n",
        "    elif i % 2 == 0:\n",
        "        pass\n",
        "    else:\n",
        "        for j in range(3, int(i**0.5) + 1, 2):\n",
        "            if i%j == 0:\n",
        "                prime = False\n",
        "                break\n",
        "        if prime:\n",
        "            print(i)"
      ],
      "execution_count": 13,
      "outputs": [
        {
          "output_type": "stream",
          "name": "stdout",
          "text": [
            "1 16\n",
            "2\n",
            "3\n",
            "5\n",
            "7\n",
            "11\n",
            "13\n"
          ]
        }
      ]
    },
    {
      "cell_type": "markdown",
      "metadata": {
        "id": "pNi8iDYsCcso"
      },
      "source": [
        "## 다른 사람 풀이"
      ]
    },
    {
      "cell_type": "code",
      "metadata": {
        "id": "VcSDeAHIBkfd"
      },
      "source": [
        "def isPrime(num):\n",
        "    if num==1:\n",
        "        return False\n",
        "    else:\n",
        "        for i in range(2, int(num**0.5)+1):\n",
        "            if num%i == 0:\n",
        "                return False\n",
        "        return True\n",
        "\n",
        "M, N = map(int, input().split())\n",
        "\n",
        "for i in range(M, N+1):\n",
        "    if isPrime(i):\n",
        "        print(i)"
      ],
      "execution_count": null,
      "outputs": []
    }
  ]
}
