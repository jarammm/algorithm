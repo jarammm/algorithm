{
  "nbformat": 4,
  "nbformat_minor": 0,
  "metadata": {
    "colab": {
      "name": "백준 15649번.ipynb",
      "provenance": [],
      "collapsed_sections": [],
      "authorship_tag": "ABX9TyP+DaQL8hElyO7lem0uIQ+0"
    },
    "kernelspec": {
      "name": "python3",
      "display_name": "Python 3"
    },
    "language_info": {
      "name": "python"
    }
  },
  "cells": [
    {
      "cell_type": "markdown",
      "metadata": {
        "id": "ZvL0e96Pk1n3"
      },
      "source": [
        "# N과 M (1)\n",
        "\n",
        "* 단계별 풀이 : 12단계(정렬) - 1단계 15649번 N과 M (1)\n",
        "> 백트래킹 입문 문제 1\n",
        "\n",
        "<br/>\n",
        "\n",
        "\n",
        "## 문제\n",
        "\n",
        "자연수 N과 M이 주어졌을 때, 아래 조건을 만족하는 길이가 M인 수열을 모두 구하는 프로그램을 작성하시오.\n",
        "* 1부터 N까지 자연수 중에서 중복 없이 M개를 고른 수열\n",
        "\n",
        "<br/>\n",
        "\n",
        "### 입력\n",
        "첫째 줄에 자연수 N과 M이 주어진다. (1 ≤ M ≤ N ≤ 8)\n",
        "### 출력\n",
        "한 줄에 하나씩 문제의 조건을 만족하는 수열을 출력한다. 중복되는 수열을 여러 번 출력하면 안되며, 각 수열은 공백으로 구분해서 출력해야 한다.\n",
        "<br/><br/>\n",
        "수열은 사전 순으로 증가하는 순서로 출력해야 한다.\n",
        "\n",
        "<br/>\n",
        "\n",
        "#### 예제 입력 1 \n",
        "3 1\n",
        "\n",
        "#### 예제 출력 1 \n",
        "1<br/>\n",
        "2<br/>\n",
        "3\n",
        "\n",
        "<br/>\n",
        "\n",
        "#### 예제 입력 2\n",
        "\n",
        "4 2\n",
        "\n",
        "#### 예제 출력 2\n",
        "\n",
        "1 2<br/>\n",
        "1 3<br/>\n",
        "1 4<br/>\n",
        "2 1<br/>\n",
        "2 3<br/>\n",
        "2 4<br/>\n",
        "3 1<br/>\n",
        "3 2<br/>\n",
        "3 4<br/>\n",
        "4 1<br/>\n",
        "4 2<br/>\n",
        "4 3\n"
      ]
    },
    {
      "cell_type": "markdown",
      "metadata": {
        "id": "4YV5aHjxHxk6"
      },
      "source": [
        "## 풀이 1\n",
        "\n",
        "[참고](https://jiwon-coding.tistory.com/21)\n",
        "\n",
        "* 재귀함수 차용"
      ]
    },
    {
      "cell_type": "code",
      "metadata": {
        "colab": {
          "base_uri": "https://localhost:8080/"
        },
        "id": "9ZeTPWv_HxXj",
        "outputId": "281eb7e4-e779-42d2-c32b-b4cc2f97463e"
      },
      "source": [
        "N, M = map(int, input().split())\n",
        "arr = []\n",
        " \n",
        "def dfs():\n",
        "    if len(arr) == M:\n",
        "        print(*arr)\n",
        "        return\n",
        "    \n",
        "    for i in range(1,N+1):\n",
        "        if i not in arr:\n",
        "            arr.append(i)\n",
        "            dfs()\n",
        "            arr.pop()\n",
        " \n",
        "dfs()"
      ],
      "execution_count": 4,
      "outputs": [
        {
          "output_type": "stream",
          "name": "stdout",
          "text": [
            "4 2\n",
            "1 2\n",
            "1 3\n",
            "1 4\n",
            "2 1\n",
            "2 3\n",
            "2 4\n",
            "3 1\n",
            "3 2\n",
            "3 4\n",
            "4 1\n",
            "4 2\n",
            "4 3\n"
          ]
        }
      ]
    },
    {
      "cell_type": "markdown",
      "metadata": {
        "id": "2h2sTg6bOUp0"
      },
      "source": [
        "## 풀이 2\n",
        "\n",
        "[참고](https://leejunggae.tistory.com/19)"
      ]
    },
    {
      "cell_type": "code",
      "metadata": {
        "colab": {
          "base_uri": "https://localhost:8080/"
        },
        "id": "4Q0JUtDpOXbs",
        "outputId": "715c9a81-4559-4938-eb64-2dfd04221c8e"
      },
      "source": [
        "n, m = map(int, input().split())\n",
        "\n",
        "number_list = [1 + i for i in range(n)]   # 숫자 리스트\n",
        "check_number = [False] * n                # 중복숫자 체크\n",
        "array = []                                # 출력할 수열\n",
        " \n",
        "def DFS(x):\n",
        "    if x == m:                            # 수열 m개를 충족할경우 출력\n",
        "            print(*array)            \n",
        "            return\n",
        "            \n",
        "    for i in range(n):\n",
        "        if check_number[i]:               # 중복될 경우 패스\n",
        "            continue\n",
        "\n",
        "        array.append(number_list[i])      # 수열 추가\n",
        "        check_number[i] = True            # 사용한 수 체크\n",
        "\n",
        "        DFS(x + 1)                        # + 1번째 수열을 위해 재귀함수 호출\n",
        "\n",
        "        array.pop()                       # 수열 마지막 자리 삭제\n",
        "        check_number[i] = False           # 사용한 수 초기화\n",
        "DFS(0)"
      ],
      "execution_count": 5,
      "outputs": [
        {
          "output_type": "stream",
          "name": "stdout",
          "text": [
            "4 2\n",
            "1 2\n",
            "1 3\n",
            "1 4\n",
            "2 1\n",
            "2 3\n",
            "2 4\n",
            "3 1\n",
            "3 2\n",
            "3 4\n",
            "4 1\n",
            "4 2\n",
            "4 3\n"
          ]
        }
      ]
    }
  ]
}