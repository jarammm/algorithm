{
  "nbformat": 4,
  "nbformat_minor": 0,
  "metadata": {
    "colab": {
      "name": "백준 9251번.ipynb",
      "provenance": [],
      "collapsed_sections": [],
      "authorship_tag": "ABX9TyNmg52M0TuQosJrj7IxiHPi"
    },
    "kernelspec": {
      "name": "python3",
      "display_name": "Python 3"
    },
    "language_info": {
      "name": "python"
    }
  },
  "cells": [
    {
      "cell_type": "markdown",
      "source": [
        "# LCS\n",
        "\n",
        "* 15단계 동적 계획법1 14단계\n",
        "\n",
        "> LCS(Longest Common Subsequence)를 구하는 문제\n"
      ],
      "metadata": {
        "id": "uDIqQfgjJfSd"
      }
    },
    {
      "cell_type": "markdown",
      "source": [
        "## 문제\n",
        "\n",
        "LCS(Longest Common Subsequence, 최장 공통 부분 수열)문제는 두 수열이 주어졌을 때, 모두의 부분 수열이 되는 수열 중 가장 긴 것을 찾는 문제이다.\n",
        "<br/><br/>\n",
        "예를 들어, ACAYKP와 CAPCAK의 LCS는 ACAK가 된다."
      ],
      "metadata": {
        "id": "cd1eJqSPx4n8"
      }
    },
    {
      "cell_type": "markdown",
      "source": [
        "## 입력\n",
        "\n",
        "첫째 줄과 둘째 줄에 두 문자열이 주어진다. 문자열은 알파벳 대문자로만 이루어져 있으며, 최대 1000글자로 이루어져 있다."
      ],
      "metadata": {
        "id": "CYD7pNZVyF3d"
      }
    },
    {
      "cell_type": "markdown",
      "source": [
        "## 출력\n",
        "\n",
        "첫째 줄에 입력으로 주어진 두 문자열의 LCS의 길이를 출력한다."
      ],
      "metadata": {
        "id": "NHx8_pCJyJ3s"
      }
    },
    {
      "cell_type": "markdown",
      "source": [
        "### 예제 입력 1 \n",
        "\n",
        "ACAYKP<br/>\n",
        "CAPCAK"
      ],
      "metadata": {
        "id": "j1ffeVtPyM7y"
      }
    },
    {
      "cell_type": "markdown",
      "source": [
        "### 예제 출력 1\n",
        "\n",
        "4"
      ],
      "metadata": {
        "id": "TTa6AHazyWA5"
      }
    },
    {
      "cell_type": "markdown",
      "source": [
        "## 코드"
      ],
      "metadata": {
        "id": "9MWVG0NuyYXo"
      }
    },
    {
      "cell_type": "code",
      "source": [
        "def lcs(m, n):  # m: length of x, n: length of y\n",
        "    for i in range(1, m+1):\n",
        "        for j in range(1, n+1):\n",
        "            if x[i-1] == y[j-1]:\n",
        "                dp[i][j] = dp[i - 1][j - 1] + 1\n",
        "            else:\n",
        "                dp[i][j] = max(dp[i - 1][j], dp[i][j - 1])\n",
        "    return dp[m][n]\n",
        "\n",
        "\n",
        "dp = []\n",
        "x = input()\n",
        "y = input()\n",
        "Y = [0]*(len(y) + 1)\n",
        "\n",
        "for i in range(len(x)+1):\n",
        "    dp.append(Y[:])  # dp.append(Y)하면 안됨! 주소 참조되어버림\n",
        "\n",
        "ans = lcs(len(x), len(y))\n",
        "print(ans)\n",
        "\n",
        "\n",
        "# ACAYKP\n",
        "# CAPCAK\n",
        "# 4"
      ],
      "metadata": {
        "id": "Mvql1GJXCLjU",
        "colab": {
          "base_uri": "https://localhost:8080/"
        },
        "outputId": "ce101ef8-d1c4-4fa6-eab6-670990c018d8"
      },
      "execution_count": 1,
      "outputs": [
        {
          "output_type": "stream",
          "name": "stdout",
          "text": [
            "ACAYKP\n",
            "CAPCAK\n",
            "4\n"
          ]
        }
      ]
    }
  ]
}