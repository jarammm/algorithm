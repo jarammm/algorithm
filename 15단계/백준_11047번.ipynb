{
  "nbformat": 4,
  "nbformat_minor": 0,
  "metadata": {
    "colab": {
      "name": "백준_11047번.ipynb",
      "provenance": [],
      "collapsed_sections": [],
      "authorship_tag": "ABX9TyOaYA3qBgp/hvNF/mVQyEi+"
    },
    "kernelspec": {
      "name": "python3",
      "display_name": "Python 3"
    },
    "language_info": {
      "name": "python"
    }
  },
  "cells": [
    {
      "cell_type": "markdown",
      "source": [
        "# 동전 0\n",
        "\n",
        "* 15단계 그리디 알고리즘 - 1단계\n",
        "* 동전의 조건이 특별해서 동적 프로그래밍보다 빠르게 답을 찾을 수 있는 문제"
      ],
      "metadata": {
        "id": "NfbTYwi1kFIA"
      }
    },
    {
      "cell_type": "markdown",
      "source": [
        "## 문제\n",
        "\n",
        "준규가 가지고 있는 동전은 총 N종류이고, 각각의 동전을 매우 많이 가지고 있다.\n",
        "<br/><br/>\n",
        "동전을 적절히 사용해서 그 가치의 합을 K로 만들려고 한다. 이때 필요한 동전 개수의 최솟값을 구하는 프로그램을 작성하시오."
      ],
      "metadata": {
        "id": "ihC4sBOBkeuL"
      }
    },
    {
      "cell_type": "markdown",
      "source": [
        "## 입력\n",
        "\n",
        "첫째 줄에 N과 K가 주어진다. (1 ≤ N ≤ 10, 1 ≤ K ≤ 100,000,000)\n",
        "<br/><br/>\n",
        "둘째 줄부터 N개의 줄에 동전의 가치 $A_{i}$가 오름차순으로 주어진다. (1 ≤ $A_{i}$ ≤ 1,000,000,  $A_{1}$ = 1, i ≥ 2인 경우에  $A_{i}$는  $A_{i-1}$의 배수)"
      ],
      "metadata": {
        "id": "9QIemaaYkm_F"
      }
    },
    {
      "cell_type": "markdown",
      "source": [
        "## 출력\n",
        "\n",
        "첫째 줄에 K원을 만드는데 필요한 동전 개수의 최솟값을 출력한다."
      ],
      "metadata": {
        "id": "65xg3vWilC1l"
      }
    },
    {
      "cell_type": "markdown",
      "source": [
        "### 예제 입력 1\n",
        "\n",
        "10 4200<br/>\n",
        "1<br/>\n",
        "5<br/>\n",
        "10<br/>\n",
        "50<br/>\n",
        "100<br/>\n",
        "500<br/>\n",
        "1000<br/>\n",
        "5000<br/>\n",
        "10000<br/>\n",
        "50000"
      ],
      "metadata": {
        "id": "eYusZSOgkro3"
      }
    },
    {
      "cell_type": "markdown",
      "source": [
        "### 예제 출력 1\n",
        "\n",
        "6"
      ],
      "metadata": {
        "id": "BK5u_RvplFot"
      }
    },
    {
      "cell_type": "markdown",
      "source": [
        "### 예제 입력 2\n",
        "\n",
        "10 4790<br/>\n",
        "1<br/>\n",
        "5<br/>\n",
        "10<br/>\n",
        "50<br/>\n",
        "100<br/>\n",
        "500<br/>\n",
        "1000<br/>\n",
        "5000<br/>\n",
        "10000<br/>\n",
        "50000"
      ],
      "metadata": {
        "id": "kqmaMiLEqErW"
      }
    },
    {
      "cell_type": "markdown",
      "source": [
        "### 예제 출력 2\n",
        "\n",
        "12"
      ],
      "metadata": {
        "id": "uFLTgNeiqXYi"
      }
    },
    {
      "cell_type": "markdown",
      "source": [
        "## 제출 코드"
      ],
      "metadata": {
        "id": "X2GHyaJtlJs-"
      }
    },
    {
      "cell_type": "code",
      "source": [
        "n, k = map(int, input().split())\n",
        "coins = []\n",
        "cnt = 0\n",
        "for _ in range(n):\n",
        "    coins.append(int(input()))\n",
        "\n",
        "coins.sort(reverse=True)\n",
        "\n",
        "for i in coins:\n",
        "    if i <= k:\n",
        "        cnt += (k // i)\n",
        "        k %= i\n",
        "    if k == 0:\n",
        "        break\n",
        "\n",
        "print(cnt)"
      ],
      "metadata": {
        "colab": {
          "base_uri": "https://localhost:8080/"
        },
        "id": "-6pS8okZqnJW",
        "outputId": "c37566e0-c5cd-416f-9b05-b95d0a836135"
      },
      "execution_count": null,
      "outputs": [
        {
          "output_type": "stream",
          "name": "stdout",
          "text": [
            "10 4200\n",
            "1\n",
            "5\n",
            "10\n",
            "50\n",
            "100\n",
            "500\n",
            "1000\n",
            "5000\n",
            "10000\n",
            "50000\n",
            "6\n"
          ]
        }
      ]
    },
    {
      "cell_type": "code",
      "source": [
        "# 10 4200\n",
        "# 1\n",
        "# 5\n",
        "# 10\n",
        "# 50\n",
        "# 100\n",
        "# 500\n",
        "# 1000\n",
        "# 5000\n",
        "# 10000\n",
        "# 50000"
      ],
      "metadata": {
        "id": "NuKkRJwovw10"
      },
      "execution_count": null,
      "outputs": []
    }
  ]
}