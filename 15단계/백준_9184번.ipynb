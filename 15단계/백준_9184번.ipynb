{
  "nbformat": 4,
  "nbformat_minor": 0,
  "metadata": {
    "colab": {
      "name": "백준 9184번.ipynb",
      "provenance": [],
      "collapsed_sections": [],
      "authorship_tag": "ABX9TyN2Fo6J74+XCR4pBnJ3IBtx"
    },
    "kernelspec": {
      "name": "python3",
      "display_name": "Python 3"
    },
    "language_info": {
      "name": "python"
    }
  },
  "cells": [
    {
      "cell_type": "markdown",
      "source": [
        "# 신나는 함수 실행\n",
        "\n",
        "> 15단계 동적 계획법1 > 2단계 9184번 신나는 함수 실행\n",
        "\n",
        "\n",
        "재귀 호출만 생각하면 신이 난다! 아닌가요?\n",
        "\n",
        "다음과 같은 재귀함수 w(a, b, c)가 있다.\n",
        "\n",
        "```\n",
        "if a <= 0 or b <= 0 or c <= 0, then w(a, b, c) returns:\n",
        "    1\n",
        "\n",
        "if a > 20 or b > 20 or c > 20, then w(a, b, c) returns:\n",
        "    w(20, 20, 20)\n",
        "\n",
        "if a < b and b < c, then w(a, b, c) returns:\n",
        "    w(a, b, c-1) + w(a, b-1, c-1) - w(a, b-1, c)\n",
        "\n",
        "otherwise it returns:\n",
        "    w(a-1, b, c) + w(a-1, b-1, c) + w(a-1, b, c-1) - w(a-1, b-1, c-1)\n",
        "```\n",
        "\n",
        "위의 함수를 구현하는 것은 매우 쉽다. 하지만, 그대로 구현하면 값을 구하는데 매우 오랜 시간이 걸린다. (예를 들면, a=15, b=15, c=15)\n",
        "\n",
        "a, b, c가 주어졌을 때, w(a, b, c)를 출력하는 프로그램을 작성하시오."
      ],
      "metadata": {
        "id": "-uEGNZ852jh4"
      }
    },
    {
      "cell_type": "markdown",
      "source": [
        "## 입출력\n",
        "\n",
        "<br/>\n",
        "\n",
        "### 입력\n",
        "입력은 세 정수 a, b, c로 이루어져 있으며, 한 줄에 하나씩 주어진다. 입력의 마지막은 -1 -1 -1로 나타내며, 세 정수가 모두 -1인 경우는 입력의 마지막을 제외하면 없다.\n",
        "\n",
        "### 출력\n",
        "입력으로 주어진 각각의 a, b, c에 대해서, w(a, b, c)를 출력한다.\n",
        "\n",
        "### 제한\n",
        "-50 ≤ a, b, c ≤ 50\n",
        "\n",
        "### 예시\n",
        "\n",
        "|입력|출력|\n",
        "|--|--|\n",
        "|1 1 1|w(1, 1, 1) = 2|\n",
        "|2 2 2|w(2, 2, 2) = 4|\n",
        "|10 4 6|w(10, 4, 6) = 523|\n",
        "|50 50 50|w(50, 50, 50) = 1048576|\n",
        "|-1 7 18|w(-1, 7, 18) = 1|\n",
        "|-1 -1 -1|(코드 완료)|\n"
      ],
      "metadata": {
        "id": "AhBvrgEKyUyN"
      }
    },
    {
      "cell_type": "markdown",
      "source": [
        "## 풀이\n",
        "\n",
        "> tabulation 이용"
      ],
      "metadata": {
        "id": "QiX8UWFK4rJu"
      }
    },
    {
      "cell_type": "code",
      "source": [
        "dp = [[[0]*21 for _ in range(21)] for _ in range(21)]\n",
        "\n",
        "def w(a, b, c):\n",
        "    if a <= 0 or b <= 0 or c <= 0:\n",
        "        return 1\n",
        "    elif a > 20 or b > 20 or c > 20:\n",
        "        return w(20, 20, 20)\n",
        "\n",
        "    for i in range(a+1):\n",
        "        for j in range(b+1):\n",
        "            for k in range(c+1):\n",
        "                if i == 0 or j == 0 or k == 0:\n",
        "                    dp[i][j][k] = 1\n",
        "                elif i < j < k:\n",
        "                    dp[i][j][k] = dp[i][j][k-1] + dp[i][j-1][k-1] - dp[i][j-1][k]\n",
        "                else:\n",
        "                    dp[i][j][k] = dp[i-1][j][k] + dp[i-1][j-1][k] + dp[i-1][j][k-1] - dp[i-1][j-1][k-1]\n",
        "    return dp[a][b][c]"
      ],
      "metadata": {
        "id": "MchAIAnlqNW2"
      },
      "execution_count": 13,
      "outputs": []
    },
    {
      "cell_type": "code",
      "source": [
        "while True:\n",
        "    a, b, c = map(int, input().split())\n",
        "    if a == -1 and b == -1 and c == -1:\n",
        "        break\n",
        "    print(f'w({a}, {b}, {c}) = {w(a, b, c)}')"
      ],
      "metadata": {
        "id": "zL_sBu9uo5Yd",
        "colab": {
          "base_uri": "https://localhost:8080/"
        },
        "outputId": "7fcc7a81-4551-4898-e3a2-f0d7f240a423"
      },
      "execution_count": 14,
      "outputs": [
        {
          "name": "stdout",
          "output_type": "stream",
          "text": [
            "50 50 50\n",
            "w(50, 50, 50) = 1048576\n",
            "-1 7 18\n",
            "w(-1, 7, 18) = 1\n",
            "1 1 1\n",
            "w(1, 1, 1) = 2\n",
            "2 2 2\n",
            "w(2, 2, 2) = 4\n",
            "10 4 6\n",
            "w(10, 4, 6) = 523\n",
            "-1 -1 -1\n"
          ]
        }
      ]
    },
    {
      "cell_type": "markdown",
      "source": [
        "## 완성 코드\n",
        "\n",
        "> tabulation 방식\n",
        "\n",
        "1. 메모리 : 30864KB\n",
        "2. 시간 : 96ms"
      ],
      "metadata": {
        "id": "1Vmh_pAR40Tg"
      }
    },
    {
      "cell_type": "code",
      "source": [
        "# import sys\n",
        "# input = sys.stdin.readline\n",
        "\n",
        "dp = [[[0]*21 for _ in range(21)] for _ in range(21)]\n",
        "\n",
        "def w(a, b, c):\n",
        "    if a <= 0 or b <= 0 or c <= 0:\n",
        "        return 1\n",
        "    if a > 20 or b > 20 or c > 20:\n",
        "        return w(20, 20, 20)\n",
        "    if dp[a][b][c]:\n",
        "        return dp[a][b][c]\n",
        "    \n",
        "    for i in range(a+1):\n",
        "        for j in range(b+1):\n",
        "            for k in range(c+1):\n",
        "                if i == 0 or j == 0 or k == 0:\n",
        "                    dp[i][j][k] = 1\n",
        "                elif i < j < k:\n",
        "                    dp[i][j][k] = dp[i][j][k-1] + dp[i][j-1][k-1] - dp[i][j-1][k]\n",
        "                else:\n",
        "                    dp[i][j][k] = dp[i-1][j][k] + dp[i-1][j-1][k] + dp[i-1][j][k-1] - dp[i-1][j-1][k-1]\n",
        "    return dp[a][b][c]\n",
        "\n",
        "while True:\n",
        "    a, b, c = map(int, input().split())\n",
        "    if a == -1 and b == -1 and c == -1:\n",
        "        break\n",
        "    print(f'w({a}, {b}, {c}) = {w(a, b, c)}')"
      ],
      "metadata": {
        "colab": {
          "base_uri": "https://localhost:8080/"
        },
        "id": "GD4QxTjT11DR",
        "outputId": "7743fb19-7bf6-4aef-8f47-24468936dbdf"
      },
      "execution_count": 2,
      "outputs": [
        {
          "name": "stdout",
          "output_type": "stream",
          "text": [
            "50 50 50\n",
            "w(50, 50, 50) = 1048576\n",
            "-1 -1 -1\n"
          ]
        }
      ]
    },
    {
      "cell_type": "markdown",
      "source": [
        "## 다른 코드\n",
        "\n",
        "> memoization 방식\n",
        "\n",
        "1. 메모리 : 30860KB\n",
        "2. 시간 : 100ms"
      ],
      "metadata": {
        "id": "-2zhTTqg45dg"
      }
    },
    {
      "cell_type": "code",
      "source": [
        "# import sys\n",
        "# input = sys.stdin.readline\n",
        "\n",
        "dp = [[[0]*21 for _ in range(21)] for _ in range(21)]\n",
        "\n",
        "def w(a, b, c):\n",
        "    if a <= 0 or b <= 0 or c <= 0:\n",
        "        return 1\n",
        "    elif a > 20 or b > 20 or c > 20:\n",
        "        return w(20, 20, 20)\n",
        "    elif dp[a][b][c]:\n",
        "        return dp[a][b][c]\n",
        "    elif a < b < c:\n",
        "        dp[a][b][c] = w(a, b, c-1) + w(a, b-1, c-1) - w(a, b-1, c)\n",
        "        return dp[a][b][c]\n",
        "    else:\n",
        "        dp[a][b][c] = w(a-1, b, c) + w(a-1, b-1, c) + w(a-1, b, c-1) - w(a-1, b-1, c-1)\n",
        "        return dp[a][b][c]\n",
        "\n",
        "while True:\n",
        "    a, b, c = map(int, input().split())\n",
        "    if a == -1 and b == -1 and c == -1:\n",
        "        break\n",
        "    print(f'w({a}, {b}, {c}) = {w(a, b, c)}')"
      ],
      "metadata": {
        "id": "j-8PdjN9n7m1",
        "colab": {
          "base_uri": "https://localhost:8080/"
        },
        "outputId": "00aad9e9-2a43-4e14-fd5d-51ee44a01e3e"
      },
      "execution_count": 6,
      "outputs": [
        {
          "name": "stdout",
          "output_type": "stream",
          "text": [
            "50 50 50\n",
            "w(50, 50, 50) = 1048576\n",
            "-1 -1 -1\n"
          ]
        }
      ]
    },
    {
      "cell_type": "markdown",
      "source": [
        "## 정리\n",
        "\n",
        "> 가장 큰 값을 구할 때 - w(20, 20, 20)\n",
        "\n",
        "* tabulation : 9261번 계산(21\\*21\\*21)\n",
        "* memoization : 6391번 계산\n",
        "\n",
        "> 전반적인 효율\n",
        "\n",
        " * 메모리 : memoization이 더 좋음\n",
        " * 시간 : tabulation이 더 좋음\n",
        " * 결론 - (해당 문제에 한하여)큰 차이는 없음"
      ],
      "metadata": {
        "id": "-y9RrJbrb4TS"
      }
    }
  ]
}