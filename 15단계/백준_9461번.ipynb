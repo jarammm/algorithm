{
  "nbformat": 4,
  "nbformat_minor": 0,
  "metadata": {
    "colab": {
      "name": "백준_9461번.ipynb",
      "provenance": [],
      "collapsed_sections": [],
      "authorship_tag": "ABX9TyPp++32T7EOFIDvq3a55kxZ"
    },
    "kernelspec": {
      "name": "python3",
      "display_name": "Python 3"
    },
    "language_info": {
      "name": "python"
    }
  },
  "cells": [
    {
      "cell_type": "markdown",
      "source": [
        "# 파도반 수열\n",
        "\n",
        "* 단계 : 15단계 동적 계획법 1 > 4단계 9461번 파도반 수열\n",
        "\n",
        "> 피보나치 수와 비슷한 규칙을 찾아 동적 계획법으로 푸는 문제"
      ],
      "metadata": {
        "id": "NfbTYwi1kFIA"
      }
    },
    {
      "cell_type": "markdown",
      "source": [
        "## 문제\n",
        "\n",
        "오른쪽 그림과 같이 삼각형이 나선 모양으로 놓여져 있다. 첫 삼각형은 정삼각형으로 변의 길이는 1이다. 그 다음에는 다음과 같은 과정으로 정삼각형을 계속 추가한다. 나선에서 가장 긴 변의 길이를 k라 했을 때, 그 변에 길이가 k인 정삼각형을 추가한다.\n",
        "<br/><br/>\n",
        "파도반 수열 P(N)은 나선에 있는 정삼각형의 변의 길이이다. P(1)부터 P(10)까지 첫 10개 숫자는 1, 1, 1, 2, 2, 3, 4, 5, 7, 9이다.\n",
        "<br/><br/>\n",
        "N이 주어졌을 때, P(N)을 구하는 프로그램을 작성하시오."
      ],
      "metadata": {
        "id": "ihC4sBOBkeuL"
      }
    },
    {
      "cell_type": "markdown",
      "source": [
        "## 입력\n",
        "\n",
        "첫째 줄에 테스트 케이스의 개수 T가 주어진다. 각 테스트 케이스는 한 줄로 이루어져 있고, N이 주어진다. (1 ≤ N ≤ 100)"
      ],
      "metadata": {
        "id": "9QIemaaYkm_F"
      }
    },
    {
      "cell_type": "markdown",
      "source": [
        "## 출력\n",
        "\n",
        "각 테스트 케이스마다 P(N)을 출력한다."
      ],
      "metadata": {
        "id": "65xg3vWilC1l"
      }
    },
    {
      "cell_type": "markdown",
      "source": [
        "### 예제 입력\n",
        "\n",
        "2<br/>\n",
        "6<br/>\n",
        "12"
      ],
      "metadata": {
        "id": "eYusZSOgkro3"
      }
    },
    {
      "cell_type": "markdown",
      "source": [
        "### 예제 출력\n",
        "\n",
        "3<br/>\n",
        "16"
      ],
      "metadata": {
        "id": "BK5u_RvplFot"
      }
    },
    {
      "cell_type": "markdown",
      "source": [
        "## 제출 코드"
      ],
      "metadata": {
        "id": "X2GHyaJtlJs-"
      }
    },
    {
      "cell_type": "code",
      "source": [
        "T = int(input())\n",
        " \n",
        "dp = [1,1,1,2,2]\n",
        "\n",
        "for _ in range(T):\n",
        "    N = int(input())\n",
        "    for i in range(len(dp), N):\n",
        "        dp.append(dp[i-1] + dp[i-5])\n",
        "    print(dp[N-1])"
      ],
      "metadata": {
        "colab": {
          "base_uri": "https://localhost:8080/"
        },
        "id": "MjIvgEi5iZFz",
        "outputId": "26079166-8972-41c7-e152-74083a753dc7"
      },
      "execution_count": 1,
      "outputs": [
        {
          "output_type": "stream",
          "name": "stdout",
          "text": [
            "2\n",
            "6\n",
            "3\n",
            "12\n",
            "16\n"
          ]
        }
      ]
    }
  ]
}