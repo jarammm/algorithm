{
  "nbformat": 4,
  "nbformat_minor": 0,
  "metadata": {
    "colab": {
      "name": "백준_1904번.ipynb",
      "provenance": [],
      "collapsed_sections": [],
      "authorship_tag": "ABX9TyMCY6uCjeZnjT6uM1BBlJIv"
    },
    "kernelspec": {
      "name": "python3",
      "display_name": "Python 3"
    },
    "language_info": {
      "name": "python"
    }
  },
  "cells": [
    {
      "cell_type": "markdown",
      "source": [
        "# 1904번 01타일\n",
        "\n",
        "* 단계 : 15단계 동적 계획법 1 - 3단계\n",
        "* 점화식의 값을 특정 상수로 나눈 나머지를 구하는 문제\n"
      ],
      "metadata": {
        "id": "6uPV6SeRA8tK"
      }
    },
    {
      "cell_type": "markdown",
      "source": [
        "## 문제\n",
        "지원이에게 2진 수열을 가르쳐 주기 위해, 지원이 아버지는 그에게 타일들을 선물해주셨다. 그리고 이 각각의 타일들은 0 또는 1이 쓰여 있는 낱장의 타일들이다.\n",
        "<br/>\n",
        "어느 날 짓궂은 동주가 지원이의 공부를 방해하기 위해 0이 쓰여진 낱장의 타일들을 붙여서 한 쌍으로 이루어진 00 타일들을 만들었다. 결국 현재 1 하나만으로 이루어진 타일 또는 0타일을 두 개 붙인 한 쌍의 00타일들만이 남게 되었다.\n",
        "<br/>\n",
        "그러므로 지원이는 타일로 더 이상 크기가 N인 모든 2진 수열을 만들 수 없게 되었다. 예를 들어, N=1일 때 1만 만들 수 있고, N=2일 때는 00, 11을 만들 수 있다. (01, 10은 만들 수 없게 되었다.) 또한 N=4일 때는 0011, 0000, 1001, 1100, 1111 등 총 5개의 2진 수열을 만들 수 있다.\n",
        "<br/>\n",
        "우리의 목표는 N이 주어졌을 때 지원이가 만들 수 있는 모든 가짓수를 세는 것이다. 단 타일들은 무한히 많은 것으로 가정하자.\n",
        "<br/><br/>\n",
        "\n",
        "### 입력\n",
        "첫 번째 줄에 자연수 N이 주어진다. (1 ≤ N ≤ 1,000,000)\n",
        "\n",
        "### 출력\n",
        "첫 번째 줄에 지원이가 만들 수 있는 길이가 N인 모든 2진 수열의 개수를 15746으로 나눈 나머지를 출력한다.\n",
        "<br/><br/>\n",
        "\n",
        "#### 예제 입력 1 \n",
        "4\n",
        "#### 예제 출력 1 \n",
        "5"
      ],
      "metadata": {
        "id": "P6SBzciTCE6s"
      }
    },
    {
      "cell_type": "markdown",
      "source": [
        "## 풀이 1"
      ],
      "metadata": {
        "id": "LlfNWv2iCVSg"
      }
    },
    {
      "cell_type": "code",
      "source": [
        "n = int(input())\n",
        "if n < 4:\n",
        "    print(n)\n",
        "else:\n",
        "    lst = [0]*(n+1)\n",
        "    lst[:4] = [0,1,2,3]\n",
        "    for i in range(4,n+1):\n",
        "        lst[i] = (lst[i-1] + lst[i-2])%15746\n",
        "    print(lst[n])"
      ],
      "metadata": {
        "colab": {
          "base_uri": "https://localhost:8080/"
        },
        "id": "UdYOGrRMtvht",
        "outputId": "f24231e2-8d5f-4771-c800-285b3a318222"
      },
      "execution_count": 2,
      "outputs": [
        {
          "output_type": "stream",
          "name": "stdout",
          "text": [
            "5\n",
            "8\n"
          ]
        }
      ]
    },
    {
      "cell_type": "markdown",
      "source": [
        "## 풀이 2\n",
        "\n",
        "> 코드가 더 간결 + 2배 시간 단축"
      ],
      "metadata": {
        "id": "h3fbJdP95jxm"
      }
    },
    {
      "cell_type": "code",
      "source": [
        "s, b = 1, 2    # s, b = smaller, bigger\n",
        "k = 2          # b가 길이 n일 때의 정답인지 체크하는 변수. 2로 초기화.\n",
        "n = int(input())\n",
        "\n",
        "if n < 3:\n",
        "    print(n)\n",
        "else:\n",
        "    while k < n:\n",
        "        s, b = b, (s+b)%15746\n",
        "        k += 1\n",
        "    print(b)"
      ],
      "metadata": {
        "colab": {
          "base_uri": "https://localhost:8080/"
        },
        "id": "YIGRzqAw8jfh",
        "outputId": "46a8f6fa-31f0-4962-d254-63e54d48f5b3"
      },
      "execution_count": 1,
      "outputs": [
        {
          "output_type": "stream",
          "name": "stdout",
          "text": [
            "5\n",
            "8\n"
          ]
        }
      ]
    }
  ]
}