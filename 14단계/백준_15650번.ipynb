{
  "nbformat": 4,
  "nbformat_minor": 0,
  "metadata": {
    "colab": {
      "name": "백준 15650번.ipynb",
      "provenance": [],
      "collapsed_sections": [],
      "authorship_tag": "ABX9TyPQbF6zCpautQPQeap191sb"
    },
    "kernelspec": {
      "name": "python3",
      "display_name": "Python 3"
    },
    "language_info": {
      "name": "python"
    }
  },
  "cells": [
    {
      "cell_type": "markdown",
      "metadata": {
        "id": "ZvL0e96Pk1n3"
      },
      "source": [
        "# N과 M (2)\n",
        "\n",
        "* 단계별 풀이 : 14단계(백트래킹) - 2단계 15650번 N과 M (2)\n",
        "> 백트래킹 입문 문제 2\n",
        "\n",
        "<br/>\n",
        "\n",
        "\n",
        "## 문제\n",
        "\n",
        "자연수 N과 M이 주어졌을 때, 아래 조건을 만족하는 길이가 M인 수열을 모두 구하는 프로그램을 작성하시오.\n",
        "<br/><br/>\n",
        "1부터 N까지 자연수 중에서 중복 없이 M개를 고른 수열\n",
        "고른 수열은 오름차순이어야 한다.\n",
        "\n",
        "<br/>\n",
        "\n",
        "### 입력\n",
        "첫째 줄에 자연수 N과 M이 주어진다. (1 ≤ M ≤ N ≤ 8)\n",
        "### 출력\n",
        "한 줄에 하나씩 문제의 조건을 만족하는 수열을 출력한다. 중복되는 수열을 여러 번 출력하면 안되며, 각 수열은 공백으로 구분해서 출력해야 한다.\n",
        "<br/><br/>\n",
        "수열은 사전 순으로 증가하는 순서로 출력해야 한다.\n",
        "\n",
        "<br/>\n",
        "\n",
        "#### 예제 입력 1 \n",
        "3 1\n",
        "\n",
        "#### 예제 출력 1 \n",
        "1<br/>\n",
        "2<br/>\n",
        "3\n",
        "\n",
        "<br/>\n",
        "\n",
        "#### 예제 입력 2\n",
        "\n",
        "4 2\n",
        "\n",
        "#### 예제 출력 2\n",
        "\n",
        "1 2<br/>\n",
        "1 3<br/>\n",
        "1 4<br/>\n",
        "2 3<br/>\n",
        "2 4<br/>\n",
        "3 4\n"
      ]
    },
    {
      "cell_type": "markdown",
      "metadata": {
        "id": "4YV5aHjxHxk6"
      },
      "source": [
        "## 나의 풀이"
      ]
    },
    {
      "cell_type": "code",
      "metadata": {
        "colab": {
          "base_uri": "https://localhost:8080/"
        },
        "id": "9ZeTPWv_HxXj",
        "outputId": "db6539f8-152c-4bb8-ccbf-7e9dca677aa0"
      },
      "source": [
        "N, M = map(int, input().split())\n",
        "arr = []\n",
        "s = 0\n",
        "def dfs():\n",
        "    global s\n",
        "    if len(arr) == M:\n",
        "        print(*arr)\n",
        "        return\n",
        "        \n",
        "    for i in range(s+1,N+1):\n",
        "        if i not in arr:\n",
        "            arr.append(i)\n",
        "            s = i\n",
        "            dfs()\n",
        "            arr.pop()\n",
        " \n",
        "dfs()"
      ],
      "execution_count": 3,
      "outputs": [
        {
          "output_type": "stream",
          "name": "stdout",
          "text": [
            "4 2\n",
            "1 2\n",
            "1 3\n",
            "1 4\n",
            "2 3\n",
            "2 4\n",
            "3 4\n"
          ]
        }
      ]
    }
  ]
}
