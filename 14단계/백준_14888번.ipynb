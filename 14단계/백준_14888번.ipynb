{
  "nbformat": 4,
  "nbformat_minor": 0,
  "metadata": {
    "colab": {
      "name": "백준 14888번.ipynb",
      "provenance": [],
      "collapsed_sections": [],
      "authorship_tag": "ABX9TyNNH32l6M5y76JJF+OdCeIv"
    },
    "kernelspec": {
      "name": "python3",
      "display_name": "Python 3"
    },
    "language_info": {
      "name": "python"
    }
  },
  "cells": [
    {
      "cell_type": "markdown",
      "metadata": {
        "id": "ye2uw2qVk3Qx"
      },
      "source": [
        "# 연산자 끼워넣기\n",
        "\n",
        "* 단계별 풀이 : 14단계(백트래킹) - 7단계 14888번 연산자 끼워넣기\n",
        "> 삼성 SW 역량 테스트 기출 문제 1\n",
        "\n",
        "<br/>\n",
        "\n",
        "\n",
        "## 문제\n",
        "\n",
        "N개의 수로 이루어진 수열 A1, A2, ..., AN이 주어진다. 또, 수와 수 사이에 끼워넣을 수 있는 N-1개의 연산자가 주어진다. 연산자는 덧셈(+), 뺄셈(-), 곱셈(×), 나눗셈(÷)으로만 이루어져 있다.\n",
        "<br/><br/>\n",
        "우리는 수와 수 사이에 연산자를 하나씩 넣어서, 수식을 하나 만들 수 있다. 이때, 주어진 수의 순서를 바꾸면 안 된다.\n",
        "<br/><br/>\n",
        "예를 들어, 6개의 수로 이루어진 수열이 1, 2, 3, 4, 5, 6이고, 주어진 연산자가 덧셈(+) 2개, 뺄셈(-) 1개, 곱셈(×) 1개, 나눗셈(÷) 1개인 경우에는 총 60가지의 식을 만들 수 있다. 예를 들어, 아래와 같은 식을 만들 수 있다.\n",
        "<br/><br/>\n",
        "\n",
        "* 1+2+3-4×5÷6\n",
        "* 1÷2+3+4-5×6\n",
        "* 1+2÷3×4-5+6\n",
        "* 1÷2×3-4+5+6\n",
        "\n",
        "<br/>\n",
        "식의 계산은 연산자 우선 순위를 무시하고 앞에서부터 진행해야 한다. 또, 나눗셈은 정수 나눗셈으로 몫만 취한다. 음수를 양수로 나눌 때는 C++14의 기준을 따른다. 즉, 양수로 바꾼 뒤 몫을 취하고, 그 몫을 음수로 바꾼 것과 같다. 이에 따라서, 위의 식 4개의 결과를 계산해보면 아래와 같다.\n",
        "<br/><br/>\n",
        "\n",
        "* 1+2+3-4×5÷6 = 1\n",
        "* 1÷2+3+4-5×6 = 12\n",
        "* 1+2÷3×4-5+6 = 5\n",
        "* 1÷2×3-4+5+6 = 7\n",
        "\n",
        "<br/>\n",
        "N개의 수와 N-1개의 연산자가 주어졌을 때, 만들 수 있는 식의 결과가 최대인 것과 최소인 것을 구하는 프로그램을 작성하시오.\n",
        "\n",
        "<br/>\n",
        "\n",
        "### 입력\n",
        "첫째 줄에 수의 개수 N(2 ≤ N ≤ 11)가 주어진다. 둘째 줄에는 A1, A2, ..., AN이 주어진다. (1 ≤ Ai ≤ 100) 셋째 줄에는 합이 N-1인 4개의 정수가 주어지는데, 차례대로 덧셈(+)의 개수, 뺄셈(-)의 개수, 곱셈(×)의 개수, 나눗셈(÷)의 개수이다. \n",
        "\n",
        "### 출력\n",
        "첫째 줄에 만들 수 있는 식의 결과의 최댓값을, 둘째 줄에는 최솟값을 출력한다. 연산자를 어떻게 끼워넣어도 항상 -10억보다 크거나 같고, 10억보다 작거나 같은 결과가 나오는 입력만 주어진다. 또한, 앞에서부터 계산했을 때, 중간에 계산되는 식의 결과도 항상 -10억보다 크거나 같고, 10억보다 작거나 같다.\n",
        "<br/>\n",
        "\n",
        "#### 예제 입력 1 \n",
        "2<br/>\n",
        "5 6<br/>\n",
        "0 0 1 0<br/>\n",
        "\n",
        "#### 예제 출력 1 \n",
        "30<br/>\n",
        "30\n",
        "\n",
        "#### 예제 입력 2\n",
        "3<br/>\n",
        "3 4 5<br/>\n",
        "1 0 1 0\n",
        "\n",
        "#### 예제 출력 2 \n",
        "35<br/>\n",
        "17\n",
        "\n",
        "#### 예제 입력 3\n",
        "\n",
        "6<br/>\n",
        "1 2 3 4 5 6<br/>\n",
        "2 1 1 1\n",
        "\n",
        "#### 예제 출력 3\n",
        "\n",
        "54<br/>\n",
        "-24"
      ]
    },
    {
      "cell_type": "markdown",
      "metadata": {
        "id": "P27pwau1v1-e"
      },
      "source": [
        "[참고](https://chul2-ing.tistory.com/67)"
      ]
    },
    {
      "cell_type": "code",
      "metadata": {
        "colab": {
          "base_uri": "https://localhost:8080/"
        },
        "id": "2CPgJO-VsvaP",
        "outputId": "5dc801a5-b06a-4a07-b6e6-d053cbed0de3"
      },
      "source": [
        "import sys\n",
        "input = sys.stdin.readline\n",
        "\n",
        "def solution(idx, num, add, sub, mul, div):\n",
        "    global maxi, mini\n",
        "    if idx == N:\n",
        "        maxi = max(maxi, num)\n",
        "        mini = min(mini, num)\n",
        "        return '\\n'.join(str, [maxi, mini])\n",
        "    \n",
        "    if add:\n",
        "        solution(idx + 1, num + A[idx], add - 1, sub, mul, div)\n",
        "    if sub:\n",
        "        solution(idx + 1, num - A[idx], add, sub - 1, mul, div)\n",
        "    if mul:\n",
        "        solution(idx + 1, num * A[idx], add, sub , mul -1, div)\n",
        "    if div:\n",
        "        solution(idx + 1, int(num / A[idx]), add, sub, mul, div -1)\n",
        "\n",
        "N = int(input())\n",
        "A = list(map(int, input().split()))\n",
        "add, sub, mul, div = map(int, input().split())\n",
        "maxi, mini = -1000000001, 1000000001\n",
        "\n",
        "solution(1, A[0], add, sub, mul, div)\n",
        "print(maxi)\n",
        "print(mini)"
      ],
      "execution_count": 1,
      "outputs": [
        {
          "output_type": "stream",
          "name": "stdout",
          "text": [
            "6\n",
            "1 2 3 4 5 6\n",
            "2 1 1 1\n",
            "54\n",
            "-24\n"
          ]
        }
      ]
    },
    {
      "cell_type": "markdown",
      "metadata": {
        "id": "RyT7Ezg1yz8_"
      },
      "source": [
        "## 23행에서 두번째 파라미터가 `int(num / A[idx])` 인 이유"
      ]
    },
    {
      "cell_type": "code",
      "metadata": {
        "colab": {
          "base_uri": "https://localhost:8080/"
        },
        "id": "-TgB7UAWwemj",
        "outputId": "5c5bbb48-00fb-4eb2-dc6d-18446c12c49e"
      },
      "source": [
        "divmod(-10, 4)    # -10//4 : -3 ---> 문제 요구사항에 맞지 않음"
      ],
      "execution_count": 3,
      "outputs": [
        {
          "output_type": "execute_result",
          "data": {
            "text/plain": [
              "(-3, 2)"
            ]
          },
          "metadata": {},
          "execution_count": 3
        }
      ]
    },
    {
      "cell_type": "code",
      "metadata": {
        "colab": {
          "base_uri": "https://localhost:8080/"
        },
        "id": "HChievDzwwqN",
        "outputId": "9d7a21b6-f229-4b35-e291-fd536fc165a0"
      },
      "source": [
        "int(-10/4)    # ---> 문제 요구사항과 일치"
      ],
      "execution_count": 2,
      "outputs": [
        {
          "output_type": "execute_result",
          "data": {
            "text/plain": [
              "-2"
            ]
          },
          "metadata": {},
          "execution_count": 2
        }
      ]
    }
  ]
}