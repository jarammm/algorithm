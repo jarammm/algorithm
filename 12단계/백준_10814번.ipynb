{
  "nbformat": 4,
  "nbformat_minor": 0,
  "metadata": {
    "colab": {
      "name": "백준 10814번.ipynb",
      "provenance": [],
      "collapsed_sections": [],
      "authorship_tag": "ABX9TyM1e5i0Tdr5LFEFTNwfzCpJ"
    },
    "kernelspec": {
      "name": "python3",
      "display_name": "Python 3"
    },
    "language_info": {
      "name": "python"
    }
  },
  "cells": [
    {
      "cell_type": "markdown",
      "metadata": {
        "id": "ZvL0e96Pk1n3"
      },
      "source": [
        "# 나이순 정렬\n",
        "\n",
        "* 단계별 풀이 : 12단계(정렬) - 9단계 10814번 나이순 정렬\n",
        "> 값이 같은 원소의 전후관계가 바뀌지 않는 정렬 알고리즘을 안정 정렬(stable sort)이라고 합니다.\n",
        "\n",
        "<br/>\n",
        "\n",
        "\n",
        "## 문제\n",
        "\n",
        "온라인 저지에 가입한 사람들의 나이와 이름이 가입한 순서대로 주어진다. 이때, 회원들을 나이가 증가하는 순으로, 나이가 같으면 먼저 가입한 사람이 앞에 오는 순서로 정렬하는 프로그램을 작성하시오.\n",
        "<br/>\n",
        "\n",
        "### 입력\n",
        "첫째 줄에 온라인 저지 회원의 수 N이 주어진다. (1 ≤ N ≤ 100,000)\n",
        "\n",
        "둘째 줄부터 N개의 줄에는 각 회원의 나이와 이름이 공백으로 구분되어 주어진다. 나이는 1보다 크거나 같으며, 200보다 작거나 같은 정수이고, 이름은 알파벳 대소문자로 이루어져 있고, 길이가 100보다 작거나 같은 문자열이다. 입력은 가입한 순서로 주어진다.\n",
        "### 출력\n",
        "첫째 줄부터 총 N개의 줄에 걸쳐 온라인 저지 회원을 나이 순, 나이가 같으면 가입한 순으로 한 줄에 한 명씩 나이와 이름을 공백으로 구분해 출력한다.\n",
        "<br/>\n",
        "\n",
        "#### 예제 입력 1 \n",
        "3<br/>\n",
        "21 Junkyu<br/>\n",
        "21 Dohyun<br/>\n",
        "20 Sunyoung\n",
        "\n",
        "#### 예제 출력 1 \n",
        "20 Sunyoung<br/>\n",
        "21 Junkyu<br/>\n",
        "21 Dohyun\n"
      ]
    },
    {
      "cell_type": "markdown",
      "metadata": {
        "id": "sZRT1l0QD2OE"
      },
      "source": [
        "## 나의 풀이"
      ]
    },
    {
      "cell_type": "code",
      "metadata": {
        "colab": {
          "base_uri": "https://localhost:8080/"
        },
        "id": "gtBP6eLuUn5h",
        "outputId": "b46b203b-d4ef-43dd-f74d-ea7de9101c40"
      },
      "source": [
        "# import sys\n",
        "# N = int(sys.stdin.readline())\n",
        "N = int(input())\n",
        "users = []\n",
        "for _ in range(N):\n",
        "    # age, name = sys.stdin.readline().split()\n",
        "    age, name = input().split()\n",
        "    users.append([int(age), name])\n",
        "\n",
        "users.sort(key=lambda user: user[0])\n",
        "\n",
        "for age, name in users:\n",
        "    print(age, name)"
      ],
      "execution_count": 3,
      "outputs": [
        {
          "output_type": "stream",
          "name": "stdout",
          "text": [
            "3\n",
            "21 a\n",
            "21 b\n",
            "20 c\n",
            "20 c\n",
            "21 a\n",
            "21 b\n"
          ]
        }
      ]
    }
  ]
}
