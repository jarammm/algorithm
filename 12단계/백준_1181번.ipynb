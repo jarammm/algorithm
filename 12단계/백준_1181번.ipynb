{
  "nbformat": 4,
  "nbformat_minor": 0,
  "metadata": {
    "colab": {
      "name": "백준 1181번.ipynb",
      "provenance": [],
      "collapsed_sections": [],
      "authorship_tag": "ABX9TyPtHc0MM+0wCkstgC+w08fA"
    },
    "kernelspec": {
      "name": "python3",
      "display_name": "Python 3"
    },
    "language_info": {
      "name": "python"
    }
  },
  "cells": [
    {
      "cell_type": "markdown",
      "metadata": {
        "id": "ZvL0e96Pk1n3"
      },
      "source": [
        "# 단어 정렬\n",
        "\n",
        "* 단계별 풀이 : 12단계(정렬) - 8단계 1181번 단어 정렬\n",
        "> 단어의 순서를 정의하여 정렬하는 문제\n",
        "\n",
        "<br/>\n",
        "\n",
        "\n",
        "## 문제\n",
        "\n",
        "알파벳 소문자로 이루어진 N개의 단어가 들어오면 아래와 같은 조건에 따라 정렬하는 프로그램을 작성하시오.\n",
        "\n",
        "1. 길이가 짧은 것부터\n",
        "2. 길이가 같으면 사전 순으로\n",
        "<br/>\n",
        "\n",
        "### 입력\n",
        "첫째 줄에 단어의 개수 N이 주어진다. (1 ≤ N ≤ 20,000) 둘째 줄부터 N개의 줄에 걸쳐 알파벳 소문자로 이루어진 단어가 한 줄에 하나씩 주어진다. 주어지는 문자열의 길이는 50을 넘지 않는다.\n",
        "### 출력\n",
        "조건에 따라 정렬하여 단어들을 출력한다. 단, 같은 단어가 여러 번 입력된 경우에는 한 번씩만 출력한다.\n",
        "<br/>\n",
        "\n",
        "#### 예제 입력 1 \n",
        "13<br/>\n",
        "but<br/>\n",
        "i<br/>\n",
        "wont<br/>\n",
        "hesitate<br/>\n",
        "no<br/>\n",
        "more<br/>\n",
        "no<br/>\n",
        "more<br/>\n",
        "it<br/>\n",
        "cannot<br/>\n",
        "wait<br/>\n",
        "im<br/>\n",
        "yours\n",
        "\n",
        "#### 예제 출력 1 \n",
        "i<br/>\n",
        "im<br/>\n",
        "it<br/>\n",
        "no<br/>\n",
        "but<br/>\n",
        "more<br/>\n",
        "wait<br/>\n",
        "wont<br/>\n",
        "yours<br/>\n",
        "cannot<br/>\n",
        "hesitate\n"
      ]
    },
    {
      "cell_type": "markdown",
      "metadata": {
        "id": "sZRT1l0QD2OE"
      },
      "source": [
        "## 나의 풀이"
      ]
    },
    {
      "cell_type": "code",
      "metadata": {
        "colab": {
          "base_uri": "https://localhost:8080/"
        },
        "id": "ANC6x1T-dbGM",
        "outputId": "b7b0fe6d-9f60-4e18-81e5-4af9b1b20df9"
      },
      "source": [
        "N = int(input())\n",
        "words = []\n",
        "\n",
        "for _ in range(N):\n",
        "    words.append(input())\n",
        "\n",
        "set_words = set(words)\n",
        "words = list(set_words)\n",
        "words.sort()\n",
        "words.sort(key = len)\n",
        "\n",
        "for i in words:\n",
        "    print(i)"
      ],
      "execution_count": 22,
      "outputs": [
        {
          "output_type": "stream",
          "name": "stdout",
          "text": [
            "13\n",
            "but\n",
            "i\n",
            "wont\n",
            "hesitate\n",
            "no\n",
            "more\n",
            "no\n",
            "more\n",
            "it\n",
            "cannot\n",
            "wait\n",
            "im\n",
            "yours\n",
            "i\n",
            "im\n",
            "it\n",
            "no\n",
            "but\n",
            "more\n",
            "wait\n",
            "wont\n",
            "yours\n",
            "cannot\n",
            "hesitate\n"
          ]
        }
      ]
    },
    {
      "cell_type": "markdown",
      "metadata": {
        "id": "ssZqTjPjfSNc"
      },
      "source": [
        "## 다른 사람의 풀이\n",
        "\n",
        "[참고](https://velog.io/@1204jh/1181)"
      ]
    },
    {
      "cell_type": "code",
      "metadata": {
        "id": "ErhvpYr2YUxd"
      },
      "source": [
        "import sys\n",
        "\n",
        "n = int(sys.stdin.readline())\n",
        "lst = []\n",
        "\n",
        "for i in range(n):\n",
        "    lst.append(sys.stdin.readline().strip())\n",
        "set_lst = set(lst)\n",
        "lst = list(set_lst)\n",
        "lst.sort()\n",
        "lst.sort(key = len)\n",
        "\n",
        "for i in lst:\n",
        "    print(i)"
      ],
      "execution_count": null,
      "outputs": []
    }
  ]
}
